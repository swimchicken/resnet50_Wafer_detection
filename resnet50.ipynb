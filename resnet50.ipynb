{
  "cells": [
    {
      "cell_type": "markdown",
      "metadata": {
        "id": "view-in-github",
        "colab_type": "text"
      },
      "source": [
        "<a href=\"https://colab.research.google.com/github/swimchicken/resnet50_Wafer_detection/blob/main/resnet50.ipynb\" target=\"_parent\"><img src=\"https://colab.research.google.com/assets/colab-badge.svg\" alt=\"Open In Colab\"/></a>"
      ]
    },
    {
      "cell_type": "markdown",
      "metadata": {
        "id": "XZX3xOdOOaIo"
      },
      "source": [
        "# 前情提要,首先是為何不能直接套用resnet50\n",
        "**1.size問題,所以要分開處理**\n",
        "\n",
        "**2.資料型態問題,resnet50的資料需要特定的樣子,所以要處理成它符合的資料**"
      ]
    },
    {
      "cell_type": "markdown",
      "metadata": {
        "id": "2Sak7sBMPFe1"
      },
      "source": [
        "# 連結google-drive"
      ]
    },
    {
      "cell_type": "code",
      "execution_count": null,
      "metadata": {
        "colab": {
          "base_uri": "https://localhost:8080/"
        },
        "id": "tLnhGunWCKN-",
        "outputId": "90b97565-52b6-4658-be19-7c1f46f33d57"
      },
      "outputs": [
        {
          "name": "stdout",
          "output_type": "stream",
          "text": [
            "Drive already mounted at /content/rndrive; to attempt to forcibly remount, call drive.mount(\"/content/rndrive\", force_remount=True).\n"
          ]
        }
      ],
      "source": [
        "from google.colab import drive\n",
        "drive.mount(\"/content/rndrive\")"
      ]
    },
    {
      "cell_type": "code",
      "execution_count": null,
      "metadata": {
        "colab": {
          "base_uri": "https://localhost:8080/"
        },
        "id": "48pzE4-6CYjH",
        "outputId": "a1a52196-d09b-41ce-bb4d-8591d7bf8179"
      },
      "outputs": [
        {
          "name": "stdout",
          "output_type": "stream",
          "text": [
            "/content/rndrive/MyDrive/wafer\n"
          ]
        }
      ],
      "source": [
        "%cd /content/rndrive/MyDrive/wafer"
      ]
    },
    {
      "cell_type": "markdown",
      "metadata": {
        "id": "KgP60KfrPaJ5"
      },
      "source": [
        "# 載入函式庫(可能重疊或無用)"
      ]
    },
    {
      "cell_type": "code",
      "execution_count": null,
      "metadata": {
        "id": "OfqwJ4zHCFCB"
      },
      "outputs": [],
      "source": [
        "import os\n",
        "import numpy as np\n",
        "import pandas as pd\n",
        "import math\n",
        "\n",
        "import tensorflow as tf\n",
        "import keras\n",
        "from keras import layers, Input, models\n",
        "from keras.utils import layer_utils, to_categorical, plot_model\n",
        "from keras.wrappers.scikit_learn import KerasClassifier\n",
        "from keras.preprocessing import image\n",
        "from keras.utils.data_utils import get_file\n",
        "from keras.applications.imagenet_utils import preprocess_input\n",
        "from keras.utils.vis_utils import model_to_dot\n",
        "from keras import regularizers, optimizers\n",
        "from keras.layers import Dropout\n",
        "\n",
        "from IPython.display import SVG\n",
        "import matplotlib.pyplot as plt\n",
        "from scipy import ndimage, misc\n",
        "\n",
        "from keras import backend as K\n",
        "K.clear_session()\n",
        "\n",
        "%matplotlib inline\n",
        "from matplotlib import gridspec\n",
        "\n",
        "from sklearn.metrics import classification_report, confusion_matrix\n",
        "from sklearn.model_selection import train_test_split, ShuffleSplit\n",
        "from sklearn.utils.multiclass import unique_labels\n",
        "import cv2\n",
        "\n",
        "\n"
      ]
    },
    {
      "cell_type": "code",
      "execution_count": null,
      "metadata": {
        "id": "mNP55tgHC2oa"
      },
      "outputs": [],
      "source": [
        "import pandas as pd\n",
        "import matplotlib.pyplot as plt\n",
        "import numpy as np\n",
        "from matplotlib import gridspec\n",
        "import skimage\n",
        "\n",
        "from skimage import measure\n",
        "from skimage.transform import radon\n",
        "from skimage.transform import probabilistic_hough_line\n",
        "from skimage import measure\n",
        "from scipy import interpolate\n",
        "from scipy import stats\n",
        "\n",
        "\n",
        "from sklearn.model_selection import train_test_split\n",
        "from keras.utils import np_utils\n",
        "from collections import Counter\n",
        "\n",
        "from sklearn.svm import LinearSVC\n",
        "from sklearn.multiclass import OneVsOneClassifier\n",
        "\n",
        "import itertools\n",
        "from sklearn.metrics import confusion_matrix\n",
        "\n",
        "from matplotlib import gridspec"
      ]
    },
    {
      "cell_type": "markdown",
      "metadata": {
        "id": "QgGCAspwPido"
      },
      "source": [
        "# 引入資料並分析"
      ]
    },
    {
      "cell_type": "code",
      "execution_count": null,
      "metadata": {
        "id": "kZWb2Gv5CknT"
      },
      "outputs": [],
      "source": [
        "df = pd.read_pickle(\"WM811K.pkl\")"
      ]
    },
    {
      "cell_type": "code",
      "execution_count": null,
      "metadata": {
        "colab": {
          "base_uri": "https://localhost:8080/"
        },
        "id": "3OWUcGdQvQCp",
        "outputId": "0630ea43-fdab-405b-ea58-cee6ee3abff2"
      },
      "outputs": [
        {
          "name": "stdout",
          "output_type": "stream",
          "text": [
            "<class 'pandas.core.frame.DataFrame'>\n",
            "RangeIndex: 811457 entries, 0 to 811456\n",
            "Data columns (total 6 columns):\n",
            " #   Column          Non-Null Count   Dtype  \n",
            "---  ------          --------------   -----  \n",
            " 0   dieSize         811457 non-null  float64\n",
            " 1   failureType     811457 non-null  object \n",
            " 2   lotName         811457 non-null  object \n",
            " 3   trainTestLabel  811457 non-null  object \n",
            " 4   waferIndex      811457 non-null  float64\n",
            " 5   waferMap        811457 non-null  object \n",
            "dtypes: float64(2), object(4)\n",
            "memory usage: 37.1+ MB\n"
          ]
        }
      ],
      "source": [
        "df.info()"
      ]
    },
    {
      "cell_type": "code",
      "execution_count": null,
      "metadata": {
        "colab": {
          "base_uri": "https://localhost:8080/"
        },
        "id": "zOOinijM0t0b",
        "outputId": "f57afcb3-161f-46c0-9022-eba01a38995a"
      },
      "outputs": [
        {
          "name": "stdout",
          "output_type": "stream",
          "text": [
            "        dieSize failureType   lotName trainTestLabel  waferIndex  \\\n",
            "0        1683.0        none      lot1       Training         1.0   \n",
            "1        1683.0        none      lot1       Training         2.0   \n",
            "2        1683.0        none      lot1       Training         3.0   \n",
            "3        1683.0        none      lot1       Training         4.0   \n",
            "4        1683.0        none      lot1       Training         5.0   \n",
            "...         ...         ...       ...            ...         ...   \n",
            "811452    600.0   Edge-Ring  lot47542           Test        23.0   \n",
            "811453    600.0    Edge-Loc  lot47542           Test        24.0   \n",
            "811454    600.0   Edge-Ring  lot47542           Test        25.0   \n",
            "811455    600.0      [0, 0]  lot47543         [0, 0]         1.0   \n",
            "811456    600.0      [0, 0]  lot47543         [0, 0]         2.0   \n",
            "\n",
            "                                                 waferMap  \n",
            "0       [[0, 0, 0, 0, 0, 0, 0, 0, 0, 0, 0, 0, 0, 0, 0,...  \n",
            "1       [[0, 0, 0, 0, 0, 0, 0, 0, 0, 0, 0, 0, 0, 0, 0,...  \n",
            "2       [[0, 0, 0, 0, 0, 0, 0, 0, 0, 0, 0, 0, 0, 0, 0,...  \n",
            "3       [[0, 0, 0, 0, 0, 0, 0, 0, 0, 0, 0, 0, 0, 0, 0,...  \n",
            "4       [[0, 0, 0, 0, 0, 0, 0, 0, 0, 0, 0, 0, 0, 0, 0,...  \n",
            "...                                                   ...  \n",
            "811452  [[0, 0, 0, 0, 0, 0, 0, 0, 0, 0, 0, 1, 2, 1, 1,...  \n",
            "811453  [[0, 0, 0, 0, 0, 0, 0, 0, 0, 0, 0, 2, 2, 1, 1,...  \n",
            "811454  [[0, 0, 0, 0, 0, 0, 0, 0, 0, 0, 0, 1, 2, 1, 1,...  \n",
            "811455  [[0, 0, 0, 0, 0, 0, 0, 0, 0, 0, 0, 1, 1, 1, 1,...  \n",
            "811456  [[0, 0, 0, 0, 0, 0, 0, 0, 0, 0, 0, 1, 2, 1, 1,...  \n",
            "\n",
            "[811457 rows x 6 columns]\n"
          ]
        }
      ],
      "source": [
        "print(df)"
      ]
    },
    {
      "cell_type": "code",
      "execution_count": null,
      "metadata": {
        "id": "AhOdCQUNvXcX"
      },
      "outputs": [],
      "source": [
        "waferMap_size = df[\"dieSize\"]  #大小\n",
        "waferMap_type = df[\"failureType\"]  #種類  (共有8種,其中包含none)\n",
        "waferMap_lotname = df[\"lotName\"]  #WMSR(排序)\n",
        "waferMap_trainTest = df[\"trainTestLabel\"]  #訓練種類  (包含:train,test,null)\n",
        "waferMap_index = df[\"waferIndex\"]  #失敗類型(1~25)\n",
        "waferMap_img = df[\"waferMap\"]  #晶圓圖(0,1,2 組成)\n"
      ]
    },
    {
      "cell_type": "code",
      "execution_count": null,
      "metadata": {
        "id": "l0qb2yM9EDO1"
      },
      "outputs": [],
      "source": [
        "def replace_arrays(x):\n",
        "    if isinstance(x, np.ndarray):\n",
        "        return 9\n",
        "    else:\n",
        "        return x\n",
        "waferMap_trainTest = waferMap_trainTest.apply(replace_arrays)\n",
        "waferMap_type = waferMap_type.apply(replace_arrays)"
      ]
    },
    {
      "cell_type": "code",
      "execution_count": null,
      "metadata": {
        "id": "hzf4oZeMC9RO"
      },
      "outputs": [],
      "source": [
        "def size(x):\n",
        "    size_row = np.size(x,axis=0)\n",
        "    size_col = np.size(x,axis=1)\n",
        "\n",
        "\n",
        "    return size_row,size_col  #output is turple\n",
        "\n",
        "df[\"wafermap_size\"] = df.waferMap.apply(size)   #圖形尺寸"
      ]
    },
    {
      "cell_type": "code",
      "execution_count": null,
      "metadata": {
        "id": "nam9-NO4C_z8"
      },
      "outputs": [],
      "source": [
        "df['failure_num'] = waferMap_type\n",
        "df['trainTest_num'] = waferMap_trainTest\n",
        "\n",
        "mapping_type = {'Center' : 0,'Donut' : 1,'Edge-Loc' : 2,'Edge-Ring' : 3,'Loc' : 4,'Random' : 5,'Scratch' : 6,'Near-full' : 7,'none' : 8}\n",
        "\n",
        "mapping_train_test = {'Training' : 0,'Test' : 1}\n",
        "\n",
        "df = df.replace({'failure_num':mapping_type, 'trainTest_num':mapping_train_test})\n",
        "\n",
        "\n",
        "\n",
        "tol_wafers = df.shape[0]"
      ]
    },
    {
      "cell_type": "code",
      "execution_count": null,
      "metadata": {
        "colab": {
          "base_uri": "https://localhost:8080/"
        },
        "id": "dzixRd8jwGKH",
        "outputId": "4a42dff7-b0ed-484a-f0f4-ad25645388d8"
      },
      "outputs": [
        {
          "name": "stdout",
          "output_type": "stream",
          "text": [
            "0         8\n",
            "1         8\n",
            "2         8\n",
            "3         8\n",
            "4         8\n",
            "         ..\n",
            "811452    3\n",
            "811453    2\n",
            "811454    3\n",
            "811455    9\n",
            "811456    9\n",
            "Name: failure_num, Length: 811457, dtype: int64\n"
          ]
        }
      ],
      "source": [
        "print(df['failure_num'])"
      ]
    },
    {
      "cell_type": "code",
      "execution_count": null,
      "metadata": {
        "id": "d-KlG7jFDCfO"
      },
      "outputs": [],
      "source": [
        "df_with_label = df[(df['failure_num'] >= 0 ) & (df['failure_num'] <= 8)]  #80萬筆資料中,有17萬張為錯誤晶圓資料,其餘為[0,0]==>正解\n",
        "df_with_label = df_with_label.reset_index()\n",
        "df_with_patter = df[(df['failure_num'] >= 0 ) & (df['failure_num'] <= 7)]  #去除none==> 類型\n",
        "df_with_patter = df_with_patter.reset_index()\n",
        "df_none_patter = df[(df['failure_num'] == 8)]  #只有none==>分辨不出來"
      ]
    },
    {
      "cell_type": "code",
      "execution_count": null,
      "metadata": {
        "colab": {
          "base_uri": "https://localhost:8080/"
        },
        "id": "17EZI6wrwWOQ",
        "outputId": "da9fc132-75af-4df6-a6be-3d009b53cfdf"
      },
      "outputs": [
        {
          "name": "stdout",
          "output_type": "stream",
          "text": [
            "172950\n",
            "25519\n",
            "147431\n"
          ]
        }
      ],
      "source": [
        "print(df_with_label.shape[0])\n",
        "print(df_with_patter.shape[0])\n",
        "print(df_none_patter.shape[0])"
      ]
    },
    {
      "cell_type": "code",
      "execution_count": null,
      "metadata": {
        "colab": {
          "base_uri": "https://localhost:8080/"
        },
        "id": "Frfos98lzEnz",
        "outputId": "9bdcc401-90ad-4ef2-d8c3-6f089fc80d9f"
      },
      "outputs": [
        {
          "name": "stdout",
          "output_type": "stream",
          "text": [
            "        dieSize failureType   lotName trainTestLabel  waferIndex  \\\n",
            "0        1683.0        none      lot1       Training         1.0   \n",
            "1        1683.0        none      lot1       Training         2.0   \n",
            "2        1683.0        none      lot1       Training         3.0   \n",
            "3        1683.0        none      lot1       Training         4.0   \n",
            "4        1683.0        none      lot1       Training         5.0   \n",
            "...         ...         ...       ...            ...         ...   \n",
            "811452    600.0   Edge-Ring  lot47542           Test        23.0   \n",
            "811453    600.0    Edge-Loc  lot47542           Test        24.0   \n",
            "811454    600.0   Edge-Ring  lot47542           Test        25.0   \n",
            "811455    600.0      [0, 0]  lot47543         [0, 0]         1.0   \n",
            "811456    600.0      [0, 0]  lot47543         [0, 0]         2.0   \n",
            "\n",
            "                                                 waferMap wafermap_size  \\\n",
            "0       [[0, 0, 0, 0, 0, 0, 0, 0, 0, 0, 0, 0, 0, 0, 0,...      (45, 48)   \n",
            "1       [[0, 0, 0, 0, 0, 0, 0, 0, 0, 0, 0, 0, 0, 0, 0,...      (45, 48)   \n",
            "2       [[0, 0, 0, 0, 0, 0, 0, 0, 0, 0, 0, 0, 0, 0, 0,...      (45, 48)   \n",
            "3       [[0, 0, 0, 0, 0, 0, 0, 0, 0, 0, 0, 0, 0, 0, 0,...      (45, 48)   \n",
            "4       [[0, 0, 0, 0, 0, 0, 0, 0, 0, 0, 0, 0, 0, 0, 0,...      (45, 48)   \n",
            "...                                                   ...           ...   \n",
            "811452  [[0, 0, 0, 0, 0, 0, 0, 0, 0, 0, 0, 1, 2, 1, 1,...      (26, 30)   \n",
            "811453  [[0, 0, 0, 0, 0, 0, 0, 0, 0, 0, 0, 2, 2, 1, 1,...      (26, 30)   \n",
            "811454  [[0, 0, 0, 0, 0, 0, 0, 0, 0, 0, 0, 1, 2, 1, 1,...      (26, 30)   \n",
            "811455  [[0, 0, 0, 0, 0, 0, 0, 0, 0, 0, 0, 1, 1, 1, 1,...      (26, 30)   \n",
            "811456  [[0, 0, 0, 0, 0, 0, 0, 0, 0, 0, 0, 1, 2, 1, 1,...      (26, 30)   \n",
            "\n",
            "        failure_num  trainTest_num  \n",
            "0                 8              0  \n",
            "1                 8              0  \n",
            "2                 8              0  \n",
            "3                 8              0  \n",
            "4                 8              0  \n",
            "...             ...            ...  \n",
            "811452            3              1  \n",
            "811453            2              1  \n",
            "811454            3              1  \n",
            "811455            9              9  \n",
            "811456            9              9  \n",
            "\n",
            "[811457 rows x 9 columns]\n"
          ]
        }
      ],
      "source": [
        "print(df)"
      ]
    },
    {
      "cell_type": "markdown",
      "metadata": {
        "id": "deImthcbPrM8"
      },
      "source": [
        "# 分類尺寸資料 ==> (25,27),(26,26),(27,25)\n",
        "\n",
        "**主要是將尺寸統一成(27,27)**"
      ]
    },
    {
      "cell_type": "code",
      "execution_count": null,
      "metadata": {
        "id": "-iFTv0PuzH7T"
      },
      "outputs": [],
      "source": [
        "sub_df = df.loc[df[\"wafermap_size\"] == (25, 27)]\n",
        "sub_wafer = sub_df[\"waferMap\"].values"
      ]
    },
    {
      "cell_type": "code",
      "execution_count": null,
      "metadata": {
        "colab": {
          "base_uri": "https://localhost:8080/"
        },
        "id": "ugUHhzALzPsf",
        "outputId": "46dbc71a-ea0f-47bf-c598-13c3be72c2ce"
      },
      "outputs": [
        {
          "name": "stdout",
          "output_type": "stream",
          "text": [
            "        dieSize failureType   lotName trainTestLabel  waferIndex  \\\n",
            "10206     515.0      [0, 0]   lot1904         [0, 0]         8.0   \n",
            "10207     515.0      [0, 0]   lot1904         [0, 0]         9.0   \n",
            "10208     515.0      [0, 0]   lot1904         [0, 0]        11.0   \n",
            "10209     515.0      [0, 0]   lot1904         [0, 0]        12.0   \n",
            "10210     515.0      [0, 0]   lot1904         [0, 0]        13.0   \n",
            "...         ...         ...       ...            ...         ...   \n",
            "742514    515.0      [0, 0]  lot44744         [0, 0]        19.0   \n",
            "742515    515.0      [0, 0]  lot44744         [0, 0]        20.0   \n",
            "742516    515.0      [0, 0]  lot44744         [0, 0]        21.0   \n",
            "742517    515.0      [0, 0]  lot44744         [0, 0]        22.0   \n",
            "742518    515.0      [0, 0]  lot44744         [0, 0]        23.0   \n",
            "\n",
            "                                                 waferMap wafermap_size  \\\n",
            "10206   [[0, 0, 0, 0, 0, 0, 0, 0, 0, 0, 0, 2, 2, 2, 2,...      (25, 27)   \n",
            "10207   [[0, 0, 0, 0, 0, 0, 0, 0, 0, 0, 0, 2, 2, 2, 2,...      (25, 27)   \n",
            "10208   [[0, 0, 0, 0, 0, 0, 0, 0, 0, 0, 0, 2, 2, 2, 2,...      (25, 27)   \n",
            "10209   [[0, 0, 0, 0, 0, 0, 0, 0, 0, 0, 0, 2, 2, 2, 2,...      (25, 27)   \n",
            "10210   [[0, 0, 0, 0, 0, 0, 0, 0, 0, 0, 0, 2, 2, 2, 2,...      (25, 27)   \n",
            "...                                                   ...           ...   \n",
            "742514  [[0, 0, 0, 0, 0, 0, 0, 0, 0, 0, 0, 2, 2, 2, 2,...      (25, 27)   \n",
            "742515  [[0, 0, 0, 0, 0, 0, 0, 0, 0, 0, 0, 2, 2, 2, 1,...      (25, 27)   \n",
            "742516  [[0, 0, 0, 0, 0, 0, 0, 0, 0, 0, 0, 2, 2, 2, 2,...      (25, 27)   \n",
            "742517  [[0, 0, 0, 0, 0, 0, 0, 0, 0, 0, 0, 2, 2, 2, 2,...      (25, 27)   \n",
            "742518  [[0, 0, 0, 0, 0, 0, 0, 0, 0, 0, 0, 2, 2, 2, 2,...      (25, 27)   \n",
            "\n",
            "        failure_num  trainTest_num  \n",
            "10206             9              9  \n",
            "10207             9              9  \n",
            "10208             9              9  \n",
            "10209             9              9  \n",
            "10210             9              9  \n",
            "...             ...            ...  \n",
            "742514            9              9  \n",
            "742515            9              9  \n",
            "742516            9              9  \n",
            "742517            9              9  \n",
            "742518            9              9  \n",
            "\n",
            "[64083 rows x 9 columns]\n",
            "64083\n",
            "64083\n",
            "10206     [0, 0]\n",
            "10207     [0, 0]\n",
            "10208     [0, 0]\n",
            "10209     [0, 0]\n",
            "10210     [0, 0]\n",
            "           ...  \n",
            "742514    [0, 0]\n",
            "742515    [0, 0]\n",
            "742516    [0, 0]\n",
            "742517    [0, 0]\n",
            "742518    [0, 0]\n",
            "Name: failureType, Length: 64083, dtype: object\n"
          ]
        }
      ],
      "source": [
        "print(sub_df)\n",
        "print(sub_df.shape[0])\n",
        "print(sub_wafer.shape[0])\n",
        "print(sub_df[\"failureType\"])"
      ]
    },
    {
      "cell_type": "code",
      "execution_count": null,
      "metadata": {
        "colab": {
          "base_uri": "https://localhost:8080/",
          "height": 447
        },
        "id": "Ss3HYRiMkV8v",
        "outputId": "7df1d1bf-a2ba-405c-db67-8de1280161df"
      },
      "outputs": [
        {
          "data": {
            "text/plain": [
              "<matplotlib.image.AxesImage at 0x7fd8abec21f0>"
            ]
          },
          "execution_count": 22,
          "metadata": {},
          "output_type": "execute_result"
        },
        {
          "data": {
            "image/png": "[encoded data removed]",
            "text/plain": [
              "<Figure size 640x480 with 1 Axes>"
            ]
          },
          "metadata": {},
          "output_type": "display_data"
        }
      ],
      "source": [
        "plt.imshow(sub_df[\"waferMap\"][742518])"
      ]
    },
    {
      "cell_type": "code",
      "execution_count": null,
      "metadata": {
        "colab": {
          "base_uri": "https://localhost:8080/"
        },
        "id": "QsGWXFAd5PBB",
        "outputId": "f88b7935-3799-4469-c0c5-f8320af8f583"
      },
      "outputs": [
        {
          "name": "stdout",
          "output_type": "stream",
          "text": [
            "        dieSize failureType   lotName trainTestLabel  waferIndex  \\\n",
            "10206     515.0          []   lot1904             []         8.0   \n",
            "10207     515.0          []   lot1904             []         9.0   \n",
            "10208     515.0          []   lot1904             []        11.0   \n",
            "10209     515.0          []   lot1904             []        12.0   \n",
            "10210     515.0          []   lot1904             []        13.0   \n",
            "...         ...         ...       ...            ...         ...   \n",
            "742514    515.0          []  lot44744             []        19.0   \n",
            "742515    515.0          []  lot44744             []        20.0   \n",
            "742516    515.0          []  lot44744             []        21.0   \n",
            "742517    515.0          []  lot44744             []        22.0   \n",
            "742518    515.0          []  lot44744             []        23.0   \n",
            "\n",
            "                                                 waferMap wafermap_size  \\\n",
            "10206   [[0, 0, 0, 0, 0, 0, 0, 0, 0, 0, 0, 2, 2, 2, 2,...      (25, 27)   \n",
            "10207   [[0, 0, 0, 0, 0, 0, 0, 0, 0, 0, 0, 2, 2, 2, 2,...      (25, 27)   \n",
            "10208   [[0, 0, 0, 0, 0, 0, 0, 0, 0, 0, 0, 2, 2, 2, 2,...      (25, 27)   \n",
            "10209   [[0, 0, 0, 0, 0, 0, 0, 0, 0, 0, 0, 2, 2, 2, 2,...      (25, 27)   \n",
            "10210   [[0, 0, 0, 0, 0, 0, 0, 0, 0, 0, 0, 2, 2, 2, 2,...      (25, 27)   \n",
            "...                                                   ...           ...   \n",
            "742514  [[0, 0, 0, 0, 0, 0, 0, 0, 0, 0, 0, 2, 2, 2, 2,...      (25, 27)   \n",
            "742515  [[0, 0, 0, 0, 0, 0, 0, 0, 0, 0, 0, 2, 2, 2, 1,...      (25, 27)   \n",
            "742516  [[0, 0, 0, 0, 0, 0, 0, 0, 0, 0, 0, 2, 2, 2, 2,...      (25, 27)   \n",
            "742517  [[0, 0, 0, 0, 0, 0, 0, 0, 0, 0, 0, 2, 2, 2, 2,...      (25, 27)   \n",
            "742518  [[0, 0, 0, 0, 0, 0, 0, 0, 0, 0, 0, 2, 2, 2, 2,...      (25, 27)   \n",
            "\n",
            "        failure_num  trainTest_num  \n",
            "10206             9              9  \n",
            "10207             9              9  \n",
            "10208             9              9  \n",
            "10209             9              9  \n",
            "10210             9              9  \n",
            "...             ...            ...  \n",
            "742514            9              9  \n",
            "742515            9              9  \n",
            "742516            9              9  \n",
            "742517            9              9  \n",
            "742518            9              9  \n",
            "\n",
            "[64083 rows x 9 columns]\n"
          ]
        },
        {
          "name": "stderr",
          "output_type": "stream",
          "text": [
            "<ipython-input-23-8c58815a93a0>:7: SettingWithCopyWarning: \n",
            "A value is trying to be set on a copy of a slice from a DataFrame.\n",
            "Try using .loc[row_indexer,col_indexer] = value instead\n",
            "\n",
            "See the caveats in the documentation: https://pandas.pydata.org/pandas-docs/stable/user_guide/indexing.html#returning-a-view-versus-a-copy\n",
            "  sub_df[\"failureType\"] = sub_df[\"failureType\"].apply(replace_arrays_1)\n",
            "<ipython-input-23-8c58815a93a0>:8: SettingWithCopyWarning: \n",
            "A value is trying to be set on a copy of a slice from a DataFrame.\n",
            "Try using .loc[row_indexer,col_indexer] = value instead\n",
            "\n",
            "See the caveats in the documentation: https://pandas.pydata.org/pandas-docs/stable/user_guide/indexing.html#returning-a-view-versus-a-copy\n",
            "  sub_df[\"trainTestLabel\"] = sub_df[\"trainTestLabel\"].apply(replace_arrays_1)\n"
          ]
        }
      ],
      "source": [
        "def replace_arrays_1(x):\n",
        "    if isinstance(x, np.ndarray):\n",
        "        return []\n",
        "    else:\n",
        "        return x\n",
        "\n",
        "sub_df[\"failureType\"] = sub_df[\"failureType\"].apply(replace_arrays_1)\n",
        "sub_df[\"trainTestLabel\"] = sub_df[\"trainTestLabel\"].apply(replace_arrays_1)\n",
        "\n",
        "print(sub_df)\n"
      ]
    },
    {
      "cell_type": "code",
      "execution_count": null,
      "metadata": {
        "id": "EVg7jMCuzco_"
      },
      "outputs": [],
      "source": [
        "sw = np.ones((1, 25, 27))\n",
        "label = list()\n",
        "\n",
        "for i in range(len(sub_df)):\n",
        "    if len(sub_df.iloc[i,:][\"failureType\"]) == 0:\n",
        "        continue\n",
        "    sw = np.concatenate((sw, sub_df.iloc[i,:][\"waferMap\"].reshape(1, 25, 27)))\n",
        "    label.append(sub_df.iloc[i,:][\"failureType\"])"
      ]
    },
    {
      "cell_type": "code",
      "execution_count": null,
      "metadata": {
        "colab": {
          "base_uri": "https://localhost:8080/"
        },
        "id": "a99u1OgAHnBq",
        "outputId": "bfcee494-5ec9-4253-fe3b-12fc8963f206"
      },
      "outputs": [
        {
          "name": "stdout",
          "output_type": "stream",
          "text": [
            "18782\n",
            "['Edge-Loc', 'Edge-Loc', 'Edge-Loc', 'Edge-Loc', 'Edge-Loc', 'Edge-Loc', 'Edge-Loc', 'Edge-Loc', 'Edge-Loc', 'Edge-Loc', 'Edge-Loc', 'Edge-Loc', 'Edge-Loc', 'Edge-Loc', 'Edge-Loc', 'Edge-Loc', 'Edge-Loc', 'Edge-Loc', 'Edge-Loc', 'Edge-Loc', 'Edge-Loc', 'Edge-Loc', 'Edge-Loc', 'Edge-Loc', 'Edge-Loc', 'Edge-Loc', 'Edge-Loc', 'Edge-Loc', 'Edge-Loc', 'Edge-Loc', 'Edge-Loc', 'Edge-Loc', 'Edge-Loc', 'Edge-Loc', 'Edge-Loc', 'Edge-Loc', 'Edge-Loc', 'Edge-Loc', 'Edge-Loc', 'Center', 'Center', 'Center', 'Center', 'Center', 'Center', 'Center', 'Edge-Loc', 'Edge-Loc', 'Center', 'Center', 'Center', 'Center', 'Loc', 'Loc', 'Loc', 'Loc', 'Loc', 'Loc', 'Center', 'Center', 'Center', 'Center', 'Center', 'Center', 'Center', 'Center', 'Edge-Loc', 'Edge-Loc', 'Edge-Loc', 'Edge-Loc', 'Edge-Loc', 'Center', 'Center', 'Random', 'Random', 'Random', 'Random', 'Center', 'Center', 'Center', 'Center', 'Center', 'Center', 'Center', 'Center', 'Center', 'Center', 'Center', 'Center', 'Center', 'Center', 'Center', 'Center', 'Center', 'Center', 'Center', 'Center', 'Center', 'Center', 'Center', 'Random', 'Center', 'Random', 'Center', 'Center', 'Center', 'Center', 'Center', 'Center', 'Center', 'Center', 'Center', 'Center', 'Center', 'Center', 'Center', 'Center', 'Center', 'Center', 'Center', 'Center', 'Center', 'Center', 'Center', 'Center', 'Center', 'Center', 'Center', 'Center', 'Center', 'Center', 'Random', 'Center', 'Center', 'Random', 'Center', 'Center', 'Random', 'Center', 'Random', 'Center', 'Center', 'Center', 'Center', 'Center', 'Center', 'Center', 'Center', 'Center', 'Center', 'Center', 'Center', 'Center', 'Center', 'Center', 'Center', 'Center', 'Center', 'Center', 'Center', 'Center', 'Center', 'Center', 'Center', 'Center', 'Center', 'Center', 'Center', 'Center', 'Center', 'Center', 'Center', 'Center', 'Random', 'Random', 'Random', 'Edge-Loc', 'Edge-Loc', 'Center', 'Center', 'Center', 'Center', 'Center', 'Center', 'Center', 'Center', 'Center', 'Center', 'Loc', 'Loc', 'Edge-Loc', 'Scratch', 'Edge-Ring', 'Edge-Ring', 'Edge-Ring', 'Edge-Ring', 'Edge-Ring', 'Edge-Ring', 'Edge-Ring', 'Scratch', 'Scratch', 'Scratch', 'Edge-Ring', 'Edge-Ring', 'Edge-Ring', 'Edge-Ring', 'Edge-Ring', 'Edge-Ring', 'Center', 'Center', 'Center', 'Center', 'Center', 'Center', 'Center', 'Center', 'Center', 'Center', 'Center', 'Center', 'Center', 'Center', 'Center', 'Center', 'Center', 'Center', 'Center', 'Center', 'Center', 'Center', 'Center', 'Center', 'Center', 'Center', 'Center', 'Center', 'Edge-Ring', 'Edge-Ring', 'Center', 'Center', 'Center', 'Center', 'Center', 'Center', 'Center', 'Center', 'Center', 'Center', 'Center', 'Center', 'Center', 'Center', 'Center', 'Center', 'Center', 'Center', 'Center', 'Center', 'Center', 'Center', 'Center', 'Center', 'Center', 'Center', 'Center', 'Center', 'Center', 'Center', 'Center', 'Center', 'Center', 'Center', 'Center', 'Center', 'Center', 'Center', 'Center', 'Center', 'Center', 'Center', 'Center', 'Center', 'Center', 'Center', 'Center', 'Center', 'Center', 'Center', 'Center', 'Center', 'Center', 'Center', 'Center', 'Center', 'Center', 'Center', 'Center', 'Center', 'Center', 'Center', 'Center', 'Center', 'Center', 'Center', 'Center', 'Center', 'Center', 'Center', 'Center', 'Center', 'Center', 'Center', 'Center', 'Center', 'Center', 'Center', 'Center', 'Center', 'Center', 'Center', 'Center', 'Center', 'Center', 'Center', 'Center', 'Center', 'Center', 'Center', 'Center', 'Center', 'Center', 'Center', 'Center', 'Center', 'Center', 'Center', 'Center', 'Center', 'Center', 'Center', 'Center', 'Center', 'Center', 'Center', 'Center', 'Center', 'Center', 'Center', 'Center', 'Center', 'Center', 'Center', 'Center', 'Center', 'Center', 'Center', 'Center', 'Center', 'Center', 'Center', 'Center', 'Center', 'Center', 'Center', 'Center', 'Center', 'Center', 'Center', 'Center', 'Center', 'Center', 'Center', 'Center', 'Center', 'Center', 'Center', 'Center', 'Center', 'Center', 'Center', 'Center', 'Center', 'Center', 'Center', 'Center', 'Center', 'Center', 'Center', 'Center', 'Center', 'Edge-Loc', 'Edge-Loc', 'Center', 'Center', 'Center', 'Center', 'Center', 'Center', 'Center', 'Center', 'Center', 'Edge-Loc', 'Center', 'Center', 'Center', 'Edge-Loc', 'Center', 'Center', 'Center', 'Center', 'Center', 'Center', 'Center', 'Center', 'Center', 'Center', 'Center', 'Center', 'Center', 'Center', 'Center', 'Center', 'Center', 'Center', 'Edge-Loc', 'Edge-Loc', 'Edge-Loc', 'Edge-Loc', 'Loc', 'Edge-Loc', 'Loc', 'Loc', 'Loc', 'Center', 'Center', 'Center', 'Center', 'Center', 'Center', 'Center', 'Center', 'Center', 'Center', 'Center', 'Center', 'Center', 'Center', 'Center', 'Center', 'Center', 'Center', 'Center', 'Center', 'Center', 'Center', 'Center', 'Center', 'Center', 'Center', 'Center', 'Center', 'Center', 'Center', 'Center', 'Center', 'Center', 'Center', 'Center', 'Center', 'Center', 'Center', 'Center', 'Center', 'Center', 'Center', 'Center', 'Center', 'Center', 'Center', 'Center', 'Center', 'Center', 'Center', 'Center', 'Center', 'Center', 'Center', 'Center', 'Center', 'Center', 'Center', 'Center', 'Center', 'Center', 'Center', 'Center', 'Center', 'Center', 'Center', 'Center', 'Center', 'Center', 'Center', 'Center', 'Center', 'Center', 'Center', 'Center', 'Center', 'Center', 'Center', 'Center', 'Center', 'Center', 'Center', 'Center', 'Center', 'Center', 'Center', 'Center', 'Center', 'Center', 'Center', 'Center', 'Center', 'Center', 'Center', 'Center', 'Center', 'Center', 'Center', 'Center', 'Center', 'Center', 'Center', 'Center', 'Center', 'Center', 'Center', 'Center', 'Center', 'Center', 'Center', 'Center', 'Center', 'Center', 'Center', 'Center', 'Center', 'Center', 'Center', 'Center', 'Center', 'Center', 'Center', 'Center', 'Center', 'Center', 'Center', 'Center', 'Center', 'Center', 'Center', 'Center', 'Center', 'Center', 'Center', 'Center', 'Center', 'Center', 'Center', 'Center', 'Center', 'Center', 'Center', 'Center', 'Center', 'Center', 'Center', 'Center', 'Center', 'Center', 'Center', 'Center', 'Center', 'Center', 'Center', 'Center', 'Center', 'Center', 'Center', 'Center', 'Center', 'Center', 'Center', 'Center', 'Center', 'Center', 'Center', 'Center', 'Center', 'Center', 'Center', 'Center', 'Center', 'Center', 'Center', 'Center', 'Center', 'Center', 'Center', 'Center', 'Center', 'Center', 'Center', 'Center', 'Center', 'Center', 'Center', 'Center', 'Center', 'Center', 'Center', 'Center', 'Center', 'Center', 'Center', 'Center', 'Center', 'Center', 'Center', 'Center', 'Center', 'Center', 'Center', 'Center', 'Center', 'Center', 'Center', 'Center', 'Center', 'Center', 'Center', 'Center', 'Center', 'Center', 'Center', 'Center', 'Center', 'Center', 'Center', 'Center', 'Center', 'Center', 'Center', 'Center', 'Center', 'Center', 'Center', 'Center', 'Center', 'Center', 'Center', 'Center', 'Center', 'Center', 'Center', 'Center', 'Center', 'Center', 'Center', 'Center', 'Center', 'Center', 'Center', 'Center', 'Center', 'Center', 'Center', 'Center', 'Center', 'Center', 'Center', 'Center', 'Center', 'Center', 'Center', 'Center', 'Center', 'Center', 'Center', 'Center', 'Center', 'Center', 'Center', 'Center', 'Center', 'Center', 'Center', 'Center', 'Center', 'Center', 'Center', 'Center', 'Center', 'Center', 'Center', 'Center', 'Center', 'Center', 'Center', 'Center', 'Center', 'Center', 'Center', 'Center', 'Center', 'Center', 'Center', 'Center', 'Center', 'Center', 'Center', 'Center', 'Center', 'Center', 'Center', 'Edge-Loc', 'Center', 'Center', 'Center', 'Center', 'Center', 'Center', 'Center', 'Center', 'Edge-Loc', 'Center', 'Center', 'Center', 'Center', 'Center', 'Center', 'Center', 'Center', 'Center', 'Center', 'Center', 'Center', 'Center', 'Center', 'Center', 'Center', 'Center', 'Center', 'Center', 'Center', 'Center', 'Center', 'Center', 'Center', 'Center', 'Center', 'Center', 'Center', 'Center', 'Center', 'Center', 'Center', 'Center', 'Center', 'Center', 'Center', 'Center', 'Center', 'Center', 'Center', 'Center', 'Center', 'Center', 'Center', 'Center', 'Center', 'Center', 'Center', 'Center', 'Center', 'Center', 'Center', 'Center', 'Center', 'Center', 'Center', 'Center', 'Center', 'Center', 'Center', 'Center', 'Center', 'Center', 'Center', 'Center', 'Center', 'Edge-Loc', 'Center', 'Center', 'Center', 'Center', 'Center', 'Center', 'Center', 'Edge-Loc', 'Center', 'Center', 'Center', 'Center', 'Center', 'Center', 'Center', 'Center', 'Center', 'Center', 'Center', 'Edge-Loc', 'Center', 'Center', 'Edge-Loc', 'Center', 'Center', 'Edge-Loc', 'Edge-Loc', 'Center', 'Center', 'Center', 'Center', 'Center', 'Center', 'Center', 'Center', 'Center', 'Center', 'Center', 'Center', 'Center', 'Center', 'Center', 'Center', 'Center', 'Center', 'Center', 'Center', 'Center', 'Center', 'Center', 'Center', 'Center', 'Center', 'Center', 'Center', 'Center', 'Center', 'Center', 'Center', 'Center', 'Center', 'Center', 'Center', 'Center', 'Center', 'Center', 'Center', 'Center', 'Center', 'Center', 'Center', 'Center', 'Center', 'Center', 'Center', 'Center', 'Center', 'Center', 'Center', 'Center', 'Center', 'Center', 'Center', 'Center', 'Center', 'Center', 'Center', 'Center', 'Center', 'Center', 'Center', 'Center', 'Center', 'Center', 'Center', 'Center', 'Center', 'Center', 'Center', 'Center', 'Center', 'Center', 'Center', 'Center', 'Center', 'Center', 'Center', 'Center', 'Center', 'Center', 'Center', 'Center', 'Center', 'Center', 'Center', 'Center', 'Center', 'Center', 'Center', 'Center', 'Center', 'Center', 'Center', 'Center', 'Center', 'Center', 'Center', 'Center', 'Center', 'Center', 'Center', 'Center', 'Center', 'Center', 'Center', 'Center', 'Center', 'Center', 'Center', 'Center', 'Center', 'Center', 'Center', 'Center', 'Center', 'Center', 'Center', 'Center', 'Center', 'Center', 'Center', 'Center', 'Center', 'Center', 'Center', 'Center', 'Center', 'Center', 'Center', 'Center', 'Center', 'Center', 'Center', 'Center', 'Center', 'Center', 'Center', 'Center', 'Center', 'Center', 'Center', 'Center', 'Center', 'Center', 'Center', 'Center', 'Center', 'Center', 'Center', 'Center', 'Center', 'Center', 'Center', 'Center', 'Center', 'Center', 'Center', 'Center', 'Center', 'Center', 'Center', 'Center', 'Center', 'Center', 'Center', 'Center', 'Center', 'Center', 'Center', 'Center', 'Center', 'Center', 'Center', 'Center', 'Center', 'Center', 'Center', 'Center', 'Center', 'Center', 'Center', 'Center', 'Center', 'Center', 'Center', 'Center', 'Center', 'Center', 'Center', 'Center', 'Center', 'Center', 'Center', 'Center', 'Center', 'Center', 'Center', 'Center', 'Center', 'Center', 'Center', 'Center', 'Center', 'Center', 'Center', 'Center', 'Center', 'Center', 'Center', 'Center', 'Center', 'Center', 'Center', 'Center', 'Center', 'Center', 'Center', 'Center', 'Center', 'Center', 'Center', 'Center', 'Center', 'Center', 'Center', 'Center', 'Center', 'Center', 'Center', 'Center', 'Center', 'Edge-Loc', 'Center', 'Center', 'Center', 'Center', 'Center', 'Center', 'Center', 'Center', 'Center', 'Center', 'Edge-Loc', 'Center', 'Center', 'Center', 'Center', 'Center', 'Center', 'Center', 'Center', 'Edge-Loc', 'Center', 'Center', 'Center', 'Center', 'Center', 'Center', 'Center', 'Center', 'Center', 'Center', 'Center', 'Center', 'Center', 'Center', 'Center', 'Center', 'Center', 'Center', 'Center', 'Center', 'Center', 'Center', 'Center', 'Center', 'Center', 'Center', 'Center', 'Center', 'Center', 'Center', 'Edge-Loc', 'Center', 'Center', 'Center', 'Center', 'Center', 'Center', 'Center', 'Center', 'Center', 'Center', 'Center', 'Center', 'Center', 'Center', 'Center', 'Center', 'Center', 'Center', 'Center', 'Center', 'Center', 'Center', 'Center', 'Center', 'Center', 'Center', 'Center', 'Center', 'Center', 'Center', 'Center', 'Center', 'Center', 'Center', 'Center', 'Center', 'Center', 'Center', 'Center', 'Center', 'Center', 'Center', 'Center', 'Center', 'Center', 'Center', 'Center', 'Center', 'Center', 'Center', 'Center', 'Center', 'Center', 'Center', 'Center', 'Edge-Loc', 'Center', 'Edge-Loc', 'Center', 'Center', 'Center', 'Center', 'Center', 'Center', 'Center', 'Center', 'Center', 'Center', 'Center', 'Center', 'Edge-Loc', 'Center', 'Edge-Loc', 'Center', 'Center', 'Center', 'Center', 'Center', 'Center', 'Center', 'Center', 'Center', 'Center', 'Center', 'Center', 'Center', 'Center', 'Edge-Loc', 'Edge-Loc', 'Center', 'Center', 'Center', 'Center', 'Center', 'Edge-Loc', 'Center', 'Center', 'Center', 'Center', 'Edge-Loc', 'Center', 'Center', 'Center', 'Center', 'Center', 'Edge-Loc', 'Edge-Loc', 'Center', 'Center', 'Center', 'Center', 'Center', 'Center', 'Center', 'Center', 'Center', 'Center', 'Center', 'Center', 'Center', 'Center', 'Center', 'Center', 'Center', 'Center', 'Center', 'Center', 'Center', 'Center', 'Center', 'Center', 'Center', 'Center', 'Edge-Loc', 'Center', 'Center', 'Center', 'Center', 'Center', 'Center', 'Center', 'Center', 'Center', 'Center', 'Center', 'Center', 'Center', 'Edge-Loc', 'Center', 'Center', 'Center', 'Center', 'Center', 'Center', 'Center', 'Center', 'Center', 'Center', 'Center', 'Center', 'Center', 'Center', 'Center', 'Center', 'Center', 'Center', 'Center', 'Center', 'Center', 'Center', 'Center', 'Center', 'Center', 'Center', 'Center', 'Center', 'Center', 'Center', 'Center', 'Center', 'Center', 'Center', 'Center', 'Center', 'Center', 'Center', 'Center', 'Center', 'Center', 'Center', 'Center', 'Center', 'Center', 'Center', 'Center', 'Center', 'Center', 'Center', 'Center', 'Center', 'Center', 'Center', 'Center', 'Center', 'Center', 'Center', 'Center', 'Center', 'Center', 'Center', 'Center', 'Center', 'Center', 'Center', 'Center', 'Edge-Loc', 'Edge-Loc', 'Edge-Loc', 'Edge-Loc', 'Center', 'Edge-Loc', 'Center', 'Center', 'Edge-Loc', 'Center', 'Center', 'Center', 'Center', 'Center', 'Center', 'Center', 'Center', 'Center', 'Center', 'Center', 'Center', 'Center', 'Center', 'Center', 'Center', 'Center', 'Center', 'Center', 'Center', 'Center', 'Center', 'Center', 'Center', 'Center', 'Center', 'Center', 'Center', 'Center', 'Center', 'Center', 'Center', 'Center', 'Center', 'Center', 'Center', 'Center', 'Center', 'Center', 'Center', 'Center', 'Center', 'Center', 'Center', 'Center', 'Center', 'Center', 'Center', 'Center', 'Center', 'Center', 'Center', 'Center', 'Center', 'Center', 'Center', 'Center', 'Center', 'Center', 'Center', 'Edge-Loc', 'Center', 'Center', 'Center', 'Center', 'Center', 'Center', 'Center', 'Center', 'Center', 'Center', 'Center', 'Center', 'Center', 'Center', 'Center', 'Center', 'Center', 'Center', 'Center', 'Center', 'Center', 'Center', 'Center', 'Center', 'Center', 'Center', 'Center', 'Center', 'Center', 'Center', 'Center', 'Center', 'Center', 'Center', 'Center', 'Center', 'Center', 'Center', 'Center', 'Center', 'Center', 'Center', 'Center', 'Center', 'Center', 'Center', 'Center', 'Center', 'Center', 'Center', 'Center', 'Center', 'Center', 'Center', 'Center', 'Center', 'Center', 'Center', 'Center', 'Center', 'Edge-Loc', 'Center', 'Center', 'Center', 'Center', 'Center', 'Center', 'Center', 'Center', 'Edge-Loc', 'Center', 'Center', 'Center', 'Center', 'Center', 'Center', 'Center', 'Center', 'Center', 'Center', 'Center', 'Center', 'Center', 'Center', 'Center', 'Center', 'Center', 'Center', 'Center', 'Center', 'Center', 'Center', 'Center', 'Edge-Loc', 'Center', 'Center', 'Center', 'Center', 'Center', 'Center', 'Center', 'Center', 'Center', 'Center', 'Center', 'Center', 'Center', 'Center', 'Center', 'Center', 'Center', 'Center', 'Center', 'Center', 'Center', 'Center', 'Center', 'Center', 'Center', 'Center', 'Center', 'Center', 'Center', 'Center', 'Center', 'Center', 'Center', 'Center', 'Center', 'Center', 'Center', 'Center', 'Center', 'Center', 'Center', 'Center', 'Center', 'Center', 'Center', 'Center', 'Center', 'Center', 'Center', 'Center', 'Center', 'Center', 'Center', 'Center', 'Center', 'Center', 'Center', 'Center', 'Center', 'Center', 'Center', 'Center', 'Center', 'Center', 'Center', 'Center', 'Center', 'Center', 'Center', 'Center', 'Center', 'Center', 'Center', 'Center', 'Center', 'Center', 'Center', 'Center', 'Center', 'Center', 'Center', 'Center', 'Center', 'Center', 'Center', 'Center', 'Center', 'Center', 'Center', 'Center', 'Center', 'Center', 'Center', 'Center', 'Center', 'Center', 'Center', 'Center', 'Center', 'Center', 'Center', 'Center', 'Center', 'Center', 'Center', 'Center', 'Center', 'Center', 'Center', 'Center', 'Center', 'Center', 'Center', 'Center', 'Center', 'Center', 'Center', 'Center', 'Center', 'Center', 'Center', 'Center', 'Center', 'Center', 'Center', 'Center', 'Center', 'Center', 'Center', 'Center', 'Center', 'Center', 'Center', 'Center', 'Center', 'Center', 'Center', 'Center', 'Center', 'Center', 'Center', 'Center', 'Center', 'Center', 'Center', 'Center', 'Center', 'Center', 'Center', 'Center', 'Center', 'Center', 'Center', 'Center', 'Center', 'Center', 'Center', 'Center', 'Center', 'Center', 'Center', 'Center', 'Center', 'Center', 'Center', 'Center', 'Center', 'Center', 'Center', 'Center', 'Center', 'Center', 'Center', 'Center', 'Center', 'Center', 'Center', 'Center', 'Center', 'Center', 'Center', 'Center', 'Center', 'Center', 'Center', 'Center', 'Center', 'Center', 'Center', 'Center', 'Center', 'Center', 'Center', 'Center', 'Center', 'Center', 'Center', 'Center', 'Center', 'Center', 'Center', 'Center', 'Center', 'Center', 'Center', 'Center', 'Center', 'Center', 'Center', 'Center', 'Center', 'Center', 'Center', 'Center', 'Center', 'Center', 'Center', 'Center', 'Center', 'Center', 'Center', 'Center', 'Center', 'Center', 'Center', 'Center', 'Center', 'Center', 'Center', 'Center', 'Center', 'Center', 'Center', 'Center', 'Center', 'Center', 'Center', 'Center', 'Center', 'Center', 'Center', 'Center', 'Center', 'Center', 'Center', 'Center', 'Center', 'Center', 'Center', 'Center', 'Center', 'Center', 'Center', 'Center', 'Center', 'Center', 'Center', 'Center', 'Center', 'Edge-Loc', 'Center', 'Center', 'Center', 'Center', 'Center', 'Center', 'Center', 'Center', 'Center', 'Center', 'Center', 'Center', 'Center', 'Center', 'Center', 'Center', 'Center', 'Center', 'Center', 'Edge-Loc', 'Center', 'Center', 'Center', 'Center', 'Center', 'Center', 'Center', 'Edge-Loc', 'Edge-Loc', 'Center', 'Center', 'Center', 'Center', 'Center', 'Edge-Loc', 'Center', 'Center', 'Center', 'Center', 'Center', 'Center', 'Center', 'Center', 'Center', 'Center', 'Center', 'Center', 'Center', 'Center', 'Center', 'Center', 'Center', 'Center', 'Center', 'Center', 'Center', 'Center', 'Center', 'Center', 'Center', 'Center', 'Center', 'Center', 'Center', 'Center', 'Center', 'Center', 'Center', 'Center', 'Center', 'Center', 'Center', 'Center', 'Center', 'Center', 'Center', 'Center', 'Center', 'Center', 'Center', 'Center', 'Center', 'Center', 'Center', 'Center', 'Center', 'Center', 'Center', 'Center', 'Center', 'Center', 'Center', 'Center', 'Center', 'Center', 'Center', 'Center', 'Center', 'Center', 'Center', 'Center', 'Center', 'Center', 'Center', 'Center', 'Center', 'Center', 'Center', 'Center', 'Center', 'Center', 'Center', 'Center', 'Center', 'Center', 'Center', 'Center', 'Edge-Loc', 'Center', 'Edge-Loc', 'Center', 'Center', 'Center', 'Center', 'Center', 'Center', 'Center', 'Center', 'Center', 'Center', 'Center', 'Center', 'Center', 'Center', 'Center', 'Center', 'Center', 'Center', 'Center', 'Center', 'Center', 'Center', 'Center', 'Center', 'Center', 'Center', 'Center', 'Center', 'Center', 'Center', 'Center', 'Center', 'Center', 'Center', 'Center', 'Center', 'Center', 'Center', 'Center', 'Center', 'Center', 'Center', 'Center', 'Center', 'Center', 'Center', 'Center', 'Center', 'Center', 'Center', 'Center', 'Center', 'Center', 'Center', 'Center', 'Center', 'Center', 'Center', 'Center', 'Center', 'Center', 'Center', 'Center', 'Center', 'Center', 'Center', 'Center', 'Center', 'Center', 'Center', 'Center', 'Center', 'Center', 'Center', 'Center', 'Center', 'Center', 'Center', 'Center', 'Center', 'Center', 'Center', 'Center', 'Center', 'Center', 'Center', 'Center', 'Center', 'Center', 'Center', 'Center', 'Center', 'Center', 'Center', 'Center', 'Center', 'Center', 'Center', 'Center', 'Center', 'Center', 'Center', 'Center', 'Center', 'Center', 'Center', 'Random', 'Center', 'Center', 'Center', 'Center', 'Center', 'Center', 'Center', 'Random', 'Center', 'Center', 'Center', 'Center', 'Center', 'Center', 'Center', 'Center', 'Center', 'Center', 'Center', 'Center', 'Edge-Loc', 'Center', 'Center', 'Center', 'Center', 'Center', 'Center', 'Center', 'Center', 'Edge-Loc', 'Center', 'Center', 'Center', 'Center', 'Center', 'Center', 'Center', 'Center', 'Center', 'Center', 'Center', 'Center', 'Center', 'Center', 'Center', 'Center', 'Center', 'Center', 'Center', 'Center', 'Center', 'Center', 'Center', 'Center', 'Center', 'Center', 'Center', 'Center', 'Center', 'Center', 'Center', 'Center', 'Center', 'Center', 'Center', 'Center', 'Center', 'Center', 'Center', 'Center', 'Center', 'Center', 'Center', 'Center', 'Center', 'Center', 'Center', 'Center', 'Center', 'Center', 'Center', 'Center', 'Center', 'Center', 'Center', 'Center', 'Center', 'Center', 'Center', 'Center', 'Center', 'Center', 'Center', 'Center', 'Center', 'Center', 'Center', 'Center', 'Center', 'Center', 'Center', 'Center', 'Center', 'Center', 'Center', 'Center', 'Center', 'Center', 'Center', 'Center', 'Center', 'Center', 'Center', 'Center', 'Center', 'Center', 'Center', 'Center', 'Center', 'Center', 'Center', 'Center', 'Center', 'Center', 'Center', 'Center', 'Center', 'Center', 'Center', 'Center', 'Center', 'Center', 'Center', 'Center', 'Center', 'Center', 'Center', 'Center', 'Center', 'Center', 'Center', 'Center', 'Center', 'Center', 'Center', 'Center', 'Center', 'Center', 'Center', 'Center', 'Center', 'Center', 'Center', 'Center', 'Center', 'Center', 'Center', 'Center', 'Center', 'Center', 'Center', 'Center', 'Center', 'Center', 'Center', 'Center', 'Center', 'Center', 'Center', 'Center', 'Center', 'Center', 'Center', 'Center', 'Center', 'Center', 'Center', 'Center', 'Center', 'Center', 'Center', 'Center', 'Center', 'Center', 'Center', 'Center', 'Center', 'Center', 'Center', 'Center', 'Center', 'Center', 'Center', 'Center', 'Center', 'Center', 'Center', 'Center', 'Center', 'Center', 'Center', 'Center', 'Center', 'Center', 'Center', 'Center', 'Center', 'Center', 'Center', 'Center', 'Center', 'Center', 'Center', 'Center', 'Center', 'Center', 'Center', 'Center', 'Center', 'Center', 'Center', 'Center', 'Center', 'Center', 'Center', 'Center', 'Center', 'Center', 'Center', 'Center', 'Center', 'Center', 'Center', 'Center', 'Center', 'Center', 'Center', 'Center', 'Center', 'Center', 'Center', 'Center', 'Center', 'Center', 'Center', 'Center', 'Center', 'Center', 'Center', 'Center', 'Center', 'Center', 'Center', 'Center', 'Center', 'Center', 'Center', 'Center', 'Center', 'Center', 'Center', 'Center', 'Center', 'Center', 'Center', 'Center', 'Center', 'Center', 'Center', 'Center', 'Center', 'Center', 'Center', 'Center', 'Center', 'Center', 'Center', 'Center', 'Center', 'Center', 'Center', 'Center', 'Center', 'Center', 'Center', 'Center', 'Center', 'Center', 'Center', 'Center', 'Center', 'Center', 'Center', 'Center', 'Center', 'Center', 'Center', 'Center', 'Center', 'Center', 'Center', 'Center', 'Center', 'Center', 'Center', 'Center', 'Center', 'Center', 'Center', 'Center', 'Center', 'Center', 'Center', 'Center', 'Center', 'Center', 'Center', 'Center', 'Center', 'Center', 'Center', 'Center', 'Random', 'Center', 'Center', 'Center', 'Center', 'Center', 'Center', 'Center', 'Center', 'Center', 'Center', 'Center', 'Center', 'Center', 'Center', 'Center', 'Center', 'Center', 'Center', 'Center', 'Center', 'Center', 'Center', 'Center', 'Center', 'Center', 'Center', 'Center', 'Center', 'Center', 'Center', 'Center', 'Center', 'Center', 'Center', 'Random', 'Loc', 'Loc', 'Loc', 'none', 'none', 'none', 'none', 'none', 'none', 'none', 'none', 'none', 'none', 'none', 'none', 'none', 'none', 'none', 'none', 'none', 'none', 'none', 'none', 'none', 'none', 'none', 'none', 'none', 'none', 'none', 'none', 'none', 'none', 'none', 'none', 'none', 'none', 'none', 'none', 'none', 'none', 'none', 'none', 'none', 'none', 'none', 'none', 'none', 'none', 'none', 'none', 'none', 'none', 'none', 'none', 'none', 'none', 'none', 'none', 'none', 'none', 'none', 'none', 'none', 'none', 'none', 'none', 'none', 'none', 'none', 'Near-full', 'none', 'none', 'none', 'none', 'none', 'none', 'none', 'none', 'none', 'none', 'none', 'none', 'none', 'none', 'none', 'none', 'none', 'none', 'none', 'none', 'none', 'none', 'none', 'none', 'none', 'none', 'none', 'none', 'none', 'none', 'none', 'none', 'none', 'none', 'none', 'none', 'none', 'none', 'none', 'none', 'none', 'none', 'none', 'none', 'none', 'none', 'none', 'none', 'none', 'none', 'none', 'none', 'none', 'none', 'none', 'none', 'none', 'none', 'none', 'none', 'none', 'none', 'none', 'none', 'none', 'none', 'none', 'none', 'none', 'none', 'none', 'none', 'none', 'none', 'none', 'none', 'none', 'none', 'none', 'none', 'none', 'none', 'none', 'none', 'none', 'none', 'none', 'none', 'none', 'none', 'none', 'none', 'none', 'none', 'none', 'none', 'none', 'none', 'none', 'none', 'none', 'none', 'none', 'none', 'none', 'none', 'none', 'none', 'none', 'none', 'Edge-Loc', 'none', 'none', 'none', 'none', 'none', 'none', 'none', 'none', 'none', 'none', 'none', 'none', 'none', 'none', 'none', 'none', 'none', 'none', 'none', 'none', 'none', 'none', 'none', 'none', 'none', 'none', 'none', 'none', 'none', 'none', 'none', 'none', 'none', 'none', 'none', 'none', 'none', 'none', 'none', 'none', 'none', 'none', 'none', 'none', 'none', 'none', 'none', 'none', 'none', 'none', 'none', 'none', 'none', 'none', 'none', 'none', 'none', 'none', 'none', 'none', 'none', 'none', 'none', 'none', 'none', 'none', 'none', 'none', 'none', 'none', 'none', 'none', 'none', 'none', 'none', 'none', 'none', 'none', 'none', 'none', 'none', 'none', 'none', 'none', 'none', 'none', 'none', 'none', 'none', 'none', 'none', 'none', 'none', 'none', 'none', 'none', 'none', 'none', 'none', 'none', 'none', 'none', 'none', 'none', 'none', 'none', 'none', 'none', 'none', 'none', 'none', 'none', 'none', 'none', 'none', 'none', 'none', 'none', 'none', 'none', 'none', 'Random', 'none', 'Loc', 'none', 'none', 'none', 'none', 'none', 'none', 'Edge-Loc', 'none', 'none', 'none', 'none', 'none', 'none', 'Loc', 'none', 'none', 'none', 'none', 'none', 'none', 'none', 'none', 'none', 'none', 'none', 'none', 'none', 'none', 'none', 'none', 'none', 'none', 'none', 'none', 'none', 'none', 'none', 'none', 'none', 'none', 'none', 'none', 'none', 'none', 'none', 'none', 'none', 'none', 'none', 'none', 'Edge-Loc', 'none', 'none', 'none', 'none', 'none', 'none', 'none', 'Near-full', 'none', 'none', 'Loc', 'none', 'none', 'none', 'none', 'none', 'none', 'none', 'none', 'none', 'none', 'none', 'none', 'none', 'none', 'none', 'none', 'none', 'none', 'none', 'none', 'none', 'none', 'none', 'none', 'none', 'none', 'none', 'none', 'none', 'none', 'none', 'Edge-Loc', 'none', 'none', 'none', 'none', 'none', 'none', 'none', 'none', 'none', 'none', 'none', 'none', 'none', 'none', 'none', 'none', 'none', 'none', 'none', 'none', 'none', 'none', 'none', 'none', 'none', 'none', 'none', 'none', 'none', 'none', 'none', 'Center', 'none', 'none', 'none', 'none', 'none', 'none', 'none', 'none', 'none', 'none', 'none', 'none', 'none', 'none', 'none', 'none', 'none', 'none', 'none', 'none', 'none', 'none', 'none', 'none', 'none', 'none', 'none', 'none', 'none', 'Edge-Loc', 'none', 'none', 'none', 'none', 'none', 'none', 'none', 'none', 'none', 'none', 'none', 'none', 'none', 'none', 'none', 'none', 'none', 'none', 'none', 'none', 'none', 'none', 'none', 'none', 'none', 'none', 'none', 'Edge-Loc', 'none', 'none', 'none', 'none', 'none', 'none', 'none', 'none', 'none', 'none', 'none', 'none', 'Edge-Loc', 'none', 'none', 'none', 'none', 'none', 'none', 'none', 'none', 'none', 'none', 'none', 'none', 'none', 'none', 'none', 'none', 'none', 'none', 'none', 'none', 'none', 'none', 'none', 'none', 'none', 'none', 'none', 'none', 'none', 'none', 'none', 'none', 'Edge-Loc', 'none', 'none', 'none', 'none', 'none', 'none', 'none', 'none', 'none', 'none', 'none', 'none', 'none', 'none', 'none', 'none', 'none', 'none', 'none', 'none', 'none', 'none', 'none', 'none', 'none', 'none', 'none', 'none', 'none', 'none', 'none', 'none', 'none', 'none', 'none', 'none', 'none', 'none', 'none', 'none', 'Near-full', 'none', 'none', 'none', 'none', 'none', 'none', 'none', 'none', 'none', 'none', 'none', 'none', 'none', 'none', 'none', 'none', 'none', 'none', 'none', 'none', 'none', 'none', 'none', 'none', 'none', 'none', 'none', 'none', 'none', 'none', 'none', 'none', 'none', 'none', 'none', 'none', 'none', 'none', 'none', 'none', 'none', 'none', 'none', 'none', 'none', 'none', 'none', 'none', 'none', 'none', 'none', 'none', 'none', 'none', 'none', 'none', 'none', 'none', 'none', 'none', 'none', 'none', 'none', 'none', 'none', 'none', 'none', 'none', 'none', 'none', 'none', 'none', 'none', 'none', 'none', 'none', 'none', 'none', 'none', 'Loc', 'none', 'none', 'none', 'none', 'none', 'none', 'none', 'none', 'none', 'none', 'none', 'none', 'none', 'none', 'none', 'none', 'none', 'none', 'none', 'none', 'none', 'none', 'none', 'none', 'Random', 'none', 'none', 'none', 'none', 'none', 'none', 'none', 'none', 'none', 'none', 'none', 'none', 'none', 'none', 'none', 'none', 'none', 'none', 'none', 'none', 'none', 'none', 'none', 'none', 'none', 'none', 'none', 'none', 'none', 'none', 'none', 'none', 'none', 'none', 'none', 'none', 'none', 'none', 'none', 'none', 'none', 'none', 'none', 'none', 'none', 'none', 'none', 'none', 'none', 'none', 'none', 'none', 'none', 'none', 'none', 'none', 'none', 'none', 'none', 'Edge-Loc', 'none', 'none', 'none', 'none', 'none', 'none', 'none', 'none', 'none', 'none', 'none', 'none', 'none', 'none', 'none', 'none', 'none', 'none', 'none', 'none', 'none', 'none', 'none', 'none', 'none', 'none', 'none', 'none', 'none', 'none', 'none', 'none', 'Random', 'none', 'none', 'none', 'none', 'none', 'none', 'none', 'none', 'none', 'none', 'none', 'none', 'none', 'none', 'none', 'none', 'none', 'none', 'none', 'none', 'none', 'none', 'none', 'none', 'none', 'none', 'Loc', 'none', 'none', 'none', 'none', 'none', 'none', 'none', 'Edge-Loc', 'none', 'none', 'none', 'none', 'none', 'none', 'none', 'none', 'none', 'none', 'none', 'none', 'none', 'none', 'none', 'none', 'none', 'none', 'none', 'none', 'none', 'none', 'none', 'none', 'none', 'none', 'none', 'none', 'none', 'none', 'none', 'none', 'none', 'none', 'none', 'none', 'none', 'none', 'none', 'none', 'none', 'none', 'none', 'none', 'none', 'none', 'none', 'none', 'none', 'none', 'none', 'none', 'none', 'none', 'none', 'none', 'none', 'none', 'none', 'none', 'none', 'none', 'none', 'none', 'none', 'none', 'none', 'none', 'none', 'none', 'Loc', 'none', 'none', 'none', 'none', 'Loc', 'none', 'none', 'none', 'none', 'none', 'none', 'none', 'none', 'none', 'none', 'none', 'none', 'none', 'none', 'none', 'none', 'none', 'none', 'none', 'none', 'none', 'Edge-Loc', 'Edge-Loc', 'none', 'none', 'none', 'none', 'none', 'none', 'none', 'none', 'none', 'none', 'none', 'none', 'none', 'none', 'none', 'none', 'none', 'none', 'none', 'none', 'none', 'none', 'none', 'none', 'none', 'none', 'none', 'none', 'none', 'Loc', 'none', 'none', 'none', 'Loc', 'none', 'none', 'none', 'none', 'none', 'none', 'none', 'none', 'none', 'none', 'none', 'none', 'none', 'none', 'none', 'none', 'none', 'none', 'none', 'none', 'none', 'none', 'none', 'none', 'none', 'none', 'none', 'none', 'none', 'none', 'none', 'none', 'none', 'none', 'none', 'none', 'none', 'none', 'none', 'none', 'none', 'none', 'none', 'none', 'none', 'none', 'none', 'none', 'none', 'none', 'none', 'none', 'none', 'none', 'none', 'none', 'none', 'none', 'none', 'none', 'none', 'none', 'none', 'none', 'none', 'none', 'none', 'Edge-Loc', 'none', 'none', 'none', 'none', 'none', 'none', 'none', 'none', 'none', 'none', 'Loc', 'none', 'none', 'none', 'none', 'none', 'none', 'none', 'none', 'none', 'none', 'none', 'none', 'none', 'none', 'none', 'none', 'none', 'none', 'none', 'none', 'none', 'none', 'none', 'none', 'none', 'none', 'none', 'none', 'none', 'none', 'none', 'none', 'none', 'none', 'none', 'none', 'none', 'none', 'none', 'none', 'none', 'none', 'none', 'none', 'Loc', 'none', 'none', 'none', 'none', 'none', 'none', 'none', 'none', 'none', 'none', 'none', 'none', 'none', 'none', 'none', 'none', 'none', 'none', 'none', 'none', 'none', 'none', 'none', 'none', 'none', 'none', 'none', 'none', 'none', 'none', 'none', 'none', 'none', 'none', 'none', 'none', 'none', 'none', 'none', 'none', 'none', 'none', 'none', 'none', 'none', 'none', 'none', 'none', 'none', 'none', 'none', 'none', 'none', 'none', 'none', 'none', 'none', 'none', 'none', 'none', 'none', 'none', 'none', 'none', 'none', 'none', 'none', 'none', 'none', 'none', 'none', 'none', 'none', 'none', 'none', 'none', 'none', 'none', 'none', 'none', 'none', 'none', 'none', 'none', 'none', 'none', 'none', 'none', 'none', 'none', 'none', 'none', 'none', 'none', 'none', 'none', 'none', 'none', 'none', 'none', 'none', 'none', 'none', 'none', 'none', 'none', 'none', 'none', 'none', 'none', 'none', 'none', 'none', 'none', 'none', 'none', 'none', 'Edge-Loc', 'none', 'none', 'none', 'none', 'none', 'none', 'none', 'none', 'none', 'none', 'none', 'none', 'none', 'none', 'none', 'none', 'none', 'none', 'none', 'none', 'none', 'none', 'none', 'none', 'none', 'none', 'none', 'none', 'none', 'none', 'none', 'none', 'none', 'none', 'none', 'none', 'none', 'none', 'none', 'none', 'none', 'none', 'none', 'none', 'none', 'none', 'none', 'none', 'none', 'none', 'none', 'none', 'none', 'none', 'none', 'none', 'none', 'none', 'none', 'none', 'none', 'none', 'none', 'none', 'none', 'Loc', 'none', 'none', 'none', 'none', 'none', 'none', 'none', 'none', 'none', 'none', 'none', 'none', 'none', 'none', 'none', 'none', 'none', 'Near-full', 'none', 'none', 'none', 'none', 'none', 'none', 'none', 'none', 'none', 'none', 'none', 'none', 'none', 'none', 'none', 'none', 'none', 'none', 'Loc', 'none', 'Edge-Loc', 'none', 'none', 'none', 'none', 'none', 'none', 'none', 'none', 'none', 'none', 'none', 'none', 'none', 'none', 'none', 'none', 'none', 'none', 'none', 'none', 'none', 'none', 'none', 'none', 'none', 'none', 'none', 'none', 'none', 'none', 'none', 'none', 'none', 'none', 'none', 'none', 'none', 'none', 'none', 'none', 'Loc', 'none', 'none', 'none', 'none', 'none', 'none', 'none', 'none', 'none', 'none', 'none', 'none', 'none', 'none', 'none', 'none', 'none', 'none', 'none', 'none', 'none', 'none', 'none', 'none', 'none', 'Random', 'none', 'none', 'none', 'none', 'none', 'none', 'none', 'none', 'none', 'Edge-Loc', 'none', 'none', 'none', 'none', 'none', 'none', 'none', 'none', 'none', 'none', 'none', 'none', 'none', 'none', 'none', 'none', 'none', 'none', 'none', 'none', 'none', 'none', 'none', 'none', 'none', 'none', 'none', 'none', 'none', 'none', 'none', 'none', 'none', 'none', 'none', 'none', 'none', 'none', 'none', 'none', 'none', 'none', 'none', 'none', 'none', 'none', 'none', 'none', 'none', 'Edge-Loc', 'none', 'none', 'none', 'none', 'none', 'none', 'none', 'none', 'none', 'none', 'none', 'none', 'none', 'none', 'none', 'none', 'none', 'none', 'none', 'none', 'none', 'none', 'none', 'none', 'none', 'none', 'none', 'none', 'none', 'none', 'none', 'none', 'none', 'none', 'none', 'none', 'none', 'Loc', 'none', 'none', 'none', 'none', 'none', 'none', 'none', 'none', 'none', 'none', 'none', 'none', 'none', 'none', 'none', 'none', 'none', 'none', 'none', 'none', 'none', 'none', 'none', 'Loc', 'none', 'none', 'none', 'none', 'none', 'none', 'none', 'none', 'none', 'none', 'none', 'none', 'none', 'none', 'Loc', 'none', 'none', 'none', 'none', 'none', 'none', 'none', 'none', 'none', 'none', 'none', 'none', 'none', 'none', 'Edge-Loc', 'none', 'none', 'none', 'none', 'none', 'none', 'none', 'none', 'Edge-Loc', 'none', 'none', 'none', 'none', 'none', 'none', 'none', 'none', 'none', 'none', 'none', 'none', 'none', 'none', 'none', 'none', 'none', 'none', 'none', 'none', 'none', 'none', 'none', 'none', 'none', 'none', 'none', 'none', 'none', 'none', 'none', 'none', 'none', 'none', 'none', 'none', 'none', 'none', 'none', 'none', 'none', 'none', 'Edge-Loc', 'none', 'none', 'none', 'none', 'none', 'none', 'none', 'none', 'none', 'none', 'none', 'none', 'none', 'none', 'none', 'none', 'none', 'none', 'none', 'none', 'none', 'none', 'none', 'none', 'none', 'none', 'none', 'none', 'none', 'none', 'none', 'none', 'none', 'none', 'none', 'none', 'none', 'none', 'none', 'none', 'none', 'none', 'none', 'Edge-Loc', 'none', 'none', 'none', 'none', 'none', 'none', 'none', 'none', 'none', 'none', 'none', 'none', 'none', 'none', 'none', 'none', 'none', 'none', 'none', 'none', 'none', 'none', 'none', 'none', 'none', 'none', 'none', 'none', 'none', 'none', 'none', 'none', 'none', 'none', 'none', 'none', 'none', 'none', 'none', 'none', 'none', 'none', 'none', 'none', 'none', 'none', 'none', 'none', 'none', 'none', 'none', 'none', 'none', 'none', 'none', 'none', 'none', 'none', 'none', 'none', 'none', 'none', 'none', 'none', 'none', 'none', 'none', 'none', 'none', 'none', 'none', 'none', 'none', 'none', 'none', 'none', 'none', 'none', 'none', 'none', 'none', 'none', 'none', 'none', 'none', 'none', 'none', 'none', 'none', 'none', 'none', 'none', 'none', 'none', 'none', 'none', 'none', 'none', 'none', 'none', 'none', 'none', 'none', 'none', 'none', 'none', 'none', 'none', 'none', 'none', 'none', 'none', 'none', 'none', 'none', 'none', 'none', 'none', 'none', 'none', 'none', 'none', 'none', 'none', 'none', 'none', 'none', 'none', 'none', 'none', 'Edge-Loc', 'none', 'none', 'none', 'none', 'none', 'none', 'none', 'none', 'none', 'Loc', 'Edge-Loc', 'none', 'none', 'none', 'none', 'none', 'none', 'none', 'Near-full', 'none', 'none', 'none', 'none', 'none', 'Random', 'none', 'none', 'none', 'none', 'none', 'none', 'none', 'none', 'none', 'none', 'none', 'Loc', 'none', 'none', 'none', 'none', 'none', 'none', 'none', 'none', 'none', 'none', 'none', 'none', 'none', 'Edge-Loc', 'none', 'none', 'none', 'none', 'none', 'none', 'none', 'none', 'none', 'none', 'none', 'none', 'none', 'none', 'none', 'none', 'none', 'none', 'none', 'none', 'none', 'none', 'none', 'none', 'none', 'none', 'none', 'none', 'none', 'none', 'none', 'none', 'none', 'none', 'none', 'none', 'none', 'none', 'none', 'none', 'none', 'none', 'none', 'none', 'none', 'none', 'none', 'none', 'none', 'none', 'none', 'none', 'none', 'none', 'none', 'none', 'none', 'none', 'none', 'none', 'none', 'none', 'none', 'none', 'none', 'none', 'none', 'none', 'none', 'none', 'none', 'none', 'none', 'none', 'none', 'none', 'none', 'none', 'none', 'none', 'none', 'none', 'none', 'none', 'none', 'none', 'none', 'none', 'none', 'none', 'none', 'none', 'none', 'none', 'none', 'none', 'none', 'Loc', 'none', 'none', 'none', 'Edge-Loc', 'none', 'none', 'none', 'Loc', 'none', 'none', 'none', 'none', 'none', 'none', 'none', 'Loc', 'none', 'none', 'none', 'none', 'none', 'none', 'none', 'none', 'none', 'none', 'Edge-Loc', 'none', 'none', 'none', 'none', 'none', 'none', 'none', 'none', 'none', 'Edge-Loc', 'none', 'none', 'none', 'none', 'none', 'none', 'none', 'none', 'none', 'none', 'none', 'none', 'none', 'none', 'Near-full', 'none', 'none', 'none', 'none', 'none', 'none', 'none', 'none', 'none', 'none', 'none', 'none', 'none', 'none', 'none', 'none', 'none', 'none', 'none', 'none', 'none', 'Edge-Loc', 'none', 'none', 'none', 'Edge-Loc', 'none', 'none', 'none', 'none', 'none', 'none', 'none', 'none', 'none', 'none', 'none', 'none', 'none', 'none', 'none', 'none', 'none', 'none', 'none', 'none', 'none', 'none', 'none', 'none', 'none', 'none', 'none', 'none', 'none', 'none', 'none', 'none', 'none', 'none', 'none', 'none', 'none', 'none', 'none', 'none', 'none', 'none', 'none', 'none', 'none', 'none', 'none', 'none', 'none', 'none', 'none', 'none', 'none', 'none', 'none', 'none', 'none', 'none', 'none', 'none', 'none', 'none', 'none', 'none', 'none', 'none', 'none', 'none', 'none', 'none', 'Edge-Loc', 'none', 'none', 'none', 'none', 'none', 'none', 'none', 'none', 'none', 'none', 'none', 'none', 'none', 'none', 'none', 'none', 'none', 'none', 'none', 'none', 'none', 'none', 'none', 'none', 'none', 'none', 'none', 'none', 'none', 'none', 'none', 'none', 'none', 'none', 'none', 'none', 'none', 'none', 'none', 'Near-full', 'none', 'none', 'none', 'none', 'Edge-Loc', 'none', 'none', 'none', 'none', 'none', 'none', 'none', 'none', 'none', 'Center', 'none', 'none', 'none', 'none', 'none', 'none', 'none', 'none', 'none', 'none', 'none', 'none', 'none', 'none', 'none', 'none', 'none', 'none', 'none', 'none', 'none', 'none', 'none', 'none', 'none', 'none', 'none', 'none', 'none', 'none', 'Near-full', 'none', 'none', 'none', 'none', 'none', 'none', 'none', 'none', 'none', 'none', 'none', 'none', 'Loc', 'none', 'Edge-Loc', 'none', 'none', 'none', 'none', 'none', 'none', 'none', 'none', 'none', 'none', 'none', 'none', 'none', 'none', 'none', 'none', 'none', 'none', 'none', 'none', 'none', 'none', 'none', 'none', 'none', 'none', 'none', 'none', 'none', 'none', 'none', 'none', 'none', 'none', 'none', 'none', 'none', 'none', 'none', 'none', 'none', 'none', 'none', 'none', 'none', 'none', 'none', 'none', 'none', 'none', 'none', 'none', 'none', 'none', 'none', 'none', 'none', 'none', 'none', 'none', 'none', 'none', 'none', 'none', 'none', 'none', 'none', 'none', 'none', 'none', 'none', 'none', 'Center', 'none', 'none', 'none', 'none', 'none', 'none', 'none', 'none', 'none', 'none', 'none', 'none', 'none', 'none', 'none', 'none', 'none', 'none', 'none', 'none', 'none', 'none', 'none', 'none', 'none', 'none', 'none', 'none', 'none', 'none', 'none', 'none', 'none', 'none', 'none', 'none', 'none', 'none', 'none', 'none', 'none', 'none', 'none', 'none', 'none', 'none', 'none', 'none', 'none', 'none', 'none', 'none', 'none', 'none', 'none', 'none', 'none', 'none', 'none', 'none', 'none', 'none', 'none', 'none', 'none', 'none', 'Edge-Loc', 'none', 'none', 'none', 'none', 'none', 'none', 'none', 'none', 'none', 'Near-full', 'none', 'none', 'none', 'none', 'none', 'none', 'none', 'none', 'none', 'none', 'Edge-Loc', 'none', 'none', 'none', 'none', 'none', 'none', 'none', 'none', 'Near-full', 'none', 'none', 'none', 'none', 'none', 'none', 'none', 'none', 'none', 'none', 'none', 'Edge-Loc', 'none', 'none', 'none', 'none', 'none', 'none', 'none', 'none', 'none', 'none', 'none', 'none', 'none', 'none', 'Edge-Loc', 'none', 'none', 'none', 'none', 'none', 'none', 'none', 'none', 'none', 'none', 'none', 'none', 'none', 'none', 'none', 'none', 'none', 'none', 'none', 'none', 'none', 'none', 'none', 'none', 'none', 'none', 'none', 'none', 'none', 'none', 'none', 'none', 'none', 'none', 'none', 'none', 'none', 'none', 'none', 'none', 'none', 'none', 'none', 'none', 'none', 'none', 'none', 'none', 'none', 'none', 'none', 'none', 'none', 'none', 'none', 'none', 'none', 'none', 'none', 'none', 'Edge-Loc', 'none', 'none', 'none', 'none', 'none', 'none', 'none', 'none', 'none', 'none', 'none', 'none', 'none', 'none', 'none', 'none', 'none', 'Edge-Loc', 'none', 'none', 'none', 'none', 'none', 'none', 'none', 'none', 'none', 'none', 'none', 'none', 'Edge-Loc', 'Edge-Loc', 'none', 'none', 'none', 'none', 'none', 'none', 'none', 'none', 'none', 'none', 'none', 'none', 'none', 'none', 'none', 'none', 'none', 'none', 'none', 'none', 'none', 'none', 'none', 'none', 'none', 'none', 'none', 'none', 'none', 'none', 'none', 'none', 'none', 'none', 'none', 'none', 'none', 'none', 'none', 'none', 'none', 'none', 'none', 'none', 'none', 'none', 'none', 'none', 'none', 'none', 'none', 'none', 'none', 'none', 'none', 'none', 'none', 'none', 'none', 'none', 'none', 'none', 'none', 'none', 'none', 'none', 'none', 'none', 'none', 'none', 'none', 'none', 'none', 'none', 'none', 'none', 'none', 'none', 'none', 'none', 'none', 'none', 'none', 'none', 'none', 'none', 'none', 'none', 'Loc', 'none', 'none', 'none', 'none', 'none', 'none', 'none', 'none', 'none', 'none', 'none', 'none', 'none', 'none', 'none', 'none', 'none', 'none', 'none', 'Edge-Loc', 'none', 'none', 'none', 'none', 'none', 'none', 'none', 'Edge-Loc', 'none', 'none', 'none', 'none', 'none', 'none', 'none', 'none', 'none', 'none', 'none', 'none', 'none', 'none', 'none', 'none', 'none', 'none', 'none', 'none', 'none', 'none', 'none', 'none', 'none', 'none', 'none', 'none', 'none', 'none', 'none', 'none', 'none', 'none', 'none', 'none', 'none', 'none', 'none', 'none', 'none', 'none', 'none', 'none', 'none', 'none', 'Loc', 'none', 'none', 'none', 'none', 'none', 'none', 'none', 'none', 'none', 'none', 'none', 'none', 'none', 'none', 'none', 'none', 'none', 'none', 'none', 'none', 'none', 'none', 'none', 'Random', 'none', 'none', 'none', 'none', 'none', 'none', 'none', 'none', 'none', 'none', 'none', 'none', 'none', 'none', 'Edge-Loc', 'none', 'none', 'none', 'none', 'none', 'none', 'none', 'none', 'none', 'none', 'Edge-Loc', 'none', 'none', 'none', 'none', 'none', 'none', 'none', 'none', 'none', 'none', 'none', 'none', 'Edge-Loc', 'none', 'none', 'none', 'none', 'none', 'none', 'none', 'none', 'none', 'none', 'none', 'none', 'none', 'none', 'none', 'none', 'none', 'none', 'none', 'none', 'Center', 'none', 'Edge-Loc', 'none', 'none', 'none', 'none', 'none', 'none', 'none', 'none', 'none', 'none', 'none', 'none', 'none', 'none', 'none', 'none', 'none', 'none', 'none', 'none', 'Center', 'none', 'none', 'none', 'none', 'none', 'none', 'none', 'none', 'none', 'none', 'none', 'none', 'none', 'none', 'none', 'none', 'none', 'none', 'none', 'none', 'none', 'none', 'none', 'none', 'none', 'none', 'none', 'none', 'none', 'Edge-Loc', 'none', 'Loc', 'none', 'none', 'none', 'none', 'none', 'none', 'none', 'none', 'none', 'none', 'none', 'none', 'none', 'none', 'none', 'none', 'none', 'none', 'none', 'none', 'none', 'none', 'none', 'none', 'Edge-Loc', 'none', 'none', 'none', 'none', 'none', 'none', 'none', 'none', 'none', 'Loc', 'none', 'none', 'none', 'none', 'none', 'none', 'none', 'none', 'none', 'none', 'none', 'none', 'none', 'none', 'none', 'none', 'none', 'none', 'none', 'Loc', 'none', 'Edge-Loc', 'none', 'Loc', 'Edge-Loc', 'none', 'none', 'none', 'none', 'none', 'none', 'none', 'none', 'none', 'none', 'none', 'none', 'none', 'none', 'none', 'none', 'none', 'none', 'none', 'none', 'none', 'none', 'none', 'none', 'none', 'Edge-Loc', 'none', 'none', 'none', 'none', 'none', 'none', 'none', 'none', 'none', 'Center', 'none', 'Edge-Loc', 'Near-full', 'none', 'none', 'none', 'none', 'none', 'none', 'none', 'none', 'none', 'none', 'none', 'none', 'none', 'none', 'none', 'none', 'none', 'none', 'none', 'none', 'none', 'none', 'none', 'none', 'none', 'none', 'none', 'none', 'none', 'Edge-Loc', 'none', 'none', 'none', 'none', 'none', 'none', 'none', 'none', 'none', 'none', 'none', 'none', 'none', 'none', 'none', 'none', 'none', 'none', 'none', 'none', 'none', 'none', 'none', 'none', 'none', 'none', 'none', 'none', 'none', 'Center', 'none', 'none', 'none', 'none', 'none', 'none', 'none', 'none', 'none', 'none', 'Scratch', 'none', 'none', 'none', 'none', 'none', 'none', 'none', 'none', 'none', 'none', 'none', 'none', 'Loc', 'none', 'none', 'none', 'none', 'none', 'Edge-Loc', 'none', 'none', 'none', 'none', 'none', 'none', 'none', 'none', 'none', 'none', 'none', 'none', 'none', 'none', 'none', 'none', 'none', 'none', 'none', 'none', 'none', 'none', 'none', 'none', 'none', 'none', 'none', 'none', 'none', 'none', 'none', 'none', 'none', 'none', 'none', 'none', 'none', 'none', 'none', 'none', 'none', 'none', 'none', 'none', 'none', 'none', 'none', 'none', 'none', 'none', 'none', 'none', 'none', 'none', 'none', 'none', 'none', 'none', 'none', 'none', 'none', 'none', 'none', 'none', 'none', 'none', 'none', 'none', 'none', 'none', 'none', 'none', 'none', 'none', 'none', 'none', 'none', 'none', 'none', 'none', 'none', 'none', 'none', 'none', 'none', 'none', 'none', 'none', 'none', 'none', 'none', 'none', 'none', 'none', 'none', 'none', 'none', 'none', 'none', 'none', 'none', 'none', 'none', 'none', 'none', 'none', 'none', 'none', 'none', 'none', 'none', 'none', 'none', 'none', 'none', 'none', 'none', 'none', 'none', 'none', 'none', 'none', 'none', 'none', 'none', 'none', 'none', 'none', 'none', 'none', 'none', 'none', 'none', 'none', 'none', 'none', 'Loc', 'none', 'none', 'none', 'none', 'none', 'none', 'none', 'none', 'none', 'none', 'none', 'none', 'Edge-Loc', 'none', 'none', 'none', 'Near-full', 'none', 'none', 'Loc', 'none', 'none', 'none', 'none', 'none', 'none', 'none', 'none', 'none', 'none', 'none', 'none', 'none', 'none', 'none', 'none', 'none', 'none', 'none', 'none', 'Edge-Loc', 'none', 'none', 'none', 'none', 'none', 'none', 'none', 'none', 'none', 'none', 'none', 'none', 'none', 'none', 'none', 'none', 'none', 'none', 'none', 'none', 'none', 'none', 'none', 'none', 'Edge-Loc', 'none', 'none', 'none', 'none', 'none', 'none', 'none', 'none', 'none', 'none', 'none', 'none', 'none', 'none', 'none', 'none', 'none', 'none', 'none', 'none', 'none', 'none', 'none', 'none', 'none', 'none', 'none', 'none', 'Loc', 'none', 'none', 'none', 'none', 'Edge-Loc', 'none', 'none', 'none', 'none', 'none', 'none', 'none', 'none', 'none', 'none', 'none', 'none', 'none', 'none', 'none', 'none', 'none', 'none', 'none', 'Near-full', 'none', 'none', 'none', 'none', 'none', 'none', 'none', 'none', 'none', 'none', 'none', 'none', 'none', 'none', 'none', 'none', 'none', 'none', 'none', 'none', 'none', 'none', 'none', 'none', 'none', 'none', 'none', 'none', 'none', 'none', 'none', 'none', 'none', 'none', 'none', 'none', 'none', 'none', 'none', 'none', 'none', 'none', 'none', 'none', 'none', 'none', 'none', 'none', 'none', 'none', 'none', 'none', 'none', 'none', 'none', 'none', 'none', 'none', 'none', 'none', 'none', 'none', 'none', 'none', 'none', 'none', 'none', 'none', 'none', 'none', 'none', 'none', 'none', 'none', 'none', 'none', 'none', 'none', 'none', 'none', 'none', 'none', 'none', 'none', 'none', 'none', 'none', 'none', 'none', 'none', 'none', 'none', 'none', 'none', 'none', 'none', 'none', 'none', 'none', 'none', 'none', 'none', 'none', 'none', 'none', 'none', 'none', 'none', 'none', 'none', 'none', 'none', 'none', 'none', 'none', 'none', 'none', 'none', 'none', 'none', 'none', 'none', 'none', 'none', 'none', 'none', 'none', 'none', 'none', 'none', 'none', 'none', 'none', 'none', 'none', 'none', 'none', 'none', 'none', 'none', 'none', 'none', 'none', 'Loc', 'none', 'none', 'none', 'none', 'none', 'none', 'none', 'Edge-Loc', 'none', 'none', 'none', 'none', 'none', 'none', 'none', 'none', 'none', 'none', 'none', 'none', 'none', 'none', 'none', 'none', 'none', 'none', 'none', 'none', 'none', 'none', 'none', 'none', 'none', 'none', 'none', 'none', 'none', 'none', 'none', 'none', 'none', 'none', 'none', 'none', 'none', 'none', 'none', 'none', 'none', 'none', 'none', 'none', 'none', 'none', 'none', 'none', 'none', 'none', 'none', 'none', 'none', 'none', 'none', 'none', 'none', 'none', 'none', 'none', 'none', 'none', 'none', 'none', 'none', 'none', 'none', 'none', 'none', 'none', 'none', 'none', 'none', 'none', 'none', 'none', 'none', 'none', 'none', 'none', 'none', 'none', 'none', 'none', 'none', 'none', 'none', 'none', 'none', 'none', 'none', 'none', 'none', 'none', 'none', 'none', 'none', 'none', 'none', 'none', 'none', 'none', 'none', 'none', 'none', 'none', 'Edge-Loc', 'none', 'none', 'none', 'Edge-Loc', 'none', 'none', 'none', 'none', 'none', 'none', 'none', 'none', 'none', 'none', 'none', 'none', 'none', 'none', 'none', 'none', 'Center', 'none', 'none', 'none', 'none', 'Edge-Loc', 'none', 'none', 'none', 'none', 'none', 'none', 'none', 'none', 'none', 'none', 'none', 'none', 'none', 'none', 'none', 'none', 'none', 'none', 'none', 'none', 'none', 'none', 'none', 'none', 'none', 'none', 'none', 'none', 'none', 'none', 'none', 'none', 'none', 'none', 'none', 'none', 'Edge-Loc', 'none', 'none', 'none', 'none', 'none', 'none', 'none', 'none', 'none', 'none', 'none', 'none', 'none', 'none', 'none', 'none', 'none', 'none', 'none', 'none', 'none', 'none', 'none', 'none', 'none', 'none', 'none', 'none', 'none', 'none', 'none', 'none', 'none', 'none', 'none', 'none', 'none', 'none', 'none', 'none', 'none', 'none', 'none', 'none', 'none', 'none', 'none', 'none', 'none', 'none', 'none', 'none', 'none', 'none', 'none', 'none', 'none', 'none', 'none', 'none', 'none', 'none', 'none', 'none', 'none', 'none', 'none', 'none', 'none', 'none', 'none', 'none', 'none', 'none', 'none', 'none', 'none', 'none', 'none', 'none', 'none', 'none', 'none', 'none', 'none', 'none', 'none', 'none', 'none', 'none', 'none', 'none', 'none', 'none', 'none', 'none', 'Center', 'none', 'none', 'none', 'none', 'none', 'none', 'none', 'none', 'none', 'none', 'none', 'none', 'none', 'none', 'none', 'none', 'none', 'none', 'none', 'none', 'none', 'none', 'none', 'none', 'none', 'none', 'Edge-Loc', 'none', 'none', 'none', 'none', 'none', 'none', 'none', 'none', 'none', 'none', 'none', 'none', 'none', 'none', 'none', 'none', 'none', 'none', 'none', 'none', 'Random', 'none', 'none', 'none', 'none', 'none', 'none', 'none', 'none', 'none', 'none', 'none', 'none', 'none', 'none', 'none', 'none', 'none', 'none', 'none', 'none', 'none', 'none', 'none', 'none', 'none', 'none', 'none', 'none', 'none', 'none', 'none', 'none', 'none', 'none', 'none', 'none', 'none', 'none', 'none', 'none', 'none', 'none', 'none', 'none', 'none', 'none', 'none', 'none', 'none', 'none', 'none', 'none', 'none', 'none', 'none', 'none', 'none', 'none', 'none', 'none', 'none', 'none', 'none', 'none', 'Edge-Loc', 'none', 'none', 'none', 'none', 'none', 'none', 'none', 'none', 'none', 'none', 'none', 'none', 'none', 'none', 'none', 'none', 'none', 'none', 'none', 'none', 'none', 'none', 'none', 'none', 'none', 'none', 'none', 'none', 'none', 'none', 'none', 'none', 'none', 'none', 'none', 'none', 'none', 'none', 'none', 'none', 'none', 'none', 'none', 'none', 'none', 'none', 'none', 'none', 'none', 'Edge-Loc', 'none', 'none', 'none', 'none', 'none', 'none', 'none', 'none', 'none', 'none', 'none', 'none', 'none', 'Loc', 'none', 'none', 'none', 'none', 'Edge-Loc', 'none', 'none', 'none', 'none', 'none', 'none', 'none', 'none', 'none', 'none', 'none', 'none', 'none', 'none', 'none', 'none', 'none', 'none', 'none', 'none', 'none', 'none', 'none', 'none', 'none', 'none', 'none', 'none', 'none', 'none', 'none', 'none', 'none', 'none', 'none', 'none', 'none', 'none', 'none', 'none', 'none', 'none', 'none', 'Random', 'none', 'Edge-Loc', 'none', 'none', 'none', 'none', 'none', 'none', 'none', 'none', 'none', 'none', 'none', 'none', 'none', 'none', 'none', 'none', 'none', 'none', 'none', 'none', 'none', 'none', 'none', 'none', 'none', 'none', 'none', 'none', 'none', 'none', 'none', 'none', 'none', 'none', 'none', 'none', 'none', 'none', 'none', 'none', 'Edge-Loc', 'none', 'none', 'none', 'none', 'none', 'none', 'none', 'none', 'Near-full', 'none', 'none', 'none', 'none', 'none', 'none', 'none', 'Center', 'none', 'none', 'none', 'none', 'none', 'Edge-Loc', 'none', 'none', 'none', 'none', 'none', 'none', 'none', 'none', 'none', 'none', 'none', 'none', 'none', 'none', 'none', 'none', 'none', 'none', 'none', 'none', 'none', 'none', 'none', 'none', 'none', 'none', 'none', 'none', 'none', 'none', 'none', 'none', 'none', 'none', 'none', 'none', 'none', 'none', 'none', 'none', 'none', 'none', 'none', 'none', 'none', 'none', 'none', 'none', 'none', 'none', 'none', 'none', 'none', 'none', 'none', 'none', 'none', 'none', 'none', 'none', 'none', 'none', 'none', 'none', 'Loc', 'none', 'none', 'none', 'none', 'none', 'Near-full', 'none', 'none', 'none', 'none', 'none', 'none', 'none', 'none', 'none', 'none', 'none', 'none', 'none', 'none', 'none', 'none', 'none', 'none', 'none', 'none', 'none', 'none', 'none', 'none', 'Edge-Loc', 'none', 'none', 'none', 'none', 'none', 'none', 'none', 'none', 'none', 'none', 'none', 'none', 'none', 'none', 'none', 'none', 'none', 'none', 'none', 'none', 'none', 'none', 'Random', 'none', 'none', 'none', 'none', 'none', 'none', 'none', 'none', 'none', 'none', 'none', 'none', 'none', 'none', 'none', 'none', 'none', 'none', 'none', 'none', 'Loc', 'none', 'none', 'none', 'none', 'none', 'none', 'none', 'none', 'none', 'none', 'none', 'none', 'none', 'none', 'none', 'none', 'none', 'none', 'none', 'none', 'none', 'none', 'none', 'none', 'none', 'none', 'none', 'none', 'none', 'none', 'none', 'none', 'none', 'none', 'none', 'none', 'none', 'none', 'none', 'none', 'none', 'none', 'none', 'none', 'none', 'none', 'none', 'none', 'none', 'none', 'none', 'none', 'none', 'none', 'none', 'none', 'none', 'none', 'none', 'none', 'none', 'none', 'none', 'none', 'none', 'none', 'none', 'none', 'none', 'none', 'none', 'none', 'none', 'none', 'none', 'none', 'none', 'none', 'none', 'none', 'none', 'none', 'none', 'none', 'none', 'none', 'none', 'none', 'none', 'none', 'none', 'none', 'none', 'none', 'none', 'none', 'none', 'none', 'none', 'none', 'none', 'none', 'none', 'none', 'Edge-Loc', 'none', 'none', 'none', 'none', 'none', 'none', 'none', 'none', 'none', 'none', 'none', 'none', 'none', 'none', 'none', 'none', 'none', 'none', 'Edge-Loc', 'none', 'none', 'none', 'none', 'none', 'none', 'none', 'none', 'none', 'none', 'none', 'none', 'none', 'none', 'none', 'none', 'none', 'none', 'Edge-Loc', 'none', 'none', 'none', 'none', 'none', 'none', 'none', 'none', 'none', 'none', 'none', 'none', 'none', 'none', 'none', 'none', 'none', 'none', 'none', 'none', 'none', 'none', 'none', 'none', 'none', 'none', 'none', 'none', 'none', 'none', 'none', 'none', 'none', 'none', 'none', 'none', 'none', 'none', 'none', 'none', 'none', 'none', 'none', 'Loc', 'none', 'none', 'none', 'none', 'none', 'none', 'none', 'none', 'none', 'none', 'none', 'none', 'none', 'none', 'none', 'none', 'none', 'none', 'none', 'none', 'none', 'none', 'none', 'none', 'none', 'none', 'none', 'none', 'none', 'none', 'none', 'none', 'none', 'none', 'none', 'none', 'none', 'none', 'none', 'none', 'none', 'none', 'none', 'none', 'none', 'none', 'none', 'none', 'none', 'none', 'none', 'Edge-Loc', 'none', 'Edge-Loc', 'none', 'none', 'none', 'none', 'none', 'none', 'none', 'none', 'none', 'none', 'none', 'none', 'none', 'none', 'none', 'none', 'none', 'none', 'none', 'none', 'none', 'none', 'none', 'none', 'none', 'none', 'Loc', 'none', 'none', 'none', 'none', 'none', 'none', 'none', 'none', 'none', 'none', 'none', 'none', 'none', 'none', 'none', 'none', 'none', 'none', 'none', 'none', 'none', 'none', 'none', 'none', 'none', 'none', 'none', 'none', 'none', 'none', 'none', 'none', 'none', 'none', 'none', 'none', 'none', 'none', 'none', 'Edge-Loc', 'none', 'none', 'none', 'none', 'none', 'none', 'none', 'none', 'none', 'none', 'none', 'none', 'none', 'none', 'none', 'none', 'none', 'none', 'none', 'none', 'none', 'none', 'none', 'none', 'none', 'none', 'none', 'none', 'none', 'none', 'none', 'none', 'none', 'none', 'none', 'none', 'none', 'none', 'none', 'none', 'none', 'none', 'none', 'none', 'none', 'none', 'none', 'none', 'none', 'Near-full', 'none', 'none', 'none', 'none', 'none', 'none', 'none', 'none', 'none', 'none', 'none', 'none', 'none', 'none', 'none', 'none', 'none', 'none', 'none', 'none', 'none', 'none', 'none', 'none', 'none', 'none', 'none', 'none', 'none', 'none', 'none', 'none', 'none', 'none', 'none', 'none', 'none', 'none', 'none', 'none', 'none', 'none', 'none', 'none', 'none', 'none', 'none', 'none', 'none', 'none', 'none', 'none', 'none', 'none', 'none', 'none', 'none', 'none', 'none', 'none', 'none', 'none', 'none', 'none', 'none', 'none', 'none', 'none', 'Loc', 'none', 'none', 'none', 'none', 'Edge-Loc', 'none', 'none', 'none', 'none', 'none', 'none', 'none', 'none', 'none', 'none', 'none', 'none', 'none', 'none', 'none', 'none', 'none', 'none', 'none', 'none', 'none', 'none', 'none', 'none', 'none', 'none', 'none', 'none', 'none', 'Edge-Loc', 'none', 'none', 'none', 'none', 'Edge-Loc', 'none', 'none', 'none', 'none', 'none', 'none', 'none', 'none', 'none', 'none', 'none', 'none', 'none', 'none', 'none', 'none', 'none', 'none', 'none', 'none', 'none', 'none', 'none', 'none', 'none', 'none', 'none', 'none', 'none', 'none', 'none', 'none', 'none', 'none', 'none', 'Loc', 'none', 'none', 'none', 'none', 'none', 'none', 'none', 'none', 'none', 'none', 'none', 'none', 'none', 'none', 'none', 'none', 'none', 'none', 'none', 'none', 'none', 'none', 'none', 'none', 'none', 'none', 'none', 'none', 'none', 'none', 'none', 'none', 'none', 'none', 'none', 'none', 'none', 'none', 'none', 'none', 'none', 'none', 'none', 'none', 'none', 'none', 'none', 'none', 'none', 'none', 'none', 'none', 'none', 'none', 'none', 'none', 'none', 'none', 'none', 'none', 'none', 'none', 'none', 'none', 'none', 'none', 'none', 'none', 'none', 'none', 'none', 'none', 'none', 'none', 'none', 'none', 'none', 'none', 'none', 'none', 'none', 'none', 'Center', 'none', 'none', 'none', 'none', 'none', 'none', 'none', 'none', 'none', 'none', 'none', 'none', 'none', 'none', 'none', 'none', 'none', 'none', 'none', 'none', 'none', 'none', 'none', 'none', 'none', 'none', 'none', 'none', 'none', 'none', 'none', 'none', 'none', 'none', 'none', 'none', 'none', 'none', 'none', 'none', 'none', 'none', 'none', 'none', 'none', 'none', 'none', 'none', 'none', 'none', 'none', 'none', 'none', 'none', 'none', 'none', 'none', 'none', 'none', 'none', 'none', 'none', 'none', 'none', 'none', 'none', 'none', 'none', 'none', 'none', 'none', 'none', 'none', 'none', 'none', 'none', 'none', 'none', 'none', 'none', 'none', 'none', 'none', 'none', 'none', 'none', 'none', 'none', 'Edge-Loc', 'none', 'none', 'none', 'none', 'none', 'none', 'none', 'none', 'none', 'none', 'none', 'none', 'none', 'none', 'none', 'none', 'none', 'none', 'none', 'none', 'none', 'none', 'none', 'none', 'none', 'none', 'none', 'none', 'none', 'none', 'none', 'none', 'none', 'none', 'none', 'none', 'none', 'none', 'none', 'none', 'none', 'none', 'none', 'none', 'none', 'none', 'none', 'none', 'none', 'none', 'none', 'none', 'none', 'none', 'none', 'none', 'none', 'none', 'none', 'none', 'none', 'none', 'none', 'none', 'none', 'none', 'none', 'none', 'none', 'none', 'none', 'none', 'none', 'none', 'none', 'none', 'none', 'none', 'none', 'none', 'none', 'none', 'none', 'none', 'none', 'none', 'none', 'none', 'none', 'none', 'none', 'none', 'none', 'none', 'none', 'none', 'none', 'none', 'none', 'none', 'none', 'none', 'none', 'none', 'none', 'none', 'none', 'none', 'none', 'none', 'none', 'none', 'none', 'none', 'none', 'none', 'none', 'none', 'none', 'none', 'none', 'none', 'none', 'none', 'none', 'none', 'none', 'none', 'none', 'none', 'none', 'none', 'none', 'none', 'none', 'none', 'none', 'none', 'none', 'none', 'none', 'none', 'none', 'none', 'none', 'none', 'none', 'none', 'none', 'none', 'none', 'none', 'none', 'none', 'Loc', 'none', 'none', 'none', 'none', 'none', 'none', 'none', 'none', 'none', 'none', 'none', 'none', 'none', 'none', 'none', 'none', 'none', 'none', 'none', 'none', 'none', 'none', 'none', 'none', 'none', 'none', 'none', 'none', 'none', 'none', 'none', 'none', 'none', 'none', 'none', 'none', 'none', 'none', 'none', 'Loc', 'none', 'none', 'none', 'none', 'none', 'none', 'none', 'none', 'none', 'none', 'none', 'none', 'none', 'none', 'none', 'none', 'none', 'none', 'none', 'none', 'none', 'none', 'none', 'none', 'none', 'none', 'none', 'none', 'none', 'none', 'none', 'none', 'none', 'none', 'none', 'none', 'none', 'none', 'none', 'none', 'none', 'none', 'none', 'none', 'none', 'none', 'none', 'none', 'none', 'none', 'none', 'none', 'none', 'none', 'none', 'none', 'none', 'none', 'none', 'none', 'none', 'none', 'none', 'none', 'none', 'none', 'none', 'none', 'none', 'none', 'none', 'none', 'none', 'none', 'none', 'none', 'none', 'none', 'none', 'none', 'none', 'none', 'none', 'none', 'none', 'none', 'none', 'none', 'none', 'none', 'none', 'none', 'none', 'none', 'none', 'none', 'none', 'none', 'none', 'none', 'none', 'none', 'none', 'none', 'none', 'none', 'none', 'none', 'none', 'none', 'none', 'none', 'none', 'none', 'Edge-Loc', 'none', 'none', 'none', 'none', 'none', 'none', 'none', 'none', 'none', 'none', 'none', 'none', 'none', 'none', 'none', 'none', 'Scratch', 'none', 'none', 'none', 'none', 'none', 'none', 'none', 'none', 'none', 'none', 'none', 'none', 'none', 'none', 'none', 'none', 'none', 'none', 'none', 'none', 'none', 'none', 'none', 'none', 'none', 'none', 'none', 'none', 'none', 'none', 'none', 'none', 'none', 'none', 'none', 'none', 'none', 'none', 'none', 'none', 'none', 'none', 'none', 'none', 'none', 'none', 'none', 'none', 'none', 'none', 'none', 'none', 'none', 'none', 'none', 'none', 'none', 'none', 'none', 'none', 'none', 'none', 'none', 'none', 'none', 'none', 'none', 'none', 'none', 'none', 'none', 'none', 'none', 'none', 'none', 'none', 'none', 'none', 'none', 'none', 'none', 'none', 'none', 'none', 'none', 'none', 'none', 'none', 'none', 'none', 'none', 'none', 'none', 'none', 'none', 'none', 'none', 'none', 'none', 'none', 'none', 'none', 'none', 'none', 'none', 'none', 'none', 'none', 'none', 'none', 'none', 'none', 'none', 'none', 'none', 'none', 'none', 'none', 'none', 'none', 'none', 'none', 'none', 'none', 'none', 'none', 'none', 'none', 'none', 'none', 'none', 'none', 'none', 'none', 'none', 'none', 'none', 'none', 'none', 'none', 'none', 'none', 'none', 'none', 'none', 'none', 'none', 'none', 'none', 'none', 'none', 'none', 'none', 'none', 'none', 'none', 'none', 'none', 'none', 'none', 'none', 'none', 'none', 'none', 'Near-full', 'none', 'none', 'none', 'none', 'none', 'none', 'none', 'none', 'none', 'none', 'none', 'none', 'none', 'none', 'none', 'none', 'none', 'none', 'none', 'none', 'none', 'none', 'none', 'none', 'none', 'none', 'none', 'none', 'none', 'none', 'none', 'none', 'none', 'none', 'none', 'none', 'Edge-Loc', 'none', 'none', 'none', 'none', 'none', 'Edge-Loc', 'none', 'none', 'none', 'none', 'none', 'none', 'none', 'none', 'none', 'none', 'none', 'none', 'none', 'none', 'none', 'none', 'none', 'none', 'none', 'none', 'none', 'none', 'none', 'none', 'none', 'none', 'none', 'none', 'none', 'none', 'none', 'none', 'none', 'none', 'none', 'none', 'none', 'none', 'none', 'none', 'none', 'none', 'none', 'none', 'none', 'none', 'none', 'none', 'none', 'none', 'none', 'none', 'none', 'none', 'none', 'none', 'none', 'none', 'none', 'none', 'none', 'none', 'none', 'none', 'none', 'none', 'none', 'none', 'none', 'none', 'none', 'none', 'none', 'none', 'none', 'none', 'none', 'none', 'none', 'none', 'none', 'none', 'none', 'none', 'none', 'none', 'none', 'none', 'none', 'none', 'none', 'none', 'none', 'none', 'none', 'none', 'none', 'none', 'none', 'none', 'none', 'none', 'none', 'none', 'none', 'none', 'none', 'none', 'Edge-Loc', 'none', 'none', 'none', 'none', 'none', 'none', 'none', 'none', 'none', 'none', 'none', 'none', 'none', 'none', 'none', 'none', 'none', 'none', 'none', 'none', 'none', 'none', 'none', 'none', 'none', 'none', 'none', 'none', 'none', 'none', 'none', 'none', 'none', 'none', 'none', 'none', 'none', 'none', 'none', 'none', 'none', 'none', 'none', 'none', 'none', 'none', 'none', 'none', 'none', 'none', 'none', 'none', 'none', 'none', 'none', 'none', 'none', 'none', 'none', 'none', 'none', 'none', 'none', 'none', 'none', 'none', 'none', 'none', 'none', 'none', 'none', 'none', 'none', 'none', 'none', 'none', 'none', 'none', 'none', 'none', 'none', 'none', 'none', 'none', 'none', 'none', 'none', 'none', 'none', 'none', 'none', 'none', 'none', 'none', 'none', 'none', 'none', 'none', 'none', 'none', 'none', 'none', 'none', 'none', 'none', 'none', 'none', 'none', 'none', 'none', 'none', 'none', 'none', 'none', 'none', 'none', 'none', 'none', 'none', 'none', 'none', 'none', 'none', 'none', 'none', 'none', 'none', 'none', 'none', 'none', 'none', 'none', 'none', 'none', 'none', 'none', 'none', 'none', 'none', 'none', 'none', 'none', 'none', 'none', 'none', 'none', 'none', 'none', 'none', 'none', 'none', 'none', 'none', 'none', 'none', 'none', 'none', 'none', 'Edge-Loc', 'none', 'none', 'none', 'none', 'none', 'none', 'none', 'none', 'none', 'none', 'none', 'none', 'none', 'none', 'none', 'none', 'none', 'none', 'none', 'none', 'none', 'none', 'none', 'none', 'none', 'none', 'none', 'none', 'none', 'none', 'none', 'none', 'none', 'none', 'none', 'none', 'none', 'none', 'none', 'none', 'none', 'none', 'none', 'none', 'none', 'none', 'none', 'none', 'none', 'none', 'none', 'none', 'none', 'none', 'none', 'none', 'none', 'none', 'none', 'none', 'none', 'none', 'none', 'none', 'none', 'none', 'none', 'none', 'none', 'none', 'none', 'none', 'none', 'none', 'none', 'none', 'none', 'none', 'none', 'none', 'none', 'none', 'none', 'none', 'none', 'none', 'none', 'none', 'none', 'none', 'none', 'none', 'Edge-Loc', 'none', 'none', 'none', 'none', 'none', 'none', 'none', 'none', 'none', 'none', 'none', 'none', 'none', 'none', 'none', 'none', 'none', 'none', 'none', 'none', 'none', 'none', 'none', 'none', 'none', 'none', 'none', 'none', 'none', 'none', 'none', 'none', 'none', 'none', 'none', 'none', 'none', 'none', 'none', 'none', 'none', 'none', 'none', 'none', 'none', 'none', 'none', 'none', 'none', 'none', 'none', 'none', 'none', 'none', 'none', 'none', 'none', 'none', 'none', 'none', 'none', 'none', 'Center', 'none', 'none', 'none', 'none', 'none', 'none', 'none', 'none', 'none', 'none', 'none', 'none', 'none', 'none', 'Edge-Loc', 'none', 'none', 'none', 'none', 'none', 'none', 'none', 'none', 'none', 'none', 'none', 'none', 'none', 'none', 'none', 'none', 'none', 'none', 'none', 'none', 'none', 'none', 'none', 'none', 'none', 'none', 'none', 'none', 'none', 'none', 'none', 'none', 'none', 'none', 'none', 'none', 'none', 'none', 'none', 'none', 'none', 'none', 'none', 'none', 'none', 'none', 'none', 'none', 'none', 'none', 'none', 'none', 'none', 'none', 'none', 'none', 'none', 'none', 'none', 'none', 'none', 'none', 'none', 'none', 'Loc', 'none', 'none', 'none', 'none', 'none', 'none', 'none', 'none', 'none', 'none', 'none', 'none', 'none', 'none', 'none', 'none', 'none', 'none', 'none', 'Center', 'none', 'none', 'none', 'none', 'none', 'none', 'none', 'none', 'none', 'none', 'none', 'none', 'none', 'none', 'Random', 'none', 'none', 'none', 'none', 'none', 'none', 'none', 'none', 'none', 'none', 'none', 'none', 'none', 'none', 'none', 'none', 'none', 'none', 'none', 'none', 'none', 'none', 'none', 'none', 'none', 'none', 'none', 'none', 'none', 'none', 'none', 'none', 'none', 'none', 'none', 'none', 'none', 'none', 'none', 'none', 'none', 'none', 'none', 'none', 'none', 'none', 'none', 'none', 'none', 'none', 'none', 'none', 'none', 'none', 'none', 'none', 'none', 'none', 'none', 'none', 'none', 'none', 'none', 'none', 'none', 'none', 'none', 'none', 'none', 'none', 'none', 'none', 'none', 'none', 'none', 'none', 'none', 'none', 'none', 'none', 'none', 'none', 'none', 'none', 'none', 'none', 'none', 'none', 'none', 'none', 'none', 'none', 'none', 'none', 'none', 'none', 'none', 'none', 'Edge-Loc', 'none', 'none', 'none', 'none', 'none', 'none', 'none', 'none', 'none', 'Loc', 'Center', 'none', 'none', 'none', 'none', 'none', 'none', 'none', 'none', 'none', 'none', 'none', 'none', 'none', 'none', 'none', 'none', 'none', 'none', 'none', 'none', 'none', 'none', 'none', 'none', 'none', 'none', 'none', 'none', 'none', 'none', 'none', 'none', 'none', 'Center', 'none', 'none', 'none', 'none', 'none', 'none', 'none', 'none', 'none', 'none', 'none', 'none', 'none', 'none', 'none', 'none', 'none', 'none', 'none', 'none', 'none', 'none', 'none', 'none', 'none', 'none', 'none', 'none', 'none', 'none', 'none', 'none', 'none', 'none', 'none', 'none', 'none', 'none', 'none', 'none', 'none', 'none', 'none', 'none', 'none', 'none', 'none', 'none', 'none', 'none', 'none', 'none', 'none', 'none', 'Loc', 'none', 'none', 'none', 'none', 'none', 'none', 'none', 'none', 'none', 'none', 'none', 'none', 'none', 'none', 'none', 'none', 'none', 'none', 'none', 'none', 'none', 'none', 'none', 'none', 'none', 'none', 'none', 'none', 'none', 'Random', 'none', 'none', 'none', 'none', 'none', 'none', 'none', 'none', 'none', 'none', 'Center', 'none', 'none', 'none', 'none', 'none', 'none', 'none', 'none', 'none', 'Loc', 'none', 'none', 'none', 'none', 'none', 'none', 'none', 'none', 'none', 'none', 'none', 'none', 'none', 'none', 'none', 'none', 'none', 'none', 'none', 'none', 'none', 'none', 'none', 'none', 'none', 'none', 'none', 'none', 'none', 'Loc', 'none', 'none', 'none', 'none', 'none', 'none', 'none', 'none', 'none', 'none', 'none', 'none', 'none', 'none', 'none', 'none', 'none', 'none', 'none', 'none', 'none', 'none', 'none', 'none', 'none', 'none', 'none', 'none', 'none', 'none', 'none', 'none', 'none', 'none', 'none', 'none', 'none', 'none', 'none', 'none', 'none', 'none', 'none', 'none', 'none', 'none', 'none', 'none', 'none', 'none', 'none', 'none', 'none', 'none', 'none', 'none', 'none', 'none', 'none', 'none', 'none', 'none', 'none', 'none', 'none', 'none', 'none', 'none', 'none', 'none', 'none', 'none', 'none', 'none', 'none', 'none', 'none', 'none', 'none', 'none', 'none', 'none', 'none', 'none', 'none', 'none', 'none', 'none', 'none', 'none', 'none', 'none', 'none', 'none', 'none', 'none', 'Loc', 'none', 'none', 'none', 'none', 'none', 'none', 'none', 'none', 'none', 'none', 'none', 'none', 'none', 'none', 'none', 'none', 'none', 'none', 'none', 'none', 'none', 'none', 'Edge-Loc', 'none', 'none', 'none', 'none', 'none', 'none', 'none', 'none', 'Loc', 'none', 'none', 'none', 'none', 'none', 'none', 'none', 'none', 'none', 'none', 'none', 'none', 'none', 'none', 'none', 'none', 'none', 'none', 'none', 'none', 'none', 'none', 'none', 'none', 'none', 'none', 'none', 'none', 'none', 'none', 'none', 'none', 'none', 'none', 'none', 'none', 'none', 'none', 'none', 'Center', 'none', 'none', 'none', 'none', 'none', 'none', 'none', 'none', 'none', 'none', 'none', 'none', 'none', 'none', 'none', 'none', 'none', 'none', 'none', 'none', 'none', 'none', 'none', 'none', 'none', 'none', 'none', 'none', 'none', 'none', 'none', 'none', 'none', 'none', 'none', 'none', 'none', 'none', 'none', 'none', 'none', 'none', 'none', 'none', 'none', 'none', 'none', 'none', 'none', 'none', 'none', 'none', 'none', 'none', 'none', 'none', 'none', 'none', 'none', 'none', 'none', 'none', 'none', 'none', 'none', 'none', 'none', 'none', 'none', 'none', 'none', 'none', 'none', 'Edge-Loc', 'none', 'none', 'none', 'none', 'Center', 'none', 'none', 'none', 'none', 'none', 'none', 'none', 'none', 'none', 'none', 'none', 'none', 'none', 'none', 'none', 'none', 'none', 'Edge-Loc', 'none', 'none', 'none', 'none', 'none', 'none', 'none', 'none', 'none', 'none', 'none', 'none', 'none', 'none', 'none', 'none', 'none', 'none', 'none', 'none', 'none', 'none', 'none', 'none', 'none', 'none', 'none', 'none', 'none', 'none', 'none', 'none', 'none', 'none', 'none', 'none', 'none', 'none', 'none', 'none', 'none', 'Edge-Loc', 'none', 'Center', 'none', 'none', 'none', 'none', 'none', 'Edge-Loc', 'none', 'none', 'none', 'none', 'none', 'none', 'none', 'none', 'none', 'none', 'none', 'none', 'none', 'none', 'none', 'none', 'none', 'none', 'none', 'none', 'none', 'none', 'none', 'none', 'Loc', 'none', 'none', 'none', 'none', 'none', 'none', 'none', 'none', 'none', 'none', 'none', 'none', 'none', 'none', 'none', 'none', 'none', 'none', 'none', 'none', 'none', 'none', 'none', 'none', 'none', 'none', 'Loc', 'none', 'none', 'none', 'Loc', 'none', 'none', 'none', 'Edge-Ring', 'none', 'none', 'none', 'none', 'none', 'none', 'none', 'none', 'none', 'none', 'none', 'none', 'none', 'none', 'none', 'none', 'none', 'none', 'none', 'none', 'none', 'none', 'none', 'none', 'none', 'none', 'none', 'none', 'none', 'none', 'none', 'none', 'none', 'none', 'none', 'none', 'none', 'none', 'none', 'none', 'none', 'none', 'none', 'none', 'none', 'none', 'none', 'none', 'none', 'none', 'none', 'none', 'none', 'none', 'none', 'none', 'none', 'none', 'none', 'none', 'none', 'none', 'none', 'none', 'none', 'none', 'none', 'none', 'none', 'none', 'none', 'none', 'none', 'none', 'none', 'none', 'none', 'none', 'none', 'none', 'none', 'none', 'none', 'Edge-Loc', 'none', 'none', 'none', 'none', 'none', 'none', 'none', 'none', 'none', 'none', 'none', 'none', 'none', 'none', 'none', 'none', 'none', 'none', 'none', 'none', 'none', 'none', 'none', 'none', 'none', 'none', 'none', 'none', 'none', 'none', 'none', 'none', 'none', 'none', 'none', 'none', 'none', 'none', 'none', 'none', 'none', 'none', 'none', 'none', 'none', 'none', 'none', 'none', 'none', 'none', 'none', 'none', 'none', 'none', 'none', 'none', 'none', 'none', 'none', 'none', 'none', 'none', 'none', 'none', 'none', 'none', 'none', 'none', 'none', 'none', 'none', 'none', 'none', 'none', 'none', 'none', 'none', 'none', 'none', 'none', 'none', 'none', 'none', 'none', 'none', 'Edge-Loc', 'none', 'none', 'none', 'none', 'none', 'none', 'none', 'none', 'none', 'none', 'none', 'none', 'none', 'none', 'none', 'none', 'none', 'none', 'none', 'none', 'none', 'none', 'none', 'none', 'none', 'none', 'none', 'none', 'none', 'none', 'none', 'Center', 'none', 'none', 'none', 'none', 'none', 'none', 'none', 'none', 'none', 'none', 'none', 'none', 'none', 'none', 'none', 'none', 'none', 'none', 'none', 'none', 'none', 'none', 'none', 'none', 'none', 'none', 'none', 'none', 'none', 'none', 'none', 'none', 'none', 'none', 'none', 'none', 'none', 'none', 'none', 'none', 'none', 'none', 'none', 'none', 'none', 'none', 'none', 'none', 'none', 'none', 'none', 'none', 'none', 'none', 'none', 'Loc', 'none', 'none', 'none', 'none', 'none', 'none', 'none', 'none', 'none', 'none', 'none', 'none', 'none', 'Edge-Ring', 'none', 'none', 'none', 'none', 'none', 'none', 'none', 'none', 'none', 'none', 'none', 'none', 'none', 'none', 'none', 'none', 'none', 'none', 'none', 'none', 'none', 'none', 'none', 'none', 'none', 'none', 'none', 'none', 'none', 'none', 'none', 'none', 'none', 'none', 'none', 'none', 'none', 'none', 'none', 'none', 'none', 'none', 'none', 'none', 'none', 'none', 'none', 'none', 'none', 'none', 'none', 'none', 'none', 'none', 'none', 'none', 'none', 'none', 'none', 'none', 'none', 'none', 'none', 'none', 'none', 'none', 'none', 'none', 'none', 'none', 'none', 'none', 'none', 'none', 'none', 'none', 'none', 'none', 'none', 'none', 'none', 'none', 'none', 'none', 'none', 'none', 'none', 'none', 'Loc', 'none', 'none', 'none', 'none', 'none', 'none', 'none', 'none', 'none', 'none', 'none', 'none', 'none', 'none', 'none', 'none', 'none', 'none', 'none', 'none', 'Loc', 'none', 'none', 'none', 'none', 'none', 'none', 'none', 'none', 'none', 'none', 'none', 'none', 'none', 'none', 'none', 'none', 'none', 'none', 'none', 'none', 'none', 'none', 'none', 'none', 'none', 'none', 'none', 'none', 'Loc', 'none', 'none', 'none', 'none', 'none', 'none', 'none', 'none', 'none', 'none', 'none', 'none', 'none', 'none', 'none', 'none', 'none', 'none', 'none', 'none', 'none', 'none', 'none', 'none', 'none', 'none', 'Center', 'none', 'none', 'none', 'none', 'none', 'none', 'none', 'none', 'none', 'none', 'none', 'none', 'none', 'none', 'none', 'none', 'none', 'none', 'none', 'none', 'none', 'none', 'none', 'none', 'none', 'none', 'none', 'none', 'none', 'none', 'none', 'none', 'none', 'none', 'none', 'none', 'none', 'none', 'none', 'none', 'none', 'none', 'none', 'none', 'none', 'none', 'none', 'none', 'none', 'none', 'none', 'none', 'none', 'none', 'none', 'none', 'none', 'none', 'none', 'none', 'none', 'Near-full', 'none', 'none', 'none', 'none', 'none', 'none', 'none', 'none', 'none', 'Edge-Loc', 'none', 'none', 'none', 'none', 'none', 'none', 'none', 'none', 'none', 'none', 'none', 'none', 'none', 'none', 'none', 'none', 'none', 'none', 'none', 'none', 'none', 'none', 'none', 'none', 'none', 'none', 'none', 'none', 'none', 'none', 'none', 'none', 'Center', 'none', 'none', 'none', 'none', 'none', 'none', 'none', 'none', 'none', 'none', 'none', 'none', 'none', 'none', 'none', 'none', 'none', 'none', 'none', 'none', 'none', 'none', 'none', 'none', 'none', 'none', 'none', 'none', 'none', 'none', 'none', 'none', 'none', 'none', 'none', 'none', 'none', 'none', 'none', 'none', 'none', 'none', 'none', 'none', 'none', 'none', 'none', 'Center', 'none', 'none', 'none', 'none', 'none', 'none', 'none', 'none', 'none', 'none', 'none', 'none', 'none', 'none', 'none', 'none', 'none', 'none', 'none', 'none', 'none', 'none', 'none', 'none', 'none', 'none', 'none', 'none', 'none', 'none', 'none', 'none', 'none', 'none', 'none', 'none', 'none', 'none', 'none', 'Loc', 'none', 'none', 'none', 'none', 'none', 'none', 'none', 'none', 'none', 'none', 'none', 'none', 'none', 'none', 'none', 'none', 'none', 'none', 'none', 'none', 'none', 'Edge-Loc', 'none', 'none', 'none', 'none', 'none', 'none', 'none', 'none', 'none', 'none', 'none', 'none', 'none', 'none', 'none', 'none', 'none', 'none', 'none', 'none', 'none', 'none', 'none', 'none', 'none', 'none', 'none', 'Center', 'none', 'none', 'none', 'none', 'none', 'none', 'none', 'none', 'none', 'none', 'none', 'none', 'none', 'none', 'none', 'none', 'none', 'none', 'none', 'none', 'none', 'none', 'none', 'none', 'none', 'none', 'Edge-Ring', 'none', 'none', 'none', 'Edge-Loc', 'none', 'none', 'none', 'none', 'none', 'none', 'none', 'none', 'none', 'none', 'none', 'none', 'none', 'none', 'none', 'none', 'none', 'none', 'none', 'none', 'none', 'none', 'none', 'none', 'none', 'none', 'none', 'none', 'none', 'none', 'none', 'none', 'none', 'none', 'none', 'none', 'none', 'none', 'none', 'none', 'none', 'none', 'none', 'none', 'none', 'none', 'none', 'none', 'none', 'none', 'none', 'none', 'none', 'none', 'none', 'none', 'none', 'none', 'none', 'none', 'none', 'none', 'none', 'none', 'none', 'none', 'none', 'none', 'none', 'none', 'none', 'none', 'none', 'none', 'none', 'none', 'none', 'none', 'none', 'none', 'none', 'none', 'none', 'none', 'none', 'none', 'none', 'none', 'none', 'none', 'none', 'none', 'none', 'none', 'none', 'none', 'none', 'none', 'none', 'none', 'none', 'none', 'none', 'none', 'none', 'none', 'none', 'none', 'none', 'none', 'none', 'none', 'none', 'none', 'none', 'none', 'none', 'none', 'none', 'none', 'none', 'none', 'none', 'none', 'none', 'none', 'none', 'none', 'none', 'none', 'none', 'none', 'none', 'none', 'none', 'none', 'none', 'none', 'none', 'none', 'none', 'none', 'none', 'none', 'none', 'none', 'none', 'none', 'none', 'none', 'none', 'none', 'none', 'none', 'none', 'none', 'none', 'none', 'none', 'none', 'none', 'none', 'none', 'none', 'none', 'none', 'none', 'none', 'none', 'none', 'Edge-Loc', 'none', 'none', 'Center', 'none', 'none', 'none', 'none', 'none', 'none', 'none', 'none', 'none', 'none', 'none', 'none', 'none', 'none', 'none', 'none', 'none', 'none', 'none', 'none', 'none', 'none', 'none', 'none', 'none', 'none', 'none', 'none', 'none', 'Edge-Loc', 'none', 'none', 'none', 'none', 'none', 'none', 'none', 'none', 'none', 'none', 'none', 'none', 'none', 'none', 'none', 'none', 'none', 'none', 'Edge-Loc', 'none', 'none', 'none', 'none', 'none', 'none', 'none', 'none', 'none', 'none', 'none', 'none', 'none', 'none', 'none', 'none', 'none', 'none', 'none', 'none', 'none', 'none', 'none', 'none', 'none', 'none', 'none', 'none', 'none', 'none', 'none', 'none', 'none', 'none', 'none', 'none', 'none', 'none', 'none', 'none', 'none', 'none', 'none', 'none', 'none', 'none', 'none', 'none', 'none', 'none', 'none', 'none', 'none', 'none', 'none', 'none', 'none', 'none', 'none', 'none', 'none', 'none', 'none', 'none', 'none', 'none', 'none', 'none', 'none', 'none', 'none', 'none', 'none', 'none', 'none', 'none', 'none', 'none', 'none', 'none', 'none', 'none', 'none', 'none', 'none', 'none', 'none', 'none', 'none', 'none', 'none', 'none', 'none', 'none', 'none', 'none', 'none', 'none', 'none', 'none', 'none', 'none', 'none', 'none', 'none', 'none', 'none', 'none', 'none', 'none', 'none', 'none', 'none', 'none', 'none', 'none', 'none', 'none', 'none', 'Edge-Loc', 'none', 'none', 'none', 'none', 'none', 'none', 'none', 'none', 'none', 'none', 'none', 'none', 'none', 'Random', 'none', 'none', 'none', 'none', 'none', 'none', 'none', 'none', 'none', 'none', 'none', 'none', 'none', 'none', 'none', 'none', 'none', 'none', 'none', 'none', 'none', 'none', 'none', 'none', 'none', 'none', 'none', 'none', 'none', 'none', 'none', 'none', 'none', 'none', 'none', 'none', 'none', 'none', 'Edge-Loc', 'none', 'none', 'none', 'none', 'none', 'none', 'none', 'none', 'none', 'none', 'none', 'none', 'none', 'none', 'none', 'none', 'none', 'none', 'none', 'none', 'none', 'none', 'none', 'none', 'none', 'none', 'none', 'none', 'none', 'none', 'none', 'none', 'none', 'Loc', 'none', 'none', 'none', 'none', 'none', 'none', 'none', 'none', 'none', 'none', 'none', 'none', 'none', 'none', 'none', 'none', 'none', 'none', 'none', 'none', 'none', 'none', 'none', 'Loc', 'none', 'none', 'none', 'none', 'none', 'none', 'none', 'none', 'none', 'none', 'none', 'none', 'none', 'none', 'none', 'none', 'none', 'none', 'none', 'none', 'none', 'none', 'none', 'none', 'none', 'none', 'none', 'none', 'none', 'none', 'none', 'none', 'none', 'none', 'none', 'none', 'none', 'none', 'none', 'none', 'none', 'none', 'none', 'none', 'none', 'none', 'none', 'none', 'none', 'none', 'none', 'none', 'none', 'none', 'none', 'none', 'none', 'none', 'none', 'none', 'none', 'none', 'none', 'none', 'none', 'none', 'none', 'none', 'none', 'none', 'none', 'none', 'none', 'none', 'none', 'none', 'none', 'none', 'none', 'none', 'none', 'none', 'none', 'none', 'none', 'none', 'none', 'none', 'none', 'none', 'none', 'none', 'none', 'none', 'none', 'none', 'none', 'none', 'none', 'none', 'Random', 'none', 'none', 'none', 'none', 'none', 'none', 'none', 'none', 'none', 'none', 'none', 'none', 'none', 'none', 'none', 'none', 'none', 'none', 'none', 'none', 'none', 'none', 'none', 'none', 'none', 'none', 'none', 'none', 'none', 'none', 'none', 'none', 'none', 'none', 'none', 'none', 'none', 'none', 'none', 'none', 'none', 'none', 'none', 'none', 'none', 'none', 'none', 'none', 'none', 'none', 'none', 'none', 'none', 'none', 'none', 'none', 'none', 'none', 'none', 'none', 'none', 'none', 'none', 'none', 'none', 'none', 'none', 'none', 'none', 'none', 'none', 'none', 'none', 'none', 'none', 'none', 'none', 'none', 'none', 'none', 'none', 'none', 'none', 'none', 'none', 'none', 'none', 'none', 'none', 'none', 'none', 'none', 'none', 'none', 'none', 'none', 'none', 'none', 'none', 'none', 'none', 'none', 'none', 'none', 'none', 'none', 'none', 'none', 'none', 'none', 'none', 'none', 'none', 'none', 'none', 'none', 'none', 'none', 'none', 'none', 'none', 'none', 'none', 'none', 'none', 'none', 'none', 'none', 'none', 'none', 'none', 'none', 'none', 'none', 'none', 'none', 'none', 'none', 'none', 'none', 'none', 'none', 'none', 'none', 'none', 'none', 'none', 'none', 'none', 'none', 'none', 'Random', 'none', 'none', 'none', 'none', 'none', 'none', 'none', 'none', 'none', 'none', 'none', 'none', 'none', 'none', 'none', 'none', 'none', 'Scratch', 'none', 'none', 'none', 'none', 'none', 'none', 'none', 'none', 'none', 'none', 'none', 'none', 'none', 'none', 'none', 'none', 'none', 'none', 'none', 'none', 'none', 'none', 'none', 'none', 'none', 'none', 'none', 'none', 'none', 'none', 'none', 'none', 'none', 'none', 'none', 'none', 'none', 'none', 'none', 'none', 'none', 'none', 'none', 'none', 'none', 'none', 'none', 'none', 'none', 'none', 'none', 'Edge-Loc', 'none', 'none', 'none', 'none', 'none', 'none', 'none', 'none', 'none', 'none', 'none', 'none', 'none', 'none', 'none', 'none', 'none', 'none', 'none', 'none', 'none', 'none', 'none', 'none', 'none', 'none', 'none', 'none', 'none', 'none', 'none', 'none', 'none', 'none', 'none', 'none', 'none', 'none', 'none', 'none', 'none', 'none', 'none', 'none', 'none', 'none', 'none', 'none', 'none', 'none', 'none', 'none', 'none', 'none', 'none', 'none', 'none', 'none', 'none', 'none', 'none', 'none', 'none', 'none', 'none', 'none', 'none', 'none', 'none', 'none', 'none', 'none', 'none', 'none', 'none', 'none', 'none', 'none', 'none', 'none', 'none', 'none', 'none', 'none', 'none', 'none', 'none', 'none', 'none', 'none', 'none', 'none', 'none', 'none', 'none', 'none', 'none', 'Random', 'none', 'none', 'none', 'none', 'none', 'none', 'none', 'Edge-Ring', 'none', 'none', 'none', 'none', 'none', 'none', 'none', 'none', 'none', 'none', 'none', 'none', 'none', 'none', 'none', 'none', 'none', 'none', 'none', 'none', 'none', 'none', 'none', 'none', 'none', 'none', 'none', 'none', 'none', 'none', 'none', 'none', 'none', 'none', 'none', 'none', 'none', 'none', 'none', 'none', 'none', 'none', 'none', 'none', 'none', 'none', 'none', 'none', 'none', 'none', 'none', 'none', 'none', 'none', 'none', 'none', 'none', 'none', 'none', 'none', 'none', 'none', 'none', 'none', 'none', 'none', 'none', 'none', 'none', 'none', 'none', 'none', 'none', 'none', 'none', 'none', 'none', 'none', 'none', 'none', 'none', 'none', 'none', 'none', 'none', 'none', 'none', 'none', 'none', 'none', 'none', 'none', 'none', 'none', 'none', 'none', 'none', 'none', 'none', 'none', 'none', 'none', 'none', 'none', 'none', 'none', 'none', 'none', 'none', 'none', 'none', 'none', 'none', 'Random', 'none', 'none', 'none', 'none', 'none', 'none', 'none', 'none', 'none', 'none', 'none', 'none', 'none', 'none', 'none', 'none', 'none', 'none', 'none', 'none', 'none', 'none', 'none', 'none', 'none', 'none', 'none', 'none', 'none', 'none', 'none', 'none', 'none', 'none', 'none', 'none', 'none', 'none', 'none', 'none', 'none', 'none', 'none', 'none', 'none', 'none', 'none', 'none', 'none', 'none', 'none', 'none', 'none', 'none', 'none', 'none', 'Loc', 'none', 'none', 'none', 'none', 'none', 'none', 'none', 'none', 'none', 'none', 'none', 'none', 'none', 'none', 'none', 'none', 'none', 'none', 'none', 'none', 'none', 'none', 'none', 'none', 'none', 'none', 'none', 'none', 'none', 'none', 'none', 'none', 'none', 'none', 'none', 'none', 'none', 'none', 'none', 'none', 'none', 'none', 'none', 'none', 'none', 'none', 'none', 'none', 'none', 'none', 'none', 'none', 'none', 'none', 'none', 'none', 'none', 'none', 'none', 'none', 'none', 'none', 'none', 'none', 'none', 'none', 'none', 'none', 'none', 'none', 'none', 'none', 'none', 'none', 'none', 'none', 'none', 'none', 'none', 'Edge-Loc', 'none', 'none', 'none', 'none', 'none', 'none', 'none', 'none', 'none', 'none', 'none', 'none', 'none', 'none', 'none', 'none', 'none', 'none', 'none', 'none', 'none', 'none', 'none', 'none', 'none', 'none', 'none', 'none', 'none', 'none', 'Edge-Loc', 'none', 'none', 'none', 'none', 'none', 'none', 'none', 'none', 'none', 'Loc', 'none', 'none', 'none', 'none', 'none', 'none', 'none', 'none', 'none', 'none', 'none', 'none', 'none', 'none', 'none', 'none', 'none', 'none', 'none', 'none', 'none', 'none', 'none', 'none', 'none', 'none', 'none', 'none', 'none', 'none', 'none', 'none', 'none', 'none', 'Loc', 'none', 'none', 'none', 'none', 'none', 'none', 'none', 'none', 'none', 'none', 'none', 'none', 'none', 'none', 'none', 'none', 'none', 'none', 'none', 'none', 'Random', 'none', 'none', 'none', 'none', 'none', 'none', 'none', 'none', 'none', 'none', 'none', 'none', 'none', 'none', 'none', 'none', 'none', 'none', 'none', 'none', 'none', 'none', 'none', 'none', 'none', 'none', 'none', 'none', 'none', 'none', 'none', 'none', 'none', 'none', 'none', 'none', 'none', 'none', 'none', 'none', 'none', 'none', 'Edge-Loc', 'none', 'none', 'none', 'none', 'none', 'none', 'none', 'none', 'none', 'none', 'none', 'none', 'none', 'none', 'none', 'none', 'none', 'none', 'none', 'none', 'none', 'none', 'none', 'none', 'none', 'none', 'none', 'none', 'none', 'none', 'none', 'none', 'none', 'none', 'none', 'none', 'none', 'none', 'none', 'none', 'none', 'none', 'none', 'none', 'none', 'none', 'none', 'none', 'none', 'none', 'none', 'none', 'none', 'none', 'none', 'none', 'none', 'none', 'none', 'none', 'none', 'none', 'none', 'none', 'none', 'none', 'none', 'none', 'none', 'none', 'none', 'none', 'none', 'none', 'none', 'none', 'none', 'none', 'none', 'none', 'none', 'none', 'none', 'none', 'none', 'none', 'none', 'none', 'none', 'none', 'none', 'none', 'Random', 'none', 'none', 'none', 'none', 'none', 'none', 'none', 'none', 'none', 'none', 'none', 'none', 'none', 'none', 'none', 'none', 'none', 'none', 'none', 'none', 'none', 'none', 'none', 'none', 'none', 'none', 'none', 'none', 'none', 'none', 'none', 'none', 'none', 'none', 'none', 'none', 'none', 'none', 'none', 'none', 'none', 'none', 'none', 'none', 'none', 'none', 'none', 'none', 'none', 'none', 'none', 'none', 'none', 'none', 'none', 'none', 'none', 'none', 'none', 'none', 'none', 'none', 'none', 'none', 'none', 'none', 'none', 'none', 'none', 'none', 'none', 'none', 'none', 'none', 'none', 'none', 'none', 'none', 'none', 'none', 'none', 'none', 'none', 'Edge-Loc', 'Random', 'none', 'none', 'none', 'none', 'none', 'none', 'none', 'none', 'none', 'none', 'none', 'none', 'none', 'none', 'none', 'none', 'none', 'none', 'none', 'none', 'none', 'none', 'none', 'none', 'none', 'none', 'none', 'none', 'none', 'none', 'none', 'none', 'none', 'none', 'none', 'none', 'none', 'none', 'none', 'none', 'none', 'none', 'none', 'none', 'none', 'none', 'none', 'none', 'none', 'none', 'none', 'none', 'none', 'none', 'none', 'none', 'none', 'none', 'none', 'none', 'none', 'none', 'none', 'none', 'none', 'none', 'none', 'none', 'none', 'none', 'none', 'none', 'none', 'none', 'none', 'none', 'none', 'none', 'none', 'none', 'Edge-Loc', 'none', 'none', 'none', 'none', 'none', 'none', 'none', 'none', 'none', 'none', 'none', 'none', 'none', 'none', 'none', 'Random', 'none', 'none', 'none', 'none', 'none', 'none', 'none', 'none', 'none', 'none', 'none', 'none', 'none', 'none', 'none', 'none', 'none', 'none', 'none', 'none', 'none', 'none', 'none', 'none', 'none', 'none', 'none', 'none', 'none', 'none', 'none', 'none', 'none', 'none', 'none', 'none', 'none', 'none', 'Edge-Loc', 'none', 'none', 'none', 'none', 'none', 'none', 'none', 'none', 'none', 'none', 'none', 'none', 'none', 'none', 'none', 'none', 'none', 'none', 'none', 'none', 'none', 'none', 'none', 'none', 'none', 'none', 'none', 'none', 'none', 'none', 'none', 'none', 'none', 'none', 'none', 'none', 'none', 'none', 'none', 'none', 'none', 'none', 'none', 'none', 'none', 'none', 'none', 'none', 'none', 'none', 'none', 'none', 'none', 'none', 'none', 'none', 'none', 'none', 'none', 'none', 'none', 'none', 'Edge-Loc', 'none', 'none', 'none', 'none', 'none', 'none', 'none', 'none', 'none', 'none', 'none', 'none', 'none', 'none', 'none', 'none', 'none', 'none', 'none', 'none', 'none', 'none', 'none', 'none', 'none', 'none', 'none', 'none', 'none', 'none', 'none', 'none', 'none', 'none', 'none', 'none', 'none', 'none', 'none', 'none', 'none', 'none', 'none', 'none', 'none', 'none', 'none', 'none', 'none', 'none', 'none', 'none', 'none', 'none', 'Center', 'none', 'none', 'none', 'none', 'none', 'none', 'none', 'none', 'none', 'none', 'none', 'none', 'none', 'none', 'none', 'none', 'none', 'none', 'none', 'none', 'none', 'none', 'none', 'none', 'none', 'none', 'none', 'none', 'none', 'none', 'none', 'none', 'none', 'none', 'none', 'none', 'none', 'none', 'none', 'none', 'Edge-Loc', 'none', 'none', 'none', 'none', 'none', 'none', 'none', 'none', 'none', 'none', 'none', 'none', 'none', 'none', 'none', 'none', 'none', 'none', 'none', 'none', 'none', 'none', 'none', 'none', 'none', 'none', 'none', 'none', 'none', 'none', 'none', 'none', 'none', 'none', 'none', 'none', 'none', 'none', 'none', 'none', 'none', 'none', 'none', 'none', 'none', 'Random', 'none', 'none', 'none', 'none', 'none', 'none', 'none', 'none', 'none', 'none', 'none', 'none', 'Edge-Loc', 'none', 'none', 'none', 'none', 'none', 'none', 'none', 'none', 'none', 'none', 'none', 'none', 'none', 'none', 'none', 'none', 'none', 'none', 'none', 'none', 'none', 'none', 'none', 'none', 'none', 'none', 'none', 'none', 'none', 'none', 'none', 'none', 'none', 'none', 'none', 'none', 'none', 'none', 'none', 'none', 'none', 'none', 'none', 'none', 'none', 'none', 'none', 'none', 'none', 'none', 'none', 'none', 'none', 'none', 'none', 'none', 'none', 'none', 'none', 'none', 'none', 'none', 'none', 'none', 'none', 'none', 'none', 'none', 'none', 'none', 'none', 'none', 'none', 'none', 'none', 'Loc', 'none', 'none', 'none', 'none', 'none', 'none', 'none', 'none', 'none', 'none', 'none', 'none', 'none', 'none', 'none', 'none', 'none', 'none', 'none', 'none', 'none', 'none', 'none', 'none', 'none', 'none', 'none', 'none', 'none', 'none', 'none', 'none', 'none', 'none', 'none', 'none', 'none', 'none', 'none', 'none', 'none', 'Edge-Loc', 'Random', 'none', 'none', 'none', 'none', 'none', 'none', 'none', 'none', 'none', 'none', 'none', 'none', 'none', 'none', 'none', 'none', 'none', 'none', 'none', 'none', 'none', 'none', 'none', 'none', 'none', 'none', 'none', 'none', 'none', 'none', 'none', 'none', 'none', 'none', 'none', 'none', 'none', 'none', 'none', 'none', 'none', 'none', 'none', 'none', 'none', 'none', 'none', 'none', 'none', 'none', 'none', 'none', 'none', 'none', 'none', 'none', 'none', 'none', 'none', 'none', 'none', 'none', 'none', 'none', 'none', 'none', 'none', 'none', 'none', 'none', 'none', 'none', 'none', 'none', 'none', 'none', 'none', 'none', 'none', 'none', 'none', 'none', 'none', 'none', 'Edge-Loc', 'none', 'none', 'none', 'none', 'none', 'none', 'none', 'none', 'none', 'none', 'none', 'none', 'none', 'none', 'none', 'none', 'none', 'none', 'none', 'none', 'none', 'none', 'none', 'Edge-Loc', 'none', 'none', 'none', 'none', 'none', 'none', 'none', 'none', 'none', 'none', 'none', 'none', 'none', 'none', 'none', 'none', 'none', 'none', 'none', 'none', 'none', 'none', 'none', 'none', 'none', 'none', 'none', 'none', 'none', 'none', 'none', 'none', 'none', 'none', 'none', 'none', 'none', 'none', 'none', 'none', 'none', 'none', 'none', 'none', 'none', 'none', 'none', 'none', 'none', 'none', 'none', 'none', 'none', 'none', 'none', 'none', 'none', 'none', 'none', 'none', 'none', 'none', 'none', 'none', 'none', 'none', 'none', 'none', 'none', 'none', 'none', 'none', 'none', 'none', 'none', 'none', 'none', 'none', 'none', 'none', 'none', 'none', 'none', 'none', 'none', 'none', 'none', 'none', 'none', 'none', 'none', 'none', 'none', 'none', 'none', 'none', 'none', 'none', 'none', 'none', 'none', 'none', 'none', 'none', 'none', 'none', 'none', 'none', 'none', 'none', 'none', 'none', 'none', 'none', 'none', 'none', 'none', 'none', 'none', 'none', 'none', 'none', 'Loc', 'none', 'none', 'none', 'none', 'none', 'none', 'none', 'none', 'none', 'none', 'none', 'none', 'none', 'none', 'none', 'none', 'none', 'none', 'none', 'none', 'none', 'none', 'none', 'none', 'none', 'none', 'none', 'none', 'none', 'none', 'none', 'none', 'none', 'none', 'none', 'none', 'none', 'none', 'none', 'none', 'none', 'none', 'none', 'none', 'none', 'none', 'none', 'none', 'none', 'none', 'none', 'none', 'none', 'none', 'none', 'none', 'none', 'none', 'none', 'none', 'none', 'none', 'none', 'none', 'none', 'none', 'none', 'none', 'none', 'none', 'none', 'none', 'none', 'none', 'none', 'none', 'none', 'none', 'none', 'none', 'none', 'none', 'none', 'none', 'none', 'Edge-Loc', 'none', 'none', 'none', 'none', 'none', 'none', 'none', 'none', 'none', 'none', 'none', 'none', 'none', 'none', 'none', 'none', 'none', 'none', 'none', 'none', 'none', 'none', 'none', 'none', 'none', 'none', 'none', 'none', 'none', 'none', 'none', 'none', 'none', 'none', 'none', 'none', 'none', 'none', 'none', 'none', 'none', 'none', 'none', 'none', 'none', 'none', 'none', 'none', 'none', 'none', 'none', 'none', 'none', 'none', 'none', 'none', 'none', 'none', 'none', 'none', 'none', 'none', 'none', 'none', 'none', 'none', 'none', 'none', 'none', 'none', 'none', 'none', 'none', 'none', 'none', 'none', 'none', 'Center', 'none', 'none', 'none', 'none', 'none', 'none', 'none', 'none', 'none', 'none', 'none', 'none', 'none', 'none', 'none', 'none', 'none', 'none', 'none', 'none', 'none', 'none', 'none', 'none', 'none', 'none', 'none', 'none', 'none', 'none', 'none', 'none', 'none', 'none', 'none', 'none', 'none', 'none', 'none', 'none', 'none', 'Edge-Loc', 'none', 'none', 'none', 'none', 'none', 'none', 'none', 'none', 'none', 'none', 'none', 'none', 'none', 'none', 'none', 'none', 'none', 'none', 'none', 'none', 'none', 'none', 'none', 'none', 'none', 'none', 'none', 'none', 'none', 'none', 'none', 'none', 'none', 'none', 'none', 'none', 'none', 'none', 'none', 'none', 'none', 'none', 'none', 'none', 'none', 'Edge-Loc', 'none', 'none', 'none', 'none', 'none', 'none', 'none', 'none', 'Edge-Loc', 'none', 'none', 'none', 'Center', 'Edge-Loc', 'none', 'none', 'none', 'none', 'none', 'none', 'none', 'none', 'none', 'none', 'none', 'none', 'none', 'none', 'none', 'none', 'none', 'none', 'none', 'none', 'none', 'none', 'none', 'none', 'none', 'none', 'none', 'none', 'none', 'none', 'none', 'none', 'none', 'none', 'none', 'none', 'none', 'none', 'none', 'none', 'none', 'none', 'none', 'none', 'none', 'none', 'none', 'none', 'none', 'none', 'none', 'none', 'none', 'none', 'none', 'none', 'none', 'none', 'none', 'none', 'none', 'none', 'none', 'none', 'none', 'none', 'none', 'none', 'none', 'none', 'none', 'none', 'none', 'none', 'none', 'none', 'none', 'none', 'none', 'none', 'none', 'none', 'none', 'none', 'none', 'none', 'none', 'none', 'none', 'none', 'none', 'none', 'none', 'none', 'none', 'none', 'none', 'none', 'none', 'none', 'none', 'none', 'none', 'none', 'none', 'none', 'none', 'none', 'none', 'none', 'none', 'none', 'none', 'none', 'none', 'none', 'none', 'none', 'none', 'none', 'none', 'none', 'none', 'none', 'none', 'none', 'none', 'none', 'none', 'none', 'none', 'none', 'none', 'none', 'none', 'none', 'none', 'none', 'none', 'none', 'none', 'none', 'none', 'none', 'none', 'none', 'none', 'none', 'none', 'none', 'none', 'none', 'none', 'none', 'none', 'none', 'none', 'none', 'none', 'none', 'none', 'none', 'none', 'none', 'none', 'none', 'none', 'none', 'none', 'Edge-Loc', 'none', 'none', 'none', 'none', 'none', 'none', 'none', 'none', 'none', 'none', 'none', 'none', 'none', 'none', 'none', 'none', 'none', 'none', 'none', 'none', 'none', 'none', 'none', 'none', 'none', 'none', 'none', 'none', 'none', 'none', 'none', 'none', 'none', 'none', 'none', 'none', 'none', 'none', 'none', 'none', 'none', 'none', 'none', 'none', 'none', 'none', 'none', 'none', 'none', 'none', 'none', 'none', 'none', 'none', 'none', 'none', 'none', 'none', 'none', 'none', 'none', 'none', 'none', 'none', 'none', 'none', 'none', 'none', 'none', 'none', 'none', 'none', 'none', 'none', 'none', 'Center', 'none', 'none', 'none', 'none', 'none', 'none', 'none', 'none', 'none', 'none', 'none', 'none', 'none', 'none', 'none', 'none', 'none', 'none', 'none', 'none', 'none', 'none', 'none', 'none', 'none', 'none', 'none', 'none', 'none', 'none', 'none', 'none', 'none', 'none', 'none', 'none', 'none', 'none', 'none', 'none', 'none', 'none', 'none', 'none', 'none', 'none', 'none', 'none', 'none', 'none', 'none', 'none', 'none', 'none', 'none', 'none', 'none', 'none', 'none', 'none', 'none', 'none', 'none', 'none', 'none', 'none', 'none', 'none', 'none', 'none', 'none', 'none', 'none', 'none', 'none', 'none', 'none', 'none', 'none', 'none', 'none', 'none', 'none', 'none', 'none', 'none', 'none', 'none', 'none', 'none', 'none', 'none', 'none', 'none', 'none', 'none', 'none', 'none', 'none', 'none', 'none', 'none', 'none', 'none', 'none', 'none', 'none', 'none', 'none', 'none', 'none', 'none', 'none', 'none', 'none', 'none', 'none', 'none', 'Edge-Loc', 'none', 'none', 'none', 'Edge-Loc', 'none', 'none', 'none', 'none', 'none', 'Edge-Loc', 'none', 'none', 'none', 'none', 'none', 'none', 'none', 'none', 'none', 'none', 'none', 'none', 'none', 'none', 'none', 'none', 'none', 'none', 'none', 'none', 'none', 'none', 'none', 'none', 'none', 'none', 'none', 'none', 'none', 'none', 'none', 'none', 'none', 'none', 'none', 'none', 'none', 'none', 'none', 'none', 'none', 'none', 'none', 'none', 'none', 'none', 'none', 'none', 'none', 'none', 'none', 'none', 'none', 'none', 'none', 'none', 'none', 'none', 'none', 'none', 'none', 'none', 'none', 'none', 'none', 'none', 'none', 'none', 'none', 'none', 'none', 'none', 'none', 'none', 'none', 'none', 'none', 'none', 'none', 'none', 'none', 'none', 'none', 'none', 'none', 'none', 'none', 'none', 'none', 'none', 'none', 'none', 'none', 'none', 'none', 'none', 'none', 'none', 'none', 'none', 'none', 'none', 'none', 'none', 'none', 'Edge-Loc', 'none', 'none', 'none', 'none', 'none', 'none', 'none', 'none', 'none', 'none', 'none', 'none', 'none', 'none', 'none', 'none', 'none', 'none', 'none', 'none', 'none', 'none', 'none', 'none', 'none', 'none', 'none', 'none', 'none', 'none', 'none', 'none', 'none', 'Edge-Loc', 'none', 'none', 'none', 'none', 'none', 'none', 'none', 'none', 'none', 'none', 'none', 'none', 'none', 'none', 'none', 'none', 'none', 'none', 'none', 'none', 'none', 'none', 'Edge-Loc', 'none', 'none', 'none', 'none', 'none', 'Edge-Loc', 'none', 'none', 'none', 'none', 'none', 'none', 'none', 'none', 'none', 'none', 'none', 'none', 'none', 'none', 'none', 'none', 'none', 'none', 'none', 'none', 'none', 'none', 'none', 'none', 'none', 'none', 'none', 'none', 'none', 'none', 'none', 'none', 'none', 'none', 'none', 'none', 'none', 'none', 'none', 'none', 'none', 'none', 'none', 'none', 'none', 'none', 'none', 'none', 'none', 'none', 'none', 'none', 'none', 'none', 'none', 'none', 'none', 'none', 'none', 'none', 'none', 'none', 'none', 'none', 'none', 'none', 'none', 'none', 'none', 'none', 'none', 'none', 'none', 'Edge-Loc', 'none', 'none', 'none', 'none', 'none', 'none', 'none', 'none', 'none', 'none', 'none', 'none', 'none', 'none', 'none', 'none', 'none', 'none', 'none', 'none', 'none', 'none', 'none', 'none', 'none', 'none', 'none', 'none', 'none', 'none', 'none', 'none', 'none', 'none', 'none', 'none', 'none', 'none', 'none', 'none', 'none', 'none', 'none', 'none', 'none', 'none', 'none', 'none', 'none', 'none', 'none', 'none', 'none', 'none', 'none', 'none', 'none', 'none', 'none', 'none', 'none', 'none', 'none', 'none', 'none', 'none', 'none', 'none', 'none', 'none', 'none', 'none', 'none', 'none', 'none', 'none', 'none', 'none', 'none', 'none', 'none', 'none', 'none', 'none', 'none', 'none', 'none', 'none', 'none', 'none', 'none', 'none', 'none', 'none', 'none', 'none', 'none', 'none', 'none', 'none', 'none', 'Loc', 'none', 'none', 'none', 'none', 'none', 'none', 'none', 'none', 'none', 'none', 'none', 'none', 'none', 'none', 'none', 'none', 'none', 'none', 'none', 'none', 'none', 'none', 'none', 'none', 'none', 'none', 'none', 'none', 'none', 'none', 'none', 'none', 'none', 'none', 'none', 'none', 'none', 'none', 'none', 'none', 'none', 'none', 'none', 'none', 'none', 'none', 'none', 'none', 'none', 'none', 'none', 'none', 'none', 'none', 'none', 'none', 'none', 'none', 'none', 'none', 'none', 'none', 'none', 'none', 'none', 'none', 'none', 'none', 'none', 'none', 'none', 'none', 'none', 'none', 'none', 'none', 'none', 'none', 'none', 'none', 'none', 'none', 'none', 'none', 'none', 'none', 'none', 'none', 'none', 'none', 'none', 'none', 'none', 'none', 'none', 'none', 'none', 'none', 'none', 'none', 'none', 'none', 'none', 'none', 'none', 'none', 'none', 'none', 'none', 'none', 'none', 'none', 'none', 'none', 'none', 'none', 'none', 'none', 'none', 'none', 'none', 'none', 'none', 'none', 'none', 'none', 'none', 'none', 'none', 'none', 'none', 'none', 'none', 'none', 'none', 'none', 'none', 'none', 'none', 'none', 'none', 'none', 'none', 'none', 'none', 'none', 'none', 'none', 'none', 'none', 'none', 'none', 'none', 'none', 'none', 'none', 'none', 'none', 'none', 'none', 'none', 'none', 'none', 'none', 'none', 'none', 'none', 'none', 'none', 'none', 'none', 'none', 'none', 'none', 'none', 'none', 'none', 'none', 'none', 'none', 'none', 'none', 'none', 'none', 'none', 'none', 'none', 'none', 'none', 'none', 'none', 'none', 'none', 'none', 'none', 'none', 'none', 'none', 'none', 'none', 'none', 'none', 'none', 'none', 'none', 'none', 'none', 'none', 'none', 'none', 'none', 'none', 'none', 'none', 'none', 'none', 'none', 'none', 'none', 'none', 'none', 'none', 'none', 'none', 'none', 'none', 'none', 'none', 'none', 'none', 'none', 'none', 'none', 'none', 'none', 'none', 'none', 'none', 'none', 'none', 'none', 'none', 'none', 'none', 'none', 'none', 'none', 'none', 'none', 'none', 'none', 'none', 'none', 'none', 'none', 'none', 'none', 'none', 'none', 'none', 'none', 'none', 'none', 'none', 'none', 'none', 'none', 'none', 'none', 'none', 'none', 'none', 'none', 'none', 'none', 'none', 'none', 'none', 'none', 'none', 'none', 'none', 'none', 'none', 'none', 'none', 'none', 'none', 'none', 'none', 'none', 'none', 'none', 'none', 'none', 'none', 'none', 'none', 'none', 'none', 'none', 'none', 'none', 'none', 'none', 'none', 'none', 'none', 'none', 'none', 'none', 'Edge-Loc', 'none', 'none', 'none', 'none', 'none', 'none', 'none', 'none', 'none', 'none', 'none', 'none', 'none', 'none', 'none', 'none', 'none', 'none', 'none', 'none', 'none', 'none', 'none', 'none', 'none', 'none', 'none', 'none', 'none', 'none', 'none', 'Edge-Loc', 'none', 'none', 'none', 'none', 'none', 'none', 'none', 'none', 'none', 'none', 'none', 'none', 'none', 'none', 'none', 'none', 'none', 'none', 'none', 'none', 'none', 'none', 'none', 'none', 'Loc', 'none', 'none', 'none', 'none', 'none', 'none', 'none', 'none', 'none', 'none', 'none', 'none', 'none', 'none', 'none', 'none', 'none', 'none', 'none', 'none', 'none', 'none', 'none', 'none', 'none', 'none', 'none', 'none', 'none', 'none', 'none', 'none', 'none', 'none', 'none', 'none', 'none', 'none', 'none', 'none', 'none', 'none', 'none', 'none', 'none', 'none', 'none', 'none', 'none', 'none', 'none', 'none', 'none', 'none', 'none', 'none', 'none', 'none', 'none', 'none', 'none', 'none', 'none', 'none', 'none', 'none', 'none', 'none', 'none', 'none', 'none', 'none', 'none', 'none', 'none', 'none', 'none', 'none', 'none', 'none', 'none', 'none', 'none', 'none', 'none', 'none', 'none', 'none', 'none', 'none', 'none', 'none', 'none', 'none', 'none', 'none', 'Edge-Ring', 'none', 'none', 'none', 'none', 'none', 'none', 'none', 'none', 'none', 'none', 'none', 'none', 'none', 'none', 'none', 'none', 'none', 'none', 'none', 'none', 'none', 'none', 'none', 'none', 'none', 'none', 'none', 'Edge-Loc', 'none', 'none', 'none', 'none', 'none', 'none', 'none', 'none', 'none', 'none', 'none', 'none', 'none', 'none', 'none', 'none', 'none', 'none', 'none', 'none', 'none', 'none', 'none', 'none', 'none', 'none', 'none', 'none', 'none', 'none', 'none', 'none', 'none', 'none', 'none', 'none', 'none', 'none', 'none', 'none', 'none', 'none', 'none', 'none', 'none', 'none', 'none', 'none', 'none', 'none', 'none', 'none', 'none', 'none', 'none', 'none', 'none', 'none', 'none', 'none', 'none', 'none', 'none', 'none', 'none', 'none', 'none', 'none', 'none', 'none', 'none', 'none', 'none', 'none', 'none', 'none', 'none', 'none', 'none', 'none', 'none', 'none', 'none', 'none', 'none', 'none', 'none', 'Loc', 'none', 'none', 'none', 'none', 'none', 'none', 'none', 'none', 'none', 'none', 'none', 'none', 'none', 'none', 'Edge-Loc', 'none', 'none', 'none', 'none', 'none', 'none', 'none', 'none', 'none', 'none', 'none', 'none', 'none', 'none', 'none', 'none', 'none', 'none', 'none', 'none', 'none', 'none', 'none', 'none', 'none', 'none', 'none', 'none', 'none', 'none', 'none', 'none', 'none', 'none', 'none', 'none', 'none', 'none', 'none', 'none', 'none', 'none', 'none', 'none', 'none', 'none', 'none', 'Random', 'none', 'none', 'none', 'none', 'none', 'none', 'none', 'none', 'none', 'none', 'none', 'none', 'none', 'Loc', 'none', 'none', 'none', 'none', 'none', 'none', 'none', 'none', 'none', 'none', 'none', 'Edge-Loc', 'none', 'none', 'none', 'none', 'none', 'none', 'none', 'none', 'none', 'none', 'Edge-Loc', 'none', 'none', 'none', 'none', 'none', 'none', 'none', 'none', 'none', 'none', 'none', 'none', 'none', 'none', 'none', 'none', 'none', 'none', 'none', 'none', 'none', 'none', 'none', 'none', 'none', 'none', 'none', 'none', 'none', 'none', 'none', 'none', 'none', 'none', 'none', 'none', 'none', 'none', 'none', 'none', 'none', 'none', 'none', 'none', 'none', 'none', 'none', 'none', 'none', 'none', 'none', 'none', 'none', 'none', 'none', 'none', 'none', 'none', 'none', 'none', 'none', 'none', 'none', 'none', 'none', 'none', 'none', 'none', 'none', 'none', 'none', 'none', 'none', 'none', 'none', 'none', 'none', 'none', 'none', 'none', 'none', 'none', 'none', 'none', 'none', 'none', 'none', 'none', 'none', 'none', 'none', 'none', 'none', 'none', 'none', 'none', 'none', 'none', 'none', 'none', 'none', 'none', 'none', 'none', 'none', 'none', 'none', 'none', 'none', 'none', 'none', 'none', 'none', 'none', 'none', 'none', 'none', 'none', 'none', 'none', 'none', 'none', 'Edge-Loc', 'none', 'none', 'none', 'none', 'none', 'none', 'none', 'none', 'none', 'none', 'none', 'none', 'none', 'none', 'none', 'none', 'none', 'none', 'none', 'Edge-Loc', 'none', 'none', 'none', 'none', 'none', 'none', 'none', 'none', 'none', 'none', 'none', 'none', 'none', 'none', 'none', 'none', 'none', 'none', 'none', 'none', 'none', 'none', 'none', 'none', 'none', 'none', 'none', 'none', 'none', 'none', 'none', 'none', 'none', 'none', 'none', 'none', 'none', 'none', 'none', 'none', 'none', 'none', 'none', 'none', 'none', 'none', 'none', 'none', 'Edge-Loc', 'none', 'none', 'none', 'none', 'none', 'none', 'none', 'none', 'none', 'none', 'none', 'none', 'none', 'none', 'Edge-Loc', 'none', 'none', 'none', 'none', 'none', 'none', 'none', 'none', 'Edge-Loc', 'none', 'none', 'Edge-Loc', 'none', 'none', 'none', 'none', 'none', 'none', 'none', 'none', 'none', 'none', 'none', 'none', 'none', 'none', 'none', 'none', 'none', 'none', 'none', 'none', 'none', 'none', 'none', 'none', 'none', 'none', 'none', 'none', 'none', 'none', 'none', 'none', 'none', 'none', 'none', 'none', 'none', 'none', 'none', 'none', 'none', 'none', 'none', 'none', 'none', 'none', 'none', 'none', 'none', 'none', 'none', 'none', 'none', 'none', 'none', 'none', 'none', 'none', 'none', 'none', 'none', 'none', 'none', 'none', 'none', 'none', 'none', 'none', 'none', 'none', 'none', 'none', 'none', 'none', 'none', 'none', 'none', 'none', 'none', 'none', 'none', 'none', 'none', 'none', 'none', 'none', 'Loc', 'none', 'none', 'none', 'none', 'none', 'none', 'none', 'none', 'none', 'Edge-Loc', 'none', 'none', 'none', 'none', 'none', 'none', 'none', 'none', 'none', 'none', 'none', 'none', 'none', 'none', 'none', 'Scratch', 'none', 'none', 'none', 'none', 'none', 'Edge-Loc', 'none', 'none', 'none', 'none', 'none', 'none', 'none', 'none', 'none', 'none', 'none', 'none', 'none', 'none', 'none', 'none', 'none', 'none', 'none', 'none', 'none', 'none', 'none', 'none', 'none', 'none', 'none', 'none', 'none', 'none', 'none', 'none', 'none', 'none', 'none', 'none', 'none', 'none', 'none', 'none', 'none', 'none', 'none', 'none', 'none', 'none', 'none', 'none', 'none', 'none', 'none', 'none', 'none', 'none', 'none', 'none', 'none', 'none', 'none', 'none', 'none', 'none', 'none', 'none', 'none', 'none', 'none', 'none', 'none', 'none', 'none', 'none', 'none', 'none', 'none', 'none', 'none', 'none', 'Loc', 'none', 'none', 'none', 'none', 'none', 'none', 'none', 'none', 'none', 'none', 'none', 'none', 'none', 'none', 'none', 'none', 'none', 'Edge-Loc', 'none', 'none', 'none', 'none', 'none', 'none', 'none', 'none', 'none', 'none', 'none', 'none', 'none', 'none', 'none', 'none', 'none', 'none', 'none', 'none', 'none', 'none', 'none', 'none', 'none', 'Loc', 'none', 'none', 'none', 'none', 'none', 'none', 'none', 'none', 'none', 'none', 'Edge-Loc', 'none', 'none', 'none', 'none', 'none', 'none', 'none', 'none', 'none', 'none', 'none', 'none', 'none', 'none', 'none', 'none', 'none', 'none', 'none', 'none', 'none', 'none', 'none', 'none', 'none', 'Loc', 'none', 'none', 'none', 'none', 'none', 'none', 'none', 'none', 'none', 'none', 'none', 'none', 'none', 'none', 'none', 'none', 'none', 'none', 'none', 'none', 'none', 'none', 'none', 'none', 'none', 'none', 'none', 'none', 'none', 'none', 'none', 'none', 'none', 'none', 'none', 'none', 'none', 'none', 'none', 'none', 'none', 'none', 'none', 'none', 'none', 'none', 'none', 'none', 'none', 'none', 'none', 'none', 'none', 'none', 'none', 'none', 'none', 'none', 'none', 'none', 'Edge-Loc', 'none', 'none', 'none', 'none', 'none', 'none', 'none', 'none', 'none', 'none', 'none', 'none', 'none', 'none', 'none', 'none', 'none', 'none', 'none', 'none', 'none', 'none', 'none', 'none', 'none', 'none', 'none', 'Edge-Loc', 'none', 'none', 'none', 'none', 'none', 'none', 'Edge-Loc', 'none', 'none', 'none', 'none', 'none', 'none', 'none', 'none', 'none', 'none', 'none', 'none', 'none', 'none', 'none', 'none', 'none', 'none', 'none', 'none', 'none', 'none', 'none', 'none', 'none', 'none', 'none', 'none', 'none', 'none', 'none', 'none', 'none', 'none', 'none', 'none', 'none', 'none', 'none', 'none', 'none', 'Scratch', 'none', 'none', 'none', 'none', 'none', 'none', 'none', 'none', 'none', 'none', 'none', 'none', 'none', 'none', 'none', 'none', 'none', 'none', 'Center', 'none', 'none', 'none', 'none', 'none', 'none', 'none', 'none', 'none', 'none', 'none', 'none', 'Edge-Loc', 'none', 'none', 'none', 'none', 'none', 'none', 'none', 'none', 'none', 'none', 'none', 'none', 'none', 'none', 'none', 'none', 'Edge-Loc', 'none', 'none', 'none', 'none', 'none', 'none', 'none', 'none', 'none', 'none', 'none', 'none', 'none', 'none', 'none', 'none', 'none', 'none', 'none', 'none', 'none', 'none', 'none', 'none', 'none', 'none', 'none', 'none', 'none', 'none', 'none', 'none', 'none', 'none', 'none', 'none', 'none', 'none', 'none', 'none', 'none', 'none', 'none', 'none', 'none', 'none', 'none', 'none', 'none', 'none', 'none', 'none', 'none', 'none', 'none', 'none', 'none', 'none', 'none', 'none', 'none', 'none', 'none', 'none', 'none', 'none', 'none', 'none', 'none', 'none', 'none', 'none', 'none', 'none', 'none', 'none', 'none', 'none', 'none', 'none', 'none', 'none', 'none', 'none', 'none', 'none', 'none', 'none', 'none', 'none', 'none', 'none', 'none', 'none', 'none', 'none', 'none', 'none', 'none', 'none', 'none', 'none', 'none', 'none', 'none', 'none', 'none', 'none', 'none', 'none', 'none', 'none', 'none', 'none', 'none', 'none', 'none', 'none', 'none', 'none', 'none', 'none', 'none', 'none', 'none', 'none', 'none', 'none', 'none', 'Edge-Loc', 'none', 'none', 'none', 'none', 'none', 'Random', 'none', 'none', 'none', 'none', 'none', 'none', 'none', 'none', 'none', 'none', 'none', 'none', 'none', 'none', 'none', 'none', 'none', 'none', 'none', 'none', 'none', 'none', 'none', 'none', 'none', 'none', 'none', 'none', 'none', 'none', 'none', 'none', 'none', 'none', 'none', 'none', 'none', 'none', 'none', 'none', 'none', 'none', 'none', 'none', 'none', 'none', 'none', 'Edge-Loc', 'none', 'none', 'none', 'none', 'none', 'none', 'none', 'none', 'none', 'none', 'none', 'none', 'none', 'none', 'none', 'none', 'none', 'none', 'none', 'none', 'none', 'none', 'none', 'none', 'none', 'none', 'none', 'none', 'none', 'none', 'none', 'none', 'none', 'none', 'none', 'none', 'none', 'none', 'Edge-Loc', 'none', 'none', 'none', 'none', 'none', 'none', 'none', 'none', 'none', 'none', 'none', 'none', 'none', 'none', 'none', 'none', 'none', 'none', 'none', 'none', 'none', 'none', 'none', 'none', 'none', 'none', 'none', 'none', 'none', 'none', 'none', 'none', 'none', 'none', 'none', 'none', 'none', 'none', 'none', 'none', 'none', 'none', 'none', 'none', 'none', 'none', 'none', 'none', 'none', 'none', 'none', 'none', 'none', 'none', 'none', 'none', 'none', 'none', 'none', 'none', 'none', 'Edge-Loc', 'none', 'none', 'none', 'none', 'none', 'Random', 'none', 'none', 'none', 'none', 'none', 'none', 'none', 'none', 'none', 'none', 'none', 'none', 'none', 'none', 'none', 'none', 'none', 'none', 'none', 'none', 'none', 'none', 'none', 'none', 'none', 'none', 'none', 'none', 'none', 'none', 'none', 'none', 'none', 'none', 'none', 'none', 'none', 'none', 'none', 'none', 'none', 'none', 'none', 'none', 'none', 'none', 'none', 'none', 'none', 'none', 'none', 'none', 'none', 'none', 'none', 'none', 'none', 'none', 'none', 'none', 'none', 'none', 'none', 'none', 'none', 'none', 'none', 'none', 'none', 'none', 'none', 'none', 'none', 'none', 'none', 'none', 'none', 'none', 'none', 'none', 'none', 'none', 'Edge-Loc', 'none', 'none', 'none', 'none', 'none', 'none', 'none', 'none', 'none', 'none', 'none', 'none', 'none', 'none', 'none', 'none', 'none', 'none', 'none', 'none', 'none', 'none', 'none', 'none', 'none', 'none', 'none', 'none', 'none', 'none', 'none', 'none', 'none', 'none', 'none', 'none', 'none', 'none', 'none', 'none', 'none', 'none', 'none', 'none', 'none', 'none', 'none', 'none', 'none', 'none', 'none', 'none', 'none', 'none', 'none', 'none', 'none', 'none', 'none', 'none', 'none', 'none', 'none', 'none', 'none', 'none', 'none', 'none', 'none', 'none', 'none', 'none', 'none', 'none', 'none', 'none', 'none', 'none', 'none', 'none', 'none', 'none', 'none', 'none', 'none', 'none', 'none', 'none', 'none', 'none', 'none', 'none', 'none', 'none', 'none', 'none', 'none', 'none', 'none', 'none', 'none', 'none', 'none', 'none', 'none', 'none', 'none', 'none', 'none', 'none', 'none', 'none', 'none', 'none', 'none', 'none', 'none', 'none', 'none', 'none', 'none', 'none', 'none', 'none', 'none', 'none', 'none', 'none', 'none', 'none', 'none', 'none', 'none', 'none', 'none', 'none', 'none', 'none', 'none', 'none', 'none', 'none', 'none', 'none', 'none', 'none', 'none', 'none', 'Edge-Loc', 'none', 'none', 'none', 'none', 'none', 'none', 'none', 'none', 'none', 'none', 'none', 'none', 'none', 'none', 'none', 'none', 'none', 'none', 'none', 'none', 'none', 'none', 'none', 'none', 'none', 'none', 'none', 'none', 'none', 'none', 'none', 'none', 'none', 'none', 'none', 'none', 'none', 'none', 'none', 'none', 'none', 'none', 'none', 'none', 'none', 'none', 'none', 'none', 'none', 'none', 'none', 'none', 'none', 'none', 'none', 'none', 'none', 'none', 'none', 'none', 'none', 'none', 'none', 'none', 'none', 'none', 'none', 'none', 'none', 'none', 'none', 'none', 'none', 'none', 'none', 'none', 'none', 'none', 'none', 'none', 'none', 'none', 'none', 'none', 'none', 'none', 'none', 'none', 'none', 'none', 'none', 'none', 'none', 'none', 'none', 'none', 'none', 'none', 'none', 'none', 'none', 'none', 'none', 'none', 'none', 'none', 'none', 'none', 'none', 'none', 'none', 'none', 'none', 'none', 'none', 'none', 'none', 'none', 'none', 'none', 'none', 'none', 'none', 'none', 'none', 'none', 'none', 'none', 'none', 'none', 'none', 'none', 'none', 'none', 'none', 'none', 'none', 'none', 'none', 'none', 'none', 'none', 'none', 'none', 'none', 'none', 'none', 'none', 'none', 'none', 'none', 'none', 'none', 'none', 'none', 'none', 'none', 'none', 'none', 'none', 'none', 'none', 'none', 'none', 'none', 'none', 'Edge-Loc', 'none', 'none', 'none', 'none', 'none', 'none', 'none', 'none', 'none', 'none', 'none', 'none', 'none', 'none', 'none', 'none', 'none', 'none', 'none', 'none', 'none', 'none', 'none', 'none', 'none', 'none', 'none', 'none', 'none', 'none', 'none', 'none', 'none', 'none', 'none', 'none', 'none', 'none', 'none', 'none', 'none', 'none', 'none', 'none', 'none', 'none', 'none', 'none', 'none', 'none', 'none', 'none', 'none', 'none', 'none', 'none', 'none', 'none', 'none', 'none', 'none', 'none', 'none', 'none', 'none', 'none', 'none', 'none', 'none', 'none', 'none', 'none', 'none', 'Edge-Loc', 'none', 'none', 'none', 'none', 'none', 'none', 'none', 'none', 'none', 'none', 'none', 'none', 'none', 'none', 'none', 'none', 'none', 'none', 'none', 'none', 'none', 'none', 'none', 'none', 'none', 'none', 'none', 'none', 'none', 'none', 'none', 'none', 'Edge-Loc', 'none', 'none', 'none', 'none', 'none', 'Edge-Loc', 'none', 'none', 'none', 'none', 'none', 'none', 'none', 'none', 'none', 'none', 'none', 'none', 'none', 'none', 'none', 'none', 'none', 'none', 'none', 'Loc', 'none', 'none', 'none', 'none', 'none', 'none', 'none', 'none', 'none', 'none', 'none', 'none', 'none', 'none', 'none', 'none', 'none', 'none', 'none', 'none', 'none', 'none', 'none', 'none', 'none', 'none', 'none', 'none', 'none', 'none', 'none', 'none', 'none', 'none', 'none', 'none', 'none', 'none', 'none', 'none', 'none', 'none', 'none', 'none', 'none', 'none', 'none', 'none', 'none', 'none', 'none', 'none', 'none', 'none', 'none', 'none', 'none', 'none', 'none', 'none', 'none', 'none', 'none', 'none', 'none', 'none', 'none', 'none', 'none', 'none', 'none', 'none', 'none', 'none', 'none', 'none', 'none', 'none', 'none', 'none', 'none', 'none', 'none', 'none', 'none', 'none', 'none', 'none', 'none', 'none', 'none', 'none', 'none', 'none', 'none', 'none', 'none', 'none', 'none', 'none', 'none', 'none', 'none', 'none', 'none', 'none', 'none', 'none', 'none', 'none', 'none', 'none', 'none', 'none', 'none', 'none', 'none', 'none', 'none', 'none', 'none', 'none', 'none', 'none', 'none', 'none', 'none', 'none', 'none', 'none', 'none', 'none', 'none', 'none', 'none', 'none', 'none', 'none', 'none', 'none', 'none', 'none', 'none', 'none', 'none', 'none', 'none', 'none', 'none', 'none', 'none', 'none', 'none', 'none', 'none', 'none', 'none', 'none', 'none', 'none', 'none', 'none', 'none', 'none', 'none', 'none', 'none', 'none', 'none', 'none', 'none', 'none', 'none', 'none', 'none', 'none', 'none', 'none', 'none', 'none', 'none', 'none', 'none', 'none', 'none', 'none', 'none', 'none', 'none', 'none', 'none', 'none', 'none', 'none', 'none', 'Loc', 'none', 'none', 'none', 'none', 'none', 'none', 'none', 'none', 'none', 'none', 'Loc', 'none', 'none', 'none', 'none', 'none', 'none', 'none', 'none', 'none', 'none', 'none', 'none', 'none', 'none', 'none', 'none', 'none', 'none', 'none', 'none', 'none', 'none', 'none', 'none', 'none', 'none', 'none', 'none', 'none', 'none', 'none', 'none', 'none', 'none', 'none', 'none', 'none', 'none', 'none', 'none', 'Edge-Loc', 'none', 'none', 'none', 'none', 'none', 'none', 'none', 'none', 'none', 'none', 'none', 'none', 'none', 'none', 'none', 'none', 'none', 'none', 'none', 'none', 'none', 'none', 'none', 'none', 'none', 'none', 'none', 'none', 'none', 'none', 'none', 'none', 'none', 'none', 'none', 'none', 'none', 'none', 'none', 'none', 'none', 'none', 'none', 'none', 'none', 'none', 'none', 'none', 'none', 'none', 'none', 'none', 'none', 'none', 'none', 'none', 'none', 'none', 'none', 'none', 'none', 'none', 'none', 'none', 'none', 'none', 'none', 'none', 'none', 'none', 'none', 'none', 'none', 'none', 'none', 'none', 'none', 'none', 'none', 'none', 'none', 'none', 'none', 'none', 'none', 'none', 'none', 'none', 'none', 'none', 'none', 'none', 'none', 'none', 'none', 'none', 'none', 'none', 'none', 'none', 'none', 'none', 'none', 'none', 'none', 'none', 'none', 'none', 'none', 'none', 'none', 'none', 'none', 'none', 'none', 'none', 'none', 'none', 'none', 'Loc', 'none', 'none', 'none', 'none', 'none', 'none', 'none', 'none', 'none', 'Loc', 'none', 'none', 'none', 'none', 'Edge-Loc', 'none', 'none', 'none', 'none', 'none', 'none', 'none', 'none', 'none', 'none', 'none', 'none', 'none', 'none', 'none', 'none', 'none', 'none', 'none', 'none', 'none', 'none', 'none', 'none', 'none', 'none', 'none', 'none', 'none', 'none', 'none', 'none', 'none', 'none', 'none', 'none', 'none', 'none', 'none', 'none', 'none', 'none', 'none', 'none', 'none', 'none', 'none', 'none', 'none', 'none', 'none', 'none', 'none', 'none', 'none', 'none', 'Edge-Loc', 'none', 'none', 'none', 'none', 'none', 'none', 'none', 'none', 'none', 'none', 'none', 'none', 'none', 'none', 'none', 'none', 'none', 'none', 'none', 'none', 'none', 'none', 'none', 'none', 'none', 'none', 'none', 'none', 'none', 'none', 'none', 'none', 'none', 'none', 'none', 'Loc', 'none', 'none', 'none', 'none', 'none', 'Loc', 'none', 'none', 'none', 'none', 'none', 'none', 'none', 'none', 'none', 'none', 'none', 'none', 'none', 'none', 'none', 'none', 'none', 'none', 'none', 'none', 'none', 'none', 'none', 'none', 'none', 'none', 'none', 'none', 'none', 'none', 'Edge-Loc', 'none', 'none', 'none', 'none', 'none', 'none', 'none', 'none', 'none', 'Edge-Loc', 'none', 'none', 'none', 'none', 'none', 'none', 'none', 'none', 'none', 'none', 'none', 'none', 'none', 'none', 'none', 'none', 'none', 'none', 'none', 'none', 'none', 'none', 'none', 'none', 'none', 'none', 'none', 'none', 'none', 'none', 'none', 'none', 'none', 'none', 'none', 'none', 'none', 'none', 'none', 'none', 'none', 'none', 'none', 'none', 'none', 'none', 'none', 'none', 'none', 'none', 'none', 'none', 'none', 'none', 'none', 'none', 'none', 'none', 'none', 'none', 'none', 'none', 'none', 'none', 'none', 'none', 'none', 'none', 'none', 'none', 'none', 'none', 'none', 'none', 'none', 'none', 'none', 'none', 'none', 'none', 'none', 'none', 'none', 'none', 'none', 'none', 'none', 'none', 'none', 'none', 'none', 'none', 'none', 'none', 'none', 'none', 'none', 'none', 'none', 'none', 'none', 'none', 'none', 'none', 'none', 'none', 'none', 'none', 'none', 'none', 'none', 'none', 'none', 'none', 'none', 'none', 'none', 'none', 'none', 'none', 'none', 'none', 'none', 'none', 'none', 'none', 'none', 'none', 'none', 'none', 'none', 'none', 'none', 'none', 'none', 'none', 'none', 'none', 'none', 'none', 'none', 'none', 'none', 'none', 'none', 'none', 'none', 'none', 'none', 'none', 'Loc', 'none', 'none', 'none', 'none', 'Edge-Loc', 'none', 'none', 'none', 'none', 'none', 'none', 'none', 'none', 'none', 'none', 'none', 'none', 'none', 'none', 'none', 'Scratch', 'none', 'none', 'none', 'none', 'none', 'none', 'none', 'none', 'none', 'none', 'none', 'none', 'none', 'none', 'none', 'none', 'none', 'none', 'none', 'none', 'none', 'none', 'none', 'none', 'none', 'none', 'none', 'none', 'none', 'none', 'none', 'none', 'none', 'none', 'none', 'Loc', 'none', 'none', 'none', 'none', 'none', 'none', 'none', 'none', 'none', 'none', 'none', 'none', 'none', 'none', 'none', 'none', 'none', 'none', 'none', 'none', 'none', 'none', 'none', 'none', 'none', 'none', 'none', 'none', 'none', 'none', 'none', 'none', 'none', 'none', 'none', 'none', 'none', 'none', 'none', 'none', 'none', 'none', 'none', 'none', 'none', 'none', 'none', 'none', 'none', 'none', 'none', 'none', 'none', 'none', 'none', 'none', 'none', 'none', 'none', 'none', 'none', 'none', 'none', 'none', 'none', 'none', 'none', 'none', 'none', 'none', 'none', 'none', 'none', 'none', 'none', 'none', 'none', 'none', 'none', 'none', 'none', 'none', 'none', 'none', 'none', 'none', 'none', 'none', 'none', 'Edge-Loc', 'none', 'none', 'none', 'none', 'none', 'none', 'none', 'none', 'none', 'none', 'none', 'none', 'none', 'none', 'none', 'none', 'none', 'none', 'none', 'none', 'none', 'none', 'none', 'none', 'none', 'none', 'none', 'none', 'none', 'none', 'none', 'none', 'none', 'none', 'none', 'none', 'none', 'none', 'none', 'none', 'none', 'none', 'none', 'none', 'none', 'none', 'none', 'none', 'none', 'none', 'none', 'none', 'none', 'none', 'none', 'none', 'none', 'none', 'none', 'none', 'none', 'none', 'none', 'Edge-Loc', 'none', 'none', 'none', 'none', 'none', 'none', 'none', 'none', 'none', 'none', 'none', 'none', 'none', 'none', 'none', 'none', 'none', 'none', 'none', 'none', 'none', 'none', 'none', 'none', 'none', 'none', 'none', 'none', 'none', 'none', 'none', 'none', 'none', 'none', 'none', 'none', 'none', 'Edge-Loc', 'none', 'Edge-Loc', 'none', 'none', 'none', 'none', 'none', 'none', 'none', 'none', 'none', 'none', 'none', 'none', 'none', 'none', 'none', 'none', 'none', 'none', 'none', 'none', 'none', 'none', 'none', 'none', 'none', 'none', 'Scratch', 'none', 'none', 'none', 'none', 'none', 'none', 'none', 'none', 'none', 'none', 'none', 'none', 'none', 'none', 'none', 'none', 'none', 'none', 'none', 'none', 'none', 'Edge-Loc', 'none', 'none', 'Loc', 'none', 'none', 'none', 'none', 'none', 'none', 'none', 'none', 'none', 'none', 'Near-full', 'none', 'none', 'none', 'none', 'Loc', 'none', 'none', 'none', 'none', 'none', 'none', 'none', 'none', 'none', 'none', 'none', 'Loc', 'none', 'none', 'none', 'none', 'none', 'none', 'none', 'none', 'none', 'none', 'none', 'none', 'none', 'none', 'none', 'none', 'none', 'Center', 'none', 'none', 'none', 'none', 'none', 'none', 'none', 'none', 'none', 'none', 'Loc', 'none', 'none', 'none', 'none', 'none', 'none', 'none', 'none', 'none', 'none', 'none', 'none', 'none', 'none', 'Random', 'none', 'none', 'none', 'none', 'none', 'none', 'none', 'none', 'none', 'none', 'Edge-Loc', 'none', 'none', 'none', 'none', 'none', 'none', 'none', 'none', 'none', 'none', 'none', 'none', 'none', 'none', 'none', 'none', 'none', 'none', 'none', 'none', 'none', 'none', 'none', 'none', 'none', 'none', 'none', 'none', 'none', 'none', 'none', 'none', 'none', 'none', 'none', 'none', 'none', 'none', 'none', 'none', 'none', 'none', 'none', 'none', 'none', 'none', 'none', 'none', 'none', 'none', 'none', 'none', 'none', 'none', 'none', 'none', 'none', 'none', 'none', 'none', 'none', 'none', 'none', 'none', 'none', 'none', 'none', 'none', 'none', 'none', 'none', 'none', 'none', 'none', 'none', 'none', 'Edge-Loc', 'none', 'none', 'none', 'none', 'none', 'none', 'none', 'Edge-Ring', 'none', 'none', 'none', 'none', 'none', 'none', 'none', 'none', 'none', 'none', 'none', 'none', 'none', 'none', 'none', 'none', 'none', 'none', 'Center', 'none', 'none', 'none', 'none', 'none', 'none', 'none', 'Edge-Loc', 'none', 'none', 'none', 'none', 'none', 'Edge-Loc', 'none', 'Loc', 'none', 'none', 'none', 'none', 'none', 'none', 'none', 'Loc', 'none', 'none', 'Edge-Loc', 'none', 'none', 'none', 'none', 'none', 'none', 'none', 'none', 'none', 'none', 'none', 'none', 'none', 'none', 'none', 'none', 'none', 'Edge-Loc', 'none', 'none', 'none', 'none', 'none', 'none', 'none', 'none', 'none', 'none', 'none', 'none', 'none', 'none', 'Edge-Loc', 'none', 'none', 'none', 'none', 'none', 'none', 'none', 'none', 'none', 'none', 'none', 'none', 'none', 'none', 'none', 'none', 'none', 'none', 'none', 'none', 'none', 'none', 'none', 'none', 'none', 'none', 'none', 'none', 'none', 'none', 'none', 'none', 'none', 'none', 'none', 'none', 'none', 'none', 'none', 'none', 'none', 'none', 'none', 'none', 'none', 'none', 'none', 'none', 'none', 'none', 'none', 'none', 'none', 'none', 'none', 'none', 'none', 'none', 'none', 'none', 'none', 'none', 'none', 'none', 'none', 'none', 'none', 'none', 'none', 'none', 'Loc', 'none', 'none', 'none', 'none', 'none', 'none', 'none', 'none', 'none', 'Edge-Loc', 'none', 'none', 'none', 'none', 'none', 'none', 'none', 'none', 'none', 'none', 'none', 'none', 'none', 'none', 'none', 'none', 'none', 'none', 'Scratch', 'none', 'none', 'none', 'none', 'none', 'none', 'none', 'none', 'Loc', 'none', 'none', 'none', 'none', 'none', 'none', 'none', 'none', 'none', 'none', 'none', 'none', 'none', 'none', 'none', 'none', 'none', 'none', 'none', 'none', 'none', 'Loc', 'none', 'none', 'none', 'none', 'none', 'none', 'none', 'none', 'Center', 'none', 'none', 'none', 'none', 'none', 'none', 'none', 'none', 'none', 'none', 'none', 'none', 'none', 'none', 'none', 'none', 'none', 'none', 'none', 'none', 'none', 'none', 'none', 'none', 'none', 'none', 'none', 'none', 'none', 'none', 'none', 'none', 'none', 'none', 'none', 'none', 'none', 'none', 'none', 'none', 'none', 'none', 'none', 'none', 'none', 'none', 'none', 'none', 'none', 'none', 'Center', 'none', 'none', 'none', 'none', 'none', 'none', 'none', 'none', 'none', 'none', 'none', 'none', 'none', 'none', 'none', 'none', 'Loc', 'none', 'none', 'Loc', 'none', 'none', 'none', 'none', 'none', 'none', 'none', 'none', 'none', 'none', 'none', 'none', 'none', 'none', 'none', 'none', 'none', 'none', 'none', 'none', 'none', 'none', 'none', 'none', 'none', 'Center', 'none', 'none', 'none', 'none', 'Loc', 'none', 'Loc', 'none', 'none', 'none', 'none', 'none', 'none', 'none', 'none', 'none', 'none', 'none', 'none', 'none', 'none', 'none', 'none', 'none', 'none', 'none', 'none', 'none', 'none', 'Center', 'none', 'none', 'none', 'none', 'none', 'none', 'none', 'none', 'none', 'none', 'none', 'none', 'none', 'none', 'none', 'none', 'none', 'none', 'none', 'none', 'none', 'none', 'none', 'none', 'Loc', 'none', 'none', 'none', 'none', 'none', 'none', 'none', 'none', 'none', 'none', 'none', 'none', 'none', 'none', 'none', 'none', 'none', 'none', 'none', 'Loc', 'none', 'none', 'none', 'none', 'none', 'none', 'none', 'none', 'none', 'none', 'none', 'none', 'none', 'none', 'none', 'none', 'none', 'none', 'none', 'none', 'none', 'none', 'none', 'none', 'none', 'none', 'none', 'none', 'none', 'none', 'none', 'none', 'none', 'Loc', 'none', 'none', 'none', 'none', 'none', 'none', 'none', 'none', 'none', 'none', 'none', 'none', 'none', 'none', 'none', 'none', 'none', 'none', 'none', 'none', 'none', 'none', 'none', 'none', 'none', 'none', 'none', 'none', 'none', 'none', 'none', 'none', 'none', 'none', 'none', 'none', 'Center', 'none', 'none', 'none', 'none', 'none', 'none', 'none', 'none', 'none', 'none', 'none', 'none', 'none', 'none', 'none', 'none', 'none', 'none', 'Edge-Loc', 'none', 'none', 'none', 'none', 'none', 'none', 'none', 'none', 'none', 'none', 'none', 'none', 'none', 'none', 'none', 'none', 'none', 'none', 'none', 'Edge-Loc', 'Edge-Loc', 'none', 'none', 'none', 'none', 'none', 'none', 'none', 'none', 'none', 'none', 'none', 'none', 'none', 'none', 'none', 'none', 'none', 'none', 'none', 'none', 'none', 'none', 'none', 'none', 'none', 'none', 'none', 'Loc', 'none', 'none', 'none', 'none', 'none', 'none', 'none', 'none', 'none', 'none', 'none', 'none', 'none', 'none', 'none', 'none', 'none', 'none', 'none', 'none', 'none', 'none', 'none', 'none', 'none', 'none', 'none', 'none', 'none', 'none', 'none', 'none', 'none', 'none', 'Loc', 'none', 'Edge-Loc', 'none', 'none', 'none', 'none', 'none', 'none', 'none', 'none', 'none', 'none', 'none', 'none', 'none', 'none', 'none', 'none', 'none', 'none', 'Center', 'none', 'none', 'none', 'none', 'Scratch', 'none', 'none', 'none', 'none', 'none', 'none', 'none', 'none', 'none', 'none', 'none', 'none', 'none', 'none', 'none', 'none', 'none', 'none', 'none', 'none', 'none', 'none', 'none', 'none', 'none', 'none', 'none', 'none', 'none', 'Loc', 'none', 'none', 'none', 'none', 'none', 'none', 'none', 'Random', 'none', 'none', 'none', 'none', 'none', 'none', 'none', 'none', 'none', 'none', 'none', 'Loc', 'none', 'Loc', 'none', 'none', 'none', 'none', 'none', 'none', 'none', 'none', 'none', 'none', 'none', 'Center', 'none', 'none', 'none', 'none', 'none', 'none', 'none', 'none', 'none', 'none', 'none', 'Loc', 'none', 'none', 'none', 'none', 'none', 'none', 'none', 'none', 'none', 'none', 'none', 'none', 'none', 'none', 'none', 'none', 'none', 'none', 'none', 'none', 'none', 'Edge-Loc', 'none', 'none', 'none', 'none', 'none', 'none', 'Center', 'none', 'none', 'none', 'Scratch', 'none', 'none', 'none', 'none', 'none', 'none', 'none', 'none', 'none', 'none', 'none', 'none', 'none', 'none', 'none', 'none', 'none', 'none', 'none', 'none', 'none', 'none', 'none', 'none', 'none', 'none', 'none', 'none', 'none', 'none', 'none', 'none', 'none', 'none', 'none', 'none', 'none', 'none', 'none', 'none', 'none', 'none', 'none', 'none', 'none', 'none', 'Center', 'none', 'none', 'none', 'none', 'none', 'none', 'none', 'none', 'none', 'none', 'none', 'none', 'none', 'none', 'none', 'none', 'none', 'none', 'none', 'none', 'none', 'none', 'none', 'none', 'none', 'none', 'none', 'none', 'none', 'none', 'none', 'none', 'none', 'none', 'none', 'none', 'none', 'none', 'none', 'none', 'none', 'none', 'none', 'none', 'none', 'none', 'none', 'none', 'none', 'none', 'none', 'none', 'none', 'none', 'none', 'none', 'none', 'none', 'none', 'none', 'none', 'none', 'none', 'none', 'none', 'none', 'none', 'none', 'none', 'none', 'none', 'none', 'none', 'none', 'Loc', 'none', 'none', 'none', 'none', 'none', 'none', 'none', 'none', 'none', 'Scratch', 'none', 'none', 'none', 'none', 'none', 'none', 'none', 'none', 'none', 'none', 'none', 'none', 'none', 'none', 'none', 'none', 'none', 'none', 'none', 'none', 'none', 'none', 'none', 'none', 'none', 'none', 'none', 'none', 'none', 'none', 'none', 'none', 'none', 'none', 'none', 'none', 'none', 'none', 'none', 'none', 'none', 'none', 'none', 'none', 'none', 'none', 'none', 'none', 'none', 'none', 'none', 'none', 'none', 'none', 'none', 'none', 'none', 'none', 'none', 'none', 'Edge-Loc', 'none', 'none', 'none', 'none', 'none', 'none', 'none', 'none', 'none', 'none', 'none', 'none', 'none', 'none', 'none', 'none', 'none', 'none', 'none', 'none', 'none', 'none', 'none', 'none', 'none', 'none', 'none', 'none', 'Loc', 'none', 'none', 'none', 'none', 'none', 'none', 'none', 'none', 'none', 'none', 'none', 'none', 'none', 'none', 'none', 'none', 'none', 'none', 'none', 'none', 'none', 'none', 'none', 'none', 'none', 'none', 'none', 'none', 'none', 'none', 'none', 'none', 'none', 'none', 'none', 'none', 'none', 'none', 'none', 'Edge-Loc', 'none', 'none', 'none', 'none', 'none', 'none', 'none', 'none', 'none', 'none', 'none', 'none', 'none', 'none', 'none', 'none', 'none', 'none', 'none', 'none', 'none', 'none', 'none', 'none', 'none', 'none', 'none', 'none', 'none', 'none', 'none', 'none', 'none', 'none', 'none', 'none', 'none', 'none', 'none', 'none', 'none', 'none', 'none', 'none', 'none', 'none', 'none', 'none', 'none', 'none', 'none', 'none', 'none', 'none', 'none', 'none', 'none', 'none', 'none', 'none', 'none', 'none', 'none', 'none', 'none', 'none', 'none', 'none', 'none', 'none', 'none', 'none', 'none', 'none', 'Loc', 'none', 'none', 'none', 'none', 'none', 'none', 'none', 'none', 'none', 'none', 'none', 'none', 'none', 'none', 'none', 'none', 'none', 'none', 'none', 'none', 'none', 'none', 'none', 'none', 'none', 'none', 'none', 'none', 'none', 'none', 'none', 'none', 'none', 'none', 'none', 'none', 'none', 'none', 'none', 'Scratch', 'none', 'none', 'none', 'none', 'none', 'none', 'none', 'none', 'none', 'none', 'none', 'none', 'none', 'none', 'none', 'none', 'none', 'none', 'none', 'none', 'Scratch', 'none', 'none', 'none', 'none', 'none', 'none', 'none', 'none', 'none', 'none', 'none', 'none', 'none', 'Center', 'none', 'none', 'none', 'none', 'none', 'none', 'none', 'none', 'none', 'none', 'none', 'none', 'none', 'none', 'none', 'none', 'none', 'none', 'Scratch', 'none', 'none', 'none', 'none', 'none', 'none', 'none', 'none', 'none', 'none', 'none', 'none', 'none', 'none', 'none', 'none', 'none', 'Loc', 'none', 'none', 'none', 'none', 'none', 'none', 'none', 'Center', 'none', 'none', 'none', 'none', 'Edge-Loc', 'none', 'none', 'none', 'none', 'none', 'none', 'none', 'none', 'none', 'none', 'Center', 'none', 'none', 'none', 'none', 'none', 'none', 'none', 'none', 'none', 'none', 'none', 'none', 'none', 'none', 'none', 'Loc', 'none', 'none', 'none', 'none', 'none', 'none', 'none', 'none', 'none', 'none', 'none', 'none', 'none', 'none', 'Random', 'none', 'none', 'none', 'none', 'none', 'none', 'none', 'none', 'none', 'none', 'none', 'none', 'none', 'none', 'none', 'none', 'none', 'none', 'none', 'none', 'none', 'none', 'none', 'none', 'none', 'none', 'none', 'none', 'none', 'none', 'none', 'none', 'none', 'Center', 'none', 'none', 'none', 'none', 'none', 'none', 'none', 'none', 'none', 'none', 'none', 'none', 'none', 'none', 'none', 'none', 'none', 'none', 'none', 'none', 'none', 'none', 'none', 'Edge-Loc', 'none', 'Loc', 'Loc', 'none', 'none', 'none', 'none', 'none', 'none', 'none', 'none', 'none', 'none', 'none', 'none', 'Random', 'Random', 'Loc', 'Near-full', 'Random', 'Loc', 'Loc', 'Edge-Loc', 'Edge-Loc', 'none', 'none', 'none', 'none', 'none', 'none', 'none', 'none', 'none', 'none', 'Loc', 'none', 'none', 'none', 'none', 'none', 'none', 'none', 'none', 'none', 'none', 'none', 'none', 'none', 'none', 'none', 'none', 'none', 'none', 'none', 'none', 'none', 'none', 'none', 'none', 'none', 'none', 'none', 'none', 'none', 'none', 'none', 'none', 'none', 'Edge-Loc', 'none', 'none', 'none', 'none', 'none', 'none', 'none', 'none', 'none', 'none', 'none', 'none', 'none', 'none', 'none', 'none', 'none', 'none', 'none', 'none', 'none', 'none', 'none', 'none', 'none', 'none', 'none', 'none', 'none', 'none', 'none', 'none', 'none', 'none', 'none', 'none', 'Center', 'none', 'none', 'none', 'none', 'none', 'none', 'none', 'none', 'none', 'none', 'none', 'Edge-Loc', 'none', 'none', 'none', 'none', 'none', 'none', 'Edge-Loc', 'Loc', 'none', 'none', 'none', 'none', 'none', 'none', 'none', 'none', 'Edge-Loc', 'none', 'none', 'none', 'none', 'none', 'none', 'none', 'none', 'Edge-Loc', 'none', 'none', 'none', 'none', 'Edge-Loc', 'none', 'none', 'none', 'none', 'none', 'none', 'none', 'none', 'none', 'none', 'none', 'none', 'none', 'none', 'none', 'none', 'none', 'none', 'Edge-Loc', 'none', 'Edge-Loc', 'none', 'none', 'Loc', 'none', 'none', 'none', 'none', 'none', 'none', 'none', 'none', 'none', 'none', 'none', 'none', 'none', 'none', 'none', 'none', 'none', 'none', 'none', 'none', 'none', 'none', 'none', 'none', 'Loc', 'none', 'Loc', 'none', 'none', 'none', 'none', 'none', 'none', 'Near-full', 'none', 'none', 'none', 'none', 'none', 'none', 'none', 'none', 'none', 'none', 'none', 'none', 'none', 'none', 'none', 'none', 'none', 'none', 'none', 'none', 'none', 'none', 'none', 'none', 'none', 'none', 'none', 'none', 'none', 'none', 'none', 'none', 'none', 'none', 'none', 'none', 'none', 'none', 'none', 'none', 'none', 'none', 'none', 'none', 'none', 'none', 'Loc', 'none', 'none', 'none', 'none', 'Edge-Loc', 'none', 'none', 'none', 'none', 'none', 'none', 'none', 'none', 'none', 'none', 'none', 'none', 'none', 'none', 'none', 'none', 'none', 'none', 'none', 'none', 'none', 'none', 'none', 'none', 'none', 'none', 'none', 'none', 'none', 'none', 'none', 'none', 'Loc', 'none', 'none', 'none', 'none', 'none', 'Edge-Loc', 'none', 'none', 'none', 'none', 'none', 'none', 'none', 'none', 'none', 'none', 'none', 'none', 'none', 'none', 'none', 'Edge-Loc', 'none', 'none', 'none', 'none', 'none', 'none', 'none', 'none', 'none', 'none', 'none', 'none', 'none', 'none', 'none', 'none', 'none', 'Center', 'none', 'none', 'Edge-Loc', 'Loc', 'Edge-Loc', 'none', 'none', 'Loc', 'none', 'none', 'Edge-Loc', 'none', 'none', 'none', 'Edge-Loc', 'Loc', 'none', 'none', 'Edge-Loc', 'none', 'Edge-Loc', 'none', 'none', 'none', 'none', 'none', 'none', 'none', 'none', 'none', 'Edge-Loc', 'none', 'Edge-Loc', 'none', 'none', 'none', 'Center', 'none', 'none', 'none', 'none', 'none', 'none', 'none', 'Edge-Loc', 'Edge-Loc', 'Edge-Loc', 'Edge-Loc', 'Edge-Loc', 'Edge-Loc', 'Edge-Loc', 'Random', 'none', 'none', 'none', 'none', 'none', 'none', 'none', 'none', 'none', 'none', 'none', 'none', 'none', 'none', 'none', 'none', 'none', 'none', 'none', 'Loc', 'none', 'none', 'none', 'none', 'Loc', 'none', 'none', 'none', 'none', 'none', 'none', 'none', 'none', 'none', 'none', 'none', 'none', 'none', 'none', 'none', 'Center', 'none', 'none', 'none', 'none', 'none', 'none', 'none', 'none', 'none', 'none', 'none', 'none', 'none', 'none', 'none', 'none', 'none', 'none', 'none', 'none', 'none', 'none', 'none', 'none', 'none', 'none', 'none', 'none', 'none', 'none', 'none', 'Edge-Loc', 'none', 'none', 'Loc', 'none', 'none', 'none', 'Scratch', 'none', 'none', 'none', 'none', 'Loc', 'none', 'none', 'none', 'Loc', 'none', 'Center', 'none', 'none', 'none', 'none', 'none', 'none', 'none', 'Loc', 'none', 'none', 'none', 'none', 'none', 'none', 'none', 'none', 'none', 'none', 'none', 'none', 'none', 'none', 'none', 'none', 'none', 'none', 'none', 'none', 'none', 'none', 'none', 'none', 'none', 'none', 'none', 'none', 'none', 'none', 'none', 'none', 'none', 'none', 'none', 'Scratch', 'none', 'none', 'none', 'none', 'none', 'none', 'Edge-Loc', 'Loc', 'none', 'none', 'none', 'none', 'none', 'none', 'Edge-Loc', 'none', 'none', 'none', 'none', 'none', 'none', 'Edge-Loc', 'none', 'none', 'none', 'none', 'none', 'none', 'none', 'none', 'none', 'none', 'none', 'none', 'none', 'none', 'none', 'none', 'none', 'none', 'none', 'none', 'none', 'none', 'none', 'none', 'none', 'none', 'none', 'none', 'none', 'none', 'none', 'none', 'none', 'none', 'none', 'none', 'none', 'none', 'none', 'none', 'none', 'none', 'none', 'none', 'none', 'Loc', 'none', 'none', 'none', 'Loc', 'none', 'none', 'none', 'none', 'none', 'none', 'none', 'none', 'none', 'none', 'none', 'none', 'none', 'none', 'none', 'none', 'none', 'none', 'none', 'none', 'none', 'none', 'none', 'none', 'none', 'none', 'none', 'none', 'none', 'none', 'none', 'none', 'none', 'none', 'none', 'none', 'none', 'none', 'none', 'none', 'none', 'none', 'none', 'none', 'none', 'none', 'none', 'none', 'none', 'none', 'none', 'none', 'none', 'none', 'none', 'none', 'Edge-Loc', 'Edge-Loc', 'none', 'Edge-Loc', 'none', 'none', 'Edge-Ring', 'Edge-Loc', 'Edge-Loc', 'Edge-Loc', 'Edge-Ring', 'none', 'none', 'Edge-Loc', 'Edge-Ring', 'Random', 'Edge-Ring', 'Edge-Loc', 'Edge-Loc', 'none', 'none', 'none', 'none', 'none', 'none', 'none', 'none', 'none', 'none', 'none', 'none', 'none', 'none', 'none', 'none', 'none', 'none', 'none', 'Loc', 'Loc', 'Loc', 'none', 'none', 'Edge-Loc', 'none', 'none', 'none', 'none', 'none', 'none', 'none', 'Loc', 'none', 'none', 'none', 'none', 'none', 'none', 'none', 'none', 'none', 'none', 'none', 'none', 'none', 'none', 'none', 'none', 'none', 'none', 'none', 'none', 'none', 'none', 'none', 'none', 'none', 'none', 'none', 'none', 'none', 'none', 'none', 'none', 'none', 'none', 'none', 'none', 'none', 'none', 'none', 'none', 'none', 'none', 'none', 'none', 'none', 'none', 'none', 'none', 'none', 'none', 'none', 'none', 'none', 'none', 'none', 'none', 'none', 'none', 'none', 'none', 'none', 'none', 'none', 'none', 'none', 'none', 'none', 'none', 'none', 'none', 'none', 'none', 'none', 'none', 'none', 'none', 'none', 'none', 'none', 'none', 'none', 'none', 'none', 'none', 'none', 'none', 'none', 'none', 'none', 'none', 'none', 'none', 'none', 'none', 'none', 'none', 'none', 'none', 'none', 'none', 'none', 'none', 'none', 'none', 'none', 'none', 'none', 'none', 'none', 'none', 'none', 'none', 'none', 'none', 'none', 'Center', 'none', 'none', 'none', 'Scratch', 'none', 'none', 'none', 'none', 'none', 'none', 'none', 'none', 'none', 'none', 'none', 'none', 'Loc', 'none', 'none', 'none', 'none', 'none', 'none', 'none', 'none', 'none', 'none', 'none', 'none', 'none', 'none', 'none', 'none', 'none', 'Loc', 'none', 'Edge-Loc', 'none', 'none', 'none', 'Loc', 'none', 'Random', 'Loc', 'none', 'none', 'Center', 'none', 'none', 'none', 'none', 'none', 'none', 'none', 'none', 'none', 'none', 'none', 'none', 'none', 'none', 'none', 'none', 'Center', 'none', 'none', 'none', 'Loc', 'none', 'none', 'none', 'none', 'none', 'none', 'none', 'none', 'none', 'none', 'none', 'none', 'none', 'none', 'none', 'none', 'none', 'none', 'none', 'none', 'none', 'none', 'none', 'Center', 'none', 'none', 'none', 'none', 'none', 'none', 'none', 'none', 'Loc', 'none', 'none', 'none', 'Loc', 'none', 'none', 'none', 'none', 'Random', 'none', 'none', 'none', 'none', 'none', 'none', 'none', 'none', 'none', 'none', 'none', 'none', 'none', 'none', 'none', 'none', 'none', 'none', 'none', 'none', 'none', 'none', 'none', 'none', 'none', 'none', 'none', 'none', 'none', 'none', 'none', 'none', 'none', 'none', 'Loc', 'none', 'none', 'none', 'none', 'none', 'none', 'none', 'none', 'none', 'none', 'none', 'none', 'none', 'none', 'none', 'none', 'none', 'none', 'none', 'none', 'none', 'none', 'none', 'none', 'none', 'none', 'none', 'none', 'none', 'none', 'none', 'none', 'none', 'none', 'none', 'none', 'none', 'none', 'none', 'none', 'Loc', 'none', 'none', 'none', 'none', 'none', 'none', 'none', 'none', 'none', 'none', 'none', 'none', 'none', 'none', 'none', 'none', 'none', 'none', 'none', 'none', 'none', 'none', 'none', 'none', 'none', 'none', 'none', 'none', 'none', 'none', 'none', 'none', 'none', 'none', 'none', 'none', 'none', 'none', 'none', 'none', 'none', 'none', 'none', 'none', 'none', 'none', 'none', 'none', 'none', 'none', 'Edge-Loc', 'none', 'none', 'none', 'none', 'none', 'none', 'none', 'none', 'none', 'none', 'none', 'none', 'none', 'none', 'none', 'Loc', 'none', 'none', 'none', 'none', 'none', 'none', 'none', 'none', 'none', 'none', 'none', 'none', 'none', 'none', 'none', 'none', 'none', 'none', 'none', 'none', 'none', 'none', 'none', 'none', 'Loc', 'none', 'none', 'none', 'none', 'none', 'none', 'none', 'none', 'none', 'none', 'none', 'none', 'none', 'none', 'none', 'Loc', 'none', 'none', 'none', 'Edge-Loc', 'Edge-Loc', 'none', 'Edge-Loc', 'none', 'none', 'none', 'Random', 'none', 'none', 'none', 'Loc', 'none', 'Edge-Loc', 'none', 'Loc', 'none', 'Edge-Loc', 'none', 'Edge-Loc', 'none', 'none', 'none', 'none', 'none', 'none', 'none', 'none', 'none', 'none', 'Edge-Loc', 'none', 'none', 'none', 'none', 'none', 'none', 'none', 'none', 'none', 'none', 'none', 'none', 'none', 'none', 'none', 'Edge-Loc', 'Edge-Loc', 'none', 'none', 'none', 'none', 'none', 'none', 'none', 'none', 'none', 'none', 'none', 'none', 'none', 'Center', 'Edge-Loc', 'none', 'none', 'none', 'none', 'none', 'none', 'none', 'none', 'none', 'none', 'none', 'none', 'Edge-Loc', 'none', 'none', 'none', 'none', 'none', 'none', 'none', 'none', 'none', 'none', 'none', 'none', 'none', 'none', 'none', 'none', 'none', 'none', 'none', 'none', 'none', 'none', 'none', 'none', 'none', 'none', 'none', 'none', 'none', 'none', 'none', 'none', 'none', 'none', 'none', 'none', 'none', 'Loc', 'none', 'none', 'none', 'none', 'none', 'none', 'none', 'none', 'none', 'none', 'none', 'none', 'none', 'none', 'none', 'none', 'none', 'none', 'none', 'none', 'none', 'none', 'none', 'none', 'none', 'none', 'none', 'none', 'none', 'none', 'none', 'Scratch', 'none', 'none', 'none', 'none', 'Loc', 'Loc', 'none', 'none', 'none', 'none', 'none', 'none', 'Edge-Loc', 'none', 'none', 'none', 'none', 'none', 'none', 'none', 'none', 'none', 'none', 'none', 'Edge-Loc', 'none', 'none', 'none', 'none', 'none', 'none', 'none', 'none', 'none', 'none', 'none', 'none', 'none', 'none', 'none', 'none', 'none', 'none', 'none', 'none', 'none', 'none', 'none', 'none', 'none', 'Loc', 'none', 'none', 'none', 'none', 'none', 'none', 'none', 'none', 'none', 'none', 'none', 'none', 'none', 'none', 'none', 'none', 'none', 'none', 'none', 'none', 'none', 'none', 'none', 'none', 'none', 'none', 'none', 'none', 'none', 'none', 'none', 'none', 'none', 'none', 'none', 'Center', 'none', 'none', 'Edge-Loc', 'none', 'none', 'none', 'none', 'none', 'none', 'none', 'none', 'none', 'none', 'none', 'Center', 'none', 'none', 'none', 'none', 'none', 'none', 'none', 'none', 'none', 'none', 'none', 'none', 'none', 'none', 'none', 'none', 'none', 'none', 'none', 'none', 'none', 'none', 'Center', 'none', 'none', 'none', 'none', 'none', 'none', 'none', 'Loc', 'none', 'none', 'none', 'none', 'Edge-Loc', 'Edge-Loc', 'none', 'Edge-Loc', 'Center', 'none', 'none', 'none', 'none', 'none', 'none', 'none', 'none', 'none', 'none', 'none', 'none', 'none', 'none', 'none', 'none', 'none', 'none', 'none', 'none', 'none', 'none', 'none', 'none', 'none', 'none', 'none', 'none', 'none', 'none', 'none', 'none', 'none', 'none', 'none', 'none', 'none', 'none', 'none', 'none', 'none', 'none', 'none', 'none', 'none', 'none', 'none', 'none', 'none', 'none', 'none', 'none', 'none', 'none', 'none', 'none', 'none', 'none', 'none', 'none', 'none', 'none', 'none', 'none', 'none', 'none', 'none', 'none', 'none', 'none', 'none', 'none', 'none', 'none', 'none', 'none', 'none', 'none', 'none', 'none', 'none', 'none', 'none', 'none', 'none', 'none', 'none', 'none', 'none', 'none', 'none', 'none', 'none', 'none', 'none', 'none', 'none', 'none', 'none', 'none', 'none', 'none', 'none', 'none', 'none', 'none', 'none', 'none', 'none', 'none', 'Edge-Loc', 'none', 'none', 'none', 'none', 'none', 'none', 'none', 'Edge-Loc', 'none', 'none', 'none', 'none', 'none', 'none', 'none', 'none', 'none', 'none', 'none', 'Loc', 'none', 'Scratch', 'none', 'none', 'none', 'none', 'none', 'none', 'none', 'none', 'none', 'none', 'none', 'none', 'none', 'none', 'none', 'none', 'none', 'none', 'none', 'none', 'none', 'none', 'Edge-Loc', 'none', 'none']\n"
          ]
        }
      ],
      "source": [
        "print(sw.shape)\n",
        "print(label)"
      ]
    },
    {
      "cell_type": "code",
      "execution_count": null,
      "metadata": {
        "colab": {
          "base_uri": "https://localhost:8080/"
        },
        "id": "AMpsJLipN_xX",
        "outputId": "fa6f6061-53df-485a-cedc-b5883b488330"
      },
      "outputs": [
        {
          "name": "stdout",
          "output_type": "stream",
          "text": [
            "x shape : (18781, 27, 27), y shape : (18781, 1)\n"
          ]
        }
      ],
      "source": [
        "x1 = sw[1:]\n",
        "x9 = np.pad(x1, ((0,0),(1,1),(0,0)), mode=\"constant\", constant_values = (0,0))\n",
        "y9 = np.array(label).reshape((-1,1))\n",
        "print(\"x shape : {}, y shape : {}\".format(x9.shape, y9.shape))"
      ]
    },
    {
      "cell_type": "code",
      "execution_count": null,
      "metadata": {
        "colab": {
          "base_uri": "https://localhost:8080/"
        },
        "id": "L4H7XJg9OI9V",
        "outputId": "f006d2ea-de2d-42be-853e-e5d54b8c7805"
      },
      "outputs": [
        {
          "name": "stdout",
          "output_type": "stream",
          "text": [
            "[[[0. 0. 0. ... 0. 0. 0.]\n",
            "  [0. 0. 0. ... 0. 0. 0.]\n",
            "  [0. 0. 0. ... 0. 0. 0.]\n",
            "  ...\n",
            "  [0. 0. 0. ... 0. 0. 0.]\n",
            "  [0. 0. 0. ... 0. 0. 0.]\n",
            "  [0. 0. 0. ... 0. 0. 0.]]\n",
            "\n",
            " [[0. 0. 0. ... 0. 0. 0.]\n",
            "  [0. 0. 0. ... 0. 0. 0.]\n",
            "  [0. 0. 0. ... 0. 0. 0.]\n",
            "  ...\n",
            "  [0. 0. 0. ... 0. 0. 0.]\n",
            "  [0. 0. 0. ... 0. 0. 0.]\n",
            "  [0. 0. 0. ... 0. 0. 0.]]\n",
            "\n",
            " [[0. 0. 0. ... 0. 0. 0.]\n",
            "  [0. 0. 0. ... 0. 0. 0.]\n",
            "  [0. 0. 0. ... 0. 0. 0.]\n",
            "  ...\n",
            "  [0. 0. 0. ... 0. 0. 0.]\n",
            "  [0. 0. 0. ... 0. 0. 0.]\n",
            "  [0. 0. 0. ... 0. 0. 0.]]\n",
            "\n",
            " ...\n",
            "\n",
            " [[0. 0. 0. ... 0. 0. 0.]\n",
            "  [0. 0. 0. ... 0. 0. 0.]\n",
            "  [0. 0. 0. ... 0. 0. 0.]\n",
            "  ...\n",
            "  [0. 0. 0. ... 0. 0. 0.]\n",
            "  [0. 0. 0. ... 0. 0. 0.]\n",
            "  [0. 0. 0. ... 0. 0. 0.]]\n",
            "\n",
            " [[0. 0. 0. ... 0. 0. 0.]\n",
            "  [0. 0. 0. ... 0. 0. 0.]\n",
            "  [0. 0. 0. ... 0. 0. 0.]\n",
            "  ...\n",
            "  [0. 0. 0. ... 0. 0. 0.]\n",
            "  [0. 0. 0. ... 0. 0. 0.]\n",
            "  [0. 0. 0. ... 0. 0. 0.]]\n",
            "\n",
            " [[0. 0. 0. ... 0. 0. 0.]\n",
            "  [0. 0. 0. ... 0. 0. 0.]\n",
            "  [0. 0. 0. ... 0. 0. 0.]\n",
            "  ...\n",
            "  [0. 0. 0. ... 0. 0. 0.]\n",
            "  [0. 0. 0. ... 0. 0. 0.]\n",
            "  [0. 0. 0. ... 0. 0. 0.]]]\n",
            "[['Edge-Loc']\n",
            " ['Edge-Loc']\n",
            " ['Edge-Loc']\n",
            " ...\n",
            " ['Edge-Loc']\n",
            " ['none']\n",
            " ['none']]\n"
          ]
        }
      ],
      "source": [
        "print(x9)\n",
        "print(y9)"
      ]
    },
    {
      "cell_type": "code",
      "execution_count": null,
      "metadata": {
        "colab": {
          "base_uri": "https://localhost:8080/"
        },
        "id": "Zdg0dGAAQaG8",
        "outputId": "9db687e7-5bcb-4f2a-b312-fe78ff4a9273"
      },
      "outputs": [
        {
          "name": "stdout",
          "output_type": "stream",
          "text": [
            "        dieSize failureType   lotName trainTestLabel  waferIndex  \\\n",
            "150       533.0        none      lot7       Training         1.0   \n",
            "151       533.0        none      lot7       Training         2.0   \n",
            "152       533.0        none      lot7       Training         3.0   \n",
            "153       533.0        none      lot7       Training         4.0   \n",
            "154       533.0        none      lot7       Training         5.0   \n",
            "...         ...         ...       ...            ...         ...   \n",
            "679275    533.0      [0, 0]  lot42180         [0, 0]        20.0   \n",
            "679276    533.0      [0, 0]  lot42180         [0, 0]        21.0   \n",
            "679277    533.0      [0, 0]  lot42180         [0, 0]        22.0   \n",
            "679278    533.0      [0, 0]  lot42180         [0, 0]        23.0   \n",
            "679279    533.0      [0, 0]  lot42180         [0, 0]        24.0   \n",
            "\n",
            "                                                 waferMap wafermap_size  \\\n",
            "150     [[0, 0, 0, 0, 0, 0, 0, 0, 0, 0, 2, 2, 1, 1, 2,...      (26, 26)   \n",
            "151     [[0, 0, 0, 0, 0, 0, 0, 0, 0, 0, 2, 1, 1, 1, 1,...      (26, 26)   \n",
            "152     [[0, 0, 0, 0, 0, 0, 0, 0, 0, 0, 1, 2, 1, 1, 1,...      (26, 26)   \n",
            "153     [[0, 0, 0, 0, 0, 0, 0, 0, 0, 0, 1, 2, 2, 1, 1,...      (26, 26)   \n",
            "154     [[0, 0, 0, 0, 0, 0, 0, 0, 0, 0, 2, 2, 2, 2, 2,...      (26, 26)   \n",
            "...                                                   ...           ...   \n",
            "679275  [[0, 0, 0, 0, 0, 0, 0, 0, 0, 0, 1, 2, 1, 1, 1,...      (26, 26)   \n",
            "679276  [[0, 0, 0, 0, 0, 0, 0, 0, 0, 0, 1, 2, 1, 2, 2,...      (26, 26)   \n",
            "679277  [[0, 0, 0, 0, 0, 0, 0, 0, 0, 0, 1, 1, 2, 1, 1,...      (26, 26)   \n",
            "679278  [[0, 0, 0, 0, 0, 0, 0, 0, 0, 0, 1, 2, 1, 1, 2,...      (26, 26)   \n",
            "679279  [[0, 0, 0, 0, 0, 0, 0, 0, 0, 0, 2, 2, 1, 2, 1,...      (26, 26)   \n",
            "\n",
            "        failure_num  trainTest_num  \n",
            "150               8              0  \n",
            "151               8              0  \n",
            "152               8              0  \n",
            "153               8              0  \n",
            "154               8              0  \n",
            "...             ...            ...  \n",
            "679275            9              9  \n",
            "679276            9              9  \n",
            "679277            9              9  \n",
            "679278            9              9  \n",
            "679279            9              9  \n",
            "\n",
            "[30078 rows x 9 columns]\n",
            "[array([[0, 0, 0, 0, 0, 0, 0, 0, 0, 0, 2, 2, 1, 1, 2, 1, 0, 0, 0, 0, 0, 0,\n",
            "         0, 0, 0, 0],\n",
            "        [0, 0, 0, 0, 0, 0, 0, 1, 1, 2, 2, 1, 2, 1, 1, 2, 1, 1, 1, 0, 0, 0,\n",
            "         0, 0, 0, 0],\n",
            "        [0, 0, 0, 0, 0, 0, 1, 1, 1, 1, 2, 1, 1, 1, 1, 1, 1, 2, 1, 1, 0, 0,\n",
            "         0, 0, 0, 0],\n",
            "        [0, 0, 0, 0, 1, 1, 1, 1, 1, 1, 1, 1, 1, 1, 2, 1, 1, 1, 2, 2, 1, 2,\n",
            "         0, 0, 0, 0],\n",
            "        [0, 0, 0, 1, 2, 1, 1, 1, 1, 1, 2, 1, 1, 1, 1, 1, 2, 1, 1, 1, 2, 1,\n",
            "         2, 0, 0, 0],\n",
            "        [0, 0, 2, 1, 1, 1, 1, 2, 1, 1, 1, 1, 2, 1, 1, 1, 2, 1, 1, 1, 1, 1,\n",
            "         1, 2, 0, 0],\n",
            "        [0, 0, 1, 2, 2, 1, 1, 1, 1, 1, 1, 1, 1, 1, 1, 2, 1, 1, 1, 1, 1, 1,\n",
            "         1, 1, 0, 0],\n",
            "        [0, 1, 1, 1, 2, 1, 1, 1, 1, 1, 1, 1, 1, 1, 1, 1, 1, 1, 1, 2, 1, 2,\n",
            "         1, 1, 1, 0],\n",
            "        [0, 1, 1, 1, 2, 2, 1, 1, 1, 1, 1, 1, 1, 1, 1, 2, 2, 1, 1, 1, 1, 1,\n",
            "         1, 1, 2, 0],\n",
            "        [1, 1, 1, 1, 1, 2, 1, 1, 1, 2, 1, 1, 1, 1, 1, 1, 1, 1, 1, 1, 1, 1,\n",
            "         1, 2, 2, 1],\n",
            "        [1, 2, 1, 1, 1, 1, 1, 1, 1, 1, 1, 1, 1, 2, 1, 1, 1, 1, 1, 1, 1, 1,\n",
            "         1, 1, 1, 1],\n",
            "        [1, 1, 1, 1, 1, 1, 1, 1, 1, 1, 1, 1, 1, 1, 1, 1, 2, 1, 1, 1, 1, 1,\n",
            "         1, 1, 1, 1],\n",
            "        [1, 1, 1, 1, 1, 1, 1, 2, 1, 1, 1, 1, 1, 2, 1, 1, 1, 1, 1, 1, 1, 1,\n",
            "         1, 1, 1, 1],\n",
            "        [1, 1, 2, 1, 1, 1, 1, 1, 1, 1, 1, 1, 1, 2, 1, 1, 1, 1, 1, 1, 2, 1,\n",
            "         1, 1, 1, 1],\n",
            "        [2, 2, 1, 1, 2, 1, 1, 1, 1, 1, 1, 1, 1, 1, 1, 1, 1, 1, 1, 1, 1, 1,\n",
            "         1, 1, 1, 1],\n",
            "        [1, 1, 1, 1, 1, 1, 1, 1, 1, 1, 1, 1, 1, 1, 2, 2, 1, 1, 1, 1, 1, 1,\n",
            "         1, 1, 1, 1],\n",
            "        [2, 1, 1, 1, 1, 1, 1, 1, 1, 1, 1, 2, 1, 2, 2, 1, 1, 1, 1, 2, 1, 2,\n",
            "         2, 1, 1, 2],\n",
            "        [0, 1, 1, 1, 1, 1, 1, 1, 1, 1, 1, 1, 1, 1, 1, 1, 1, 1, 1, 1, 1, 1,\n",
            "         1, 1, 1, 0],\n",
            "        [0, 2, 1, 1, 1, 2, 1, 1, 2, 1, 1, 1, 1, 1, 1, 1, 1, 1, 1, 2, 2, 1,\n",
            "         2, 1, 2, 0],\n",
            "        [0, 0, 1, 1, 1, 1, 1, 1, 2, 1, 1, 1, 1, 2, 1, 1, 1, 1, 1, 2, 1, 2,\n",
            "         1, 1, 0, 0],\n",
            "        [0, 0, 1, 2, 1, 1, 1, 1, 2, 1, 1, 1, 1, 1, 1, 1, 1, 1, 1, 2, 1, 2,\n",
            "         1, 2, 0, 0],\n",
            "        [0, 0, 0, 2, 1, 2, 1, 2, 2, 1, 1, 2, 1, 2, 1, 1, 1, 1, 1, 1, 1, 1,\n",
            "         1, 0, 0, 0],\n",
            "        [0, 0, 0, 0, 1, 1, 1, 1, 1, 2, 1, 1, 1, 1, 1, 1, 2, 1, 1, 1, 1, 2,\n",
            "         0, 0, 0, 0],\n",
            "        [0, 0, 0, 0, 0, 2, 1, 1, 1, 1, 1, 1, 1, 1, 1, 2, 1, 1, 1, 1, 0, 0,\n",
            "         0, 0, 0, 0],\n",
            "        [0, 0, 0, 0, 0, 0, 0, 1, 1, 1, 1, 1, 1, 1, 1, 2, 1, 2, 2, 0, 0, 0,\n",
            "         0, 0, 0, 0],\n",
            "        [0, 0, 0, 0, 0, 0, 0, 0, 0, 0, 1, 1, 1, 1, 1, 2, 0, 0, 0, 0, 0, 0,\n",
            "         0, 0, 0, 0]], dtype=uint8)\n",
            " array([[0, 0, 0, 0, 0, 0, 0, 0, 0, 0, 2, 1, 1, 1, 1, 1, 0, 0, 0, 0, 0, 0,\n",
            "         0, 0, 0, 0],\n",
            "        [0, 0, 0, 0, 0, 0, 0, 2, 2, 2, 1, 1, 1, 1, 1, 1, 1, 1, 2, 0, 0, 0,\n",
            "         0, 0, 0, 0],\n",
            "        [0, 0, 0, 0, 0, 0, 2, 1, 1, 1, 1, 1, 1, 1, 1, 1, 1, 1, 1, 1, 0, 0,\n",
            "         0, 0, 0, 0],\n",
            "        [0, 0, 0, 0, 2, 2, 1, 1, 1, 1, 1, 1, 1, 1, 1, 1, 2, 2, 1, 1, 1, 1,\n",
            "         0, 0, 0, 0],\n",
            "        [0, 0, 0, 1, 2, 2, 1, 1, 1, 1, 1, 1, 1, 1, 1, 1, 1, 1, 1, 2, 1, 1,\n",
            "         1, 0, 0, 0],\n",
            "        [0, 0, 2, 2, 1, 1, 1, 1, 2, 1, 2, 1, 1, 1, 2, 1, 1, 2, 1, 1, 1, 1,\n",
            "         1, 1, 0, 0],\n",
            "        [0, 0, 1, 1, 1, 1, 1, 1, 1, 1, 1, 1, 1, 1, 1, 1, 1, 1, 1, 1, 1, 2,\n",
            "         1, 1, 0, 0],\n",
            "        [0, 1, 1, 1, 1, 1, 1, 1, 1, 1, 1, 1, 1, 2, 1, 1, 1, 1, 1, 1, 1, 1,\n",
            "         1, 2, 1, 0],\n",
            "        [0, 1, 1, 1, 2, 1, 1, 1, 2, 1, 1, 1, 1, 1, 1, 1, 1, 1, 1, 1, 1, 1,\n",
            "         1, 1, 1, 0],\n",
            "        [1, 1, 1, 2, 1, 1, 1, 1, 2, 1, 1, 1, 1, 1, 1, 1, 1, 1, 1, 1, 1, 1,\n",
            "         1, 2, 1, 1],\n",
            "        [2, 1, 1, 1, 1, 1, 1, 1, 1, 1, 1, 1, 1, 1, 1, 1, 1, 1, 1, 1, 1, 1,\n",
            "         1, 1, 1, 2],\n",
            "        [1, 1, 1, 1, 1, 1, 1, 1, 1, 1, 1, 1, 1, 1, 1, 1, 2, 1, 1, 1, 1, 1,\n",
            "         1, 1, 1, 1],\n",
            "        [2, 1, 1, 1, 2, 1, 2, 1, 1, 1, 1, 1, 1, 1, 1, 1, 1, 1, 1, 1, 1, 2,\n",
            "         1, 1, 1, 1],\n",
            "        [1, 1, 1, 2, 2, 1, 1, 1, 1, 1, 1, 1, 1, 2, 1, 1, 1, 1, 1, 1, 1, 1,\n",
            "         1, 1, 1, 1],\n",
            "        [1, 1, 1, 1, 1, 1, 1, 1, 1, 1, 2, 2, 2, 1, 1, 2, 1, 1, 1, 1, 2, 1,\n",
            "         1, 1, 1, 1],\n",
            "        [1, 1, 1, 1, 1, 2, 1, 2, 1, 2, 1, 1, 1, 1, 1, 1, 2, 1, 1, 1, 1, 1,\n",
            "         1, 1, 1, 2],\n",
            "        [2, 1, 1, 1, 1, 2, 1, 2, 1, 2, 1, 1, 1, 1, 2, 1, 1, 1, 1, 1, 1, 1,\n",
            "         1, 2, 1, 2],\n",
            "        [0, 1, 1, 1, 1, 1, 1, 2, 1, 1, 1, 1, 1, 1, 1, 1, 1, 1, 1, 1, 1, 2,\n",
            "         1, 1, 1, 0],\n",
            "        [0, 1, 1, 1, 1, 1, 2, 1, 1, 1, 1, 1, 2, 2, 1, 1, 1, 1, 1, 1, 1, 1,\n",
            "         1, 1, 1, 0],\n",
            "        [0, 0, 1, 1, 1, 1, 1, 1, 1, 1, 1, 1, 1, 1, 1, 1, 1, 1, 1, 1, 1, 1,\n",
            "         1, 1, 0, 0],\n",
            "        [0, 0, 1, 1, 1, 1, 1, 1, 1, 1, 1, 2, 1, 1, 1, 1, 1, 1, 1, 1, 1, 1,\n",
            "         2, 2, 0, 0],\n",
            "        [0, 0, 0, 2, 2, 1, 1, 1, 2, 1, 1, 1, 1, 1, 1, 1, 1, 1, 1, 1, 1, 1,\n",
            "         2, 0, 0, 0],\n",
            "        [0, 0, 0, 0, 1, 2, 2, 1, 2, 1, 1, 1, 1, 1, 1, 1, 1, 1, 1, 1, 1, 1,\n",
            "         0, 0, 0, 0],\n",
            "        [0, 0, 0, 0, 0, 1, 1, 1, 1, 1, 1, 2, 1, 2, 1, 1, 1, 1, 1, 1, 0, 0,\n",
            "         0, 0, 0, 0],\n",
            "        [0, 0, 0, 0, 0, 0, 0, 1, 1, 1, 1, 1, 1, 1, 1, 2, 1, 2, 1, 0, 0, 0,\n",
            "         0, 0, 0, 0],\n",
            "        [0, 0, 0, 0, 0, 0, 0, 0, 0, 0, 2, 1, 2, 1, 1, 1, 0, 0, 0, 0, 0, 0,\n",
            "         0, 0, 0, 0]], dtype=uint8)\n",
            " array([[0, 0, 0, 0, 0, 0, 0, 0, 0, 0, 1, 2, 1, 1, 1, 1, 0, 0, 0, 0, 0, 0,\n",
            "         0, 0, 0, 0],\n",
            "        [0, 0, 0, 0, 0, 0, 0, 2, 1, 1, 1, 1, 1, 1, 1, 1, 1, 2, 1, 0, 0, 0,\n",
            "         0, 0, 0, 0],\n",
            "        [0, 0, 0, 0, 0, 0, 1, 1, 1, 2, 1, 1, 1, 1, 1, 1, 1, 1, 1, 2, 0, 0,\n",
            "         0, 0, 0, 0],\n",
            "        [0, 0, 0, 0, 1, 1, 1, 1, 1, 1, 2, 2, 1, 1, 1, 1, 2, 1, 1, 1, 2, 1,\n",
            "         0, 0, 0, 0],\n",
            "        [0, 0, 0, 2, 1, 1, 1, 1, 1, 1, 1, 1, 1, 1, 1, 1, 1, 1, 1, 1, 1, 1,\n",
            "         1, 0, 0, 0],\n",
            "        [0, 0, 1, 2, 1, 1, 1, 1, 1, 1, 1, 1, 1, 1, 1, 1, 1, 1, 1, 1, 1, 1,\n",
            "         1, 2, 0, 0],\n",
            "        [0, 0, 1, 1, 1, 1, 1, 1, 1, 1, 1, 1, 1, 1, 1, 1, 2, 1, 1, 1, 1, 1,\n",
            "         1, 1, 0, 0],\n",
            "        [0, 2, 1, 1, 2, 1, 1, 1, 1, 1, 1, 1, 1, 1, 1, 1, 1, 1, 1, 2, 1, 1,\n",
            "         1, 1, 2, 0],\n",
            "        [0, 1, 1, 1, 1, 1, 1, 1, 1, 1, 2, 1, 1, 1, 1, 1, 1, 1, 1, 1, 2, 1,\n",
            "         1, 1, 1, 0],\n",
            "        [1, 1, 1, 1, 1, 1, 1, 1, 1, 2, 1, 1, 1, 1, 1, 1, 1, 1, 1, 1, 1, 1,\n",
            "         1, 1, 1, 1],\n",
            "        [1, 1, 1, 1, 1, 1, 1, 1, 1, 1, 1, 1, 2, 1, 1, 1, 1, 1, 1, 1, 1, 1,\n",
            "         1, 1, 2, 2],\n",
            "        [1, 1, 1, 1, 2, 1, 1, 1, 1, 2, 2, 1, 2, 1, 1, 2, 1, 2, 1, 1, 1, 1,\n",
            "         1, 1, 1, 1],\n",
            "        [1, 1, 1, 1, 1, 1, 1, 1, 1, 1, 1, 1, 1, 1, 1, 2, 2, 1, 1, 1, 1, 1,\n",
            "         1, 1, 1, 1],\n",
            "        [1, 1, 2, 1, 1, 1, 1, 1, 1, 1, 1, 2, 1, 1, 1, 1, 2, 1, 1, 1, 1, 1,\n",
            "         1, 2, 2, 1],\n",
            "        [1, 1, 2, 1, 2, 1, 1, 1, 1, 1, 2, 1, 1, 1, 2, 1, 2, 1, 1, 1, 1, 1,\n",
            "         1, 1, 1, 1],\n",
            "        [2, 1, 1, 1, 2, 1, 1, 1, 1, 1, 1, 1, 1, 1, 1, 1, 1, 1, 1, 1, 1, 1,\n",
            "         1, 1, 1, 1],\n",
            "        [1, 1, 1, 1, 1, 1, 1, 2, 1, 2, 1, 1, 1, 2, 1, 1, 1, 1, 1, 1, 1, 1,\n",
            "         1, 1, 1, 2],\n",
            "        [0, 1, 1, 2, 1, 1, 1, 1, 2, 1, 1, 1, 1, 1, 1, 1, 1, 1, 2, 2, 1, 1,\n",
            "         1, 1, 1, 0],\n",
            "        [0, 1, 2, 1, 1, 1, 1, 1, 1, 1, 1, 1, 1, 1, 1, 1, 1, 1, 1, 1, 1, 1,\n",
            "         1, 1, 1, 0],\n",
            "        [0, 0, 1, 1, 2, 1, 2, 1, 1, 1, 1, 1, 1, 1, 1, 1, 1, 1, 2, 1, 1, 1,\n",
            "         1, 1, 0, 0],\n",
            "        [0, 0, 1, 2, 1, 1, 1, 2, 1, 1, 1, 1, 1, 1, 1, 1, 1, 2, 1, 1, 1, 1,\n",
            "         1, 2, 0, 0],\n",
            "        [0, 0, 0, 1, 1, 1, 1, 1, 1, 1, 1, 1, 1, 1, 1, 1, 1, 1, 1, 1, 1, 1,\n",
            "         1, 0, 0, 0],\n",
            "        [0, 0, 0, 0, 1, 1, 1, 1, 1, 1, 1, 1, 1, 1, 2, 1, 1, 1, 1, 1, 1, 2,\n",
            "         0, 0, 0, 0],\n",
            "        [0, 0, 0, 0, 0, 2, 1, 1, 1, 2, 1, 1, 1, 1, 1, 1, 1, 1, 1, 1, 0, 0,\n",
            "         0, 0, 0, 0],\n",
            "        [0, 0, 0, 0, 0, 0, 0, 1, 2, 1, 2, 1, 1, 1, 1, 1, 1, 2, 2, 0, 0, 0,\n",
            "         0, 0, 0, 0],\n",
            "        [0, 0, 0, 0, 0, 0, 0, 0, 0, 0, 1, 1, 1, 2, 2, 2, 0, 0, 0, 0, 0, 0,\n",
            "         0, 0, 0, 0]], dtype=uint8)\n",
            " ...\n",
            " array([[0, 0, 0, 0, 0, 0, 0, 0, 0, 0, 1, 1, 2, 1, 1, 1, 0, 0, 0, 0, 0, 0,\n",
            "         0, 0, 0, 0],\n",
            "        [0, 0, 0, 0, 0, 0, 0, 2, 1, 1, 1, 2, 1, 1, 1, 1, 1, 1, 2, 0, 0, 0,\n",
            "         0, 0, 0, 0],\n",
            "        [0, 0, 0, 0, 0, 0, 1, 1, 1, 1, 1, 1, 1, 1, 1, 1, 2, 2, 1, 2, 0, 0,\n",
            "         0, 0, 0, 0],\n",
            "        [0, 0, 0, 0, 2, 1, 1, 1, 1, 2, 1, 1, 1, 1, 2, 1, 1, 2, 1, 1, 1, 1,\n",
            "         0, 0, 0, 0],\n",
            "        [0, 0, 0, 2, 1, 1, 1, 2, 1, 1, 1, 1, 1, 1, 1, 1, 1, 1, 1, 1, 2, 2,\n",
            "         1, 0, 0, 0],\n",
            "        [0, 0, 1, 2, 1, 1, 1, 1, 1, 1, 1, 1, 2, 1, 1, 1, 1, 2, 1, 1, 1, 1,\n",
            "         1, 1, 0, 0],\n",
            "        [0, 0, 1, 1, 1, 1, 1, 1, 2, 1, 1, 1, 1, 2, 1, 1, 1, 1, 1, 1, 1, 1,\n",
            "         1, 1, 0, 0],\n",
            "        [0, 1, 1, 1, 1, 1, 1, 2, 1, 1, 1, 1, 1, 1, 1, 1, 1, 1, 1, 1, 1, 1,\n",
            "         1, 1, 2, 0],\n",
            "        [0, 1, 1, 1, 1, 1, 2, 1, 1, 1, 1, 2, 1, 1, 1, 1, 1, 1, 2, 1, 1, 1,\n",
            "         1, 1, 2, 0],\n",
            "        [1, 1, 1, 1, 1, 1, 1, 1, 1, 1, 1, 1, 2, 1, 2, 1, 1, 1, 1, 1, 1, 1,\n",
            "         1, 2, 1, 2],\n",
            "        [2, 1, 1, 1, 1, 1, 1, 1, 1, 1, 1, 1, 2, 2, 2, 1, 1, 1, 1, 2, 1, 1,\n",
            "         2, 1, 2, 1],\n",
            "        [2, 1, 1, 1, 1, 1, 1, 1, 1, 1, 1, 2, 1, 1, 1, 1, 1, 1, 1, 1, 1, 1,\n",
            "         1, 1, 1, 1],\n",
            "        [1, 2, 1, 1, 1, 1, 1, 1, 1, 1, 1, 2, 1, 1, 1, 1, 1, 1, 1, 2, 1, 1,\n",
            "         2, 1, 1, 1],\n",
            "        [1, 1, 1, 1, 1, 1, 1, 1, 1, 1, 1, 1, 2, 1, 2, 1, 1, 1, 1, 1, 1, 1,\n",
            "         1, 1, 1, 1],\n",
            "        [1, 1, 1, 1, 1, 1, 1, 1, 1, 1, 1, 1, 1, 1, 2, 1, 1, 1, 1, 1, 2, 1,\n",
            "         2, 1, 2, 2],\n",
            "        [1, 1, 1, 1, 1, 1, 1, 1, 1, 1, 2, 1, 1, 1, 2, 1, 1, 1, 1, 2, 1, 1,\n",
            "         1, 1, 2, 1],\n",
            "        [1, 1, 1, 1, 1, 1, 2, 1, 1, 1, 1, 1, 1, 1, 1, 2, 1, 1, 1, 1, 1, 1,\n",
            "         1, 2, 1, 1],\n",
            "        [0, 1, 1, 2, 1, 1, 1, 1, 1, 2, 1, 1, 1, 1, 1, 1, 1, 1, 1, 1, 1, 1,\n",
            "         1, 1, 1, 0],\n",
            "        [0, 2, 1, 2, 1, 1, 1, 1, 1, 1, 1, 1, 1, 1, 1, 1, 1, 1, 2, 2, 1, 1,\n",
            "         1, 1, 2, 0],\n",
            "        [0, 0, 1, 1, 1, 1, 1, 1, 1, 1, 1, 2, 1, 1, 1, 1, 1, 1, 1, 2, 2, 1,\n",
            "         1, 1, 0, 0],\n",
            "        [0, 0, 1, 1, 1, 1, 1, 1, 1, 1, 1, 1, 1, 1, 1, 1, 1, 1, 1, 1, 1, 1,\n",
            "         1, 2, 0, 0],\n",
            "        [0, 0, 0, 2, 1, 1, 1, 1, 1, 1, 1, 2, 1, 1, 1, 2, 1, 1, 1, 1, 1, 2,\n",
            "         1, 0, 0, 0],\n",
            "        [0, 0, 0, 0, 1, 1, 1, 1, 1, 1, 1, 1, 1, 1, 1, 1, 1, 1, 1, 1, 1, 1,\n",
            "         0, 0, 0, 0],\n",
            "        [0, 0, 0, 0, 0, 2, 2, 1, 1, 1, 2, 1, 2, 2, 1, 1, 1, 1, 1, 1, 0, 0,\n",
            "         0, 0, 0, 0],\n",
            "        [0, 0, 0, 0, 0, 0, 0, 1, 1, 1, 1, 1, 2, 1, 2, 1, 1, 1, 2, 0, 0, 0,\n",
            "         0, 0, 0, 0],\n",
            "        [0, 0, 0, 0, 0, 0, 0, 0, 0, 0, 2, 1, 1, 2, 1, 2, 0, 0, 0, 0, 0, 0,\n",
            "         0, 0, 0, 0]], dtype=uint8)\n",
            " array([[0, 0, 0, 0, 0, 0, 0, 0, 0, 0, 1, 2, 1, 1, 2, 1, 0, 0, 0, 0, 0, 0,\n",
            "         0, 0, 0, 0],\n",
            "        [0, 0, 0, 0, 0, 0, 0, 2, 1, 1, 1, 1, 1, 2, 2, 1, 1, 2, 1, 0, 0, 0,\n",
            "         0, 0, 0, 0],\n",
            "        [0, 0, 0, 0, 0, 0, 1, 2, 1, 1, 1, 1, 1, 1, 1, 1, 1, 1, 1, 2, 0, 0,\n",
            "         0, 0, 0, 0],\n",
            "        [0, 0, 0, 0, 2, 1, 1, 1, 2, 1, 2, 1, 2, 1, 2, 1, 1, 1, 1, 1, 1, 2,\n",
            "         0, 0, 0, 0],\n",
            "        [0, 0, 0, 2, 2, 1, 1, 1, 1, 1, 1, 1, 1, 1, 2, 1, 1, 1, 1, 1, 1, 1,\n",
            "         1, 0, 0, 0],\n",
            "        [0, 0, 1, 2, 2, 1, 1, 2, 1, 1, 2, 2, 1, 2, 1, 2, 1, 1, 1, 1, 2, 2,\n",
            "         1, 1, 0, 0],\n",
            "        [0, 0, 2, 2, 1, 2, 1, 1, 1, 2, 2, 1, 1, 1, 1, 1, 1, 2, 1, 1, 1, 1,\n",
            "         1, 2, 0, 0],\n",
            "        [0, 2, 1, 1, 1, 1, 1, 2, 1, 1, 1, 1, 1, 1, 1, 1, 1, 1, 2, 2, 2, 1,\n",
            "         1, 1, 2, 0],\n",
            "        [0, 1, 1, 2, 1, 1, 1, 2, 1, 1, 1, 1, 1, 1, 1, 1, 1, 1, 2, 1, 1, 1,\n",
            "         1, 1, 1, 0],\n",
            "        [2, 2, 1, 1, 1, 1, 1, 1, 1, 2, 1, 1, 1, 1, 1, 2, 1, 1, 1, 1, 1, 1,\n",
            "         1, 1, 1, 1],\n",
            "        [1, 1, 1, 1, 1, 2, 1, 1, 2, 1, 1, 1, 1, 1, 1, 1, 1, 1, 1, 1, 1, 1,\n",
            "         1, 1, 1, 1],\n",
            "        [1, 1, 1, 1, 1, 2, 1, 1, 1, 2, 1, 2, 2, 1, 1, 2, 2, 1, 1, 2, 1, 1,\n",
            "         1, 1, 2, 2],\n",
            "        [2, 2, 1, 2, 1, 1, 1, 1, 1, 1, 2, 1, 2, 1, 1, 1, 1, 2, 1, 1, 1, 1,\n",
            "         1, 1, 1, 2],\n",
            "        [1, 1, 1, 1, 2, 2, 1, 1, 1, 1, 1, 1, 2, 1, 2, 1, 1, 1, 1, 1, 2, 1,\n",
            "         2, 2, 2, 2],\n",
            "        [1, 2, 2, 1, 1, 2, 2, 1, 1, 1, 1, 1, 1, 1, 2, 1, 1, 1, 1, 1, 1, 1,\n",
            "         1, 1, 1, 2],\n",
            "        [1, 1, 1, 1, 1, 2, 1, 1, 1, 1, 1, 1, 1, 1, 1, 1, 2, 1, 2, 2, 1, 1,\n",
            "         1, 1, 1, 1],\n",
            "        [2, 1, 1, 1, 1, 1, 1, 1, 1, 1, 1, 1, 1, 1, 1, 1, 1, 1, 1, 1, 1, 1,\n",
            "         1, 2, 1, 2],\n",
            "        [0, 1, 1, 1, 2, 1, 2, 2, 1, 1, 1, 1, 1, 1, 1, 1, 1, 1, 2, 1, 1, 1,\n",
            "         2, 1, 2, 0],\n",
            "        [0, 1, 2, 1, 1, 1, 2, 2, 1, 1, 2, 1, 1, 1, 1, 1, 1, 2, 2, 1, 1, 2,\n",
            "         1, 1, 2, 0],\n",
            "        [0, 0, 2, 1, 1, 1, 2, 2, 1, 2, 1, 2, 2, 2, 1, 1, 1, 2, 1, 1, 2, 2,\n",
            "         2, 2, 0, 0],\n",
            "        [0, 0, 1, 1, 1, 2, 1, 1, 1, 1, 1, 1, 2, 2, 2, 1, 2, 1, 2, 1, 1, 1,\n",
            "         2, 2, 0, 0],\n",
            "        [0, 0, 0, 1, 2, 2, 1, 1, 2, 2, 1, 1, 1, 1, 2, 1, 1, 2, 1, 1, 1, 1,\n",
            "         2, 0, 0, 0],\n",
            "        [0, 0, 0, 0, 2, 1, 1, 1, 1, 1, 2, 2, 1, 1, 1, 1, 1, 2, 1, 1, 2, 2,\n",
            "         0, 0, 0, 0],\n",
            "        [0, 0, 0, 0, 0, 2, 2, 1, 1, 1, 1, 1, 1, 1, 2, 1, 1, 1, 1, 1, 0, 0,\n",
            "         0, 0, 0, 0],\n",
            "        [0, 0, 0, 0, 0, 0, 0, 1, 1, 1, 1, 1, 1, 1, 2, 1, 1, 2, 1, 0, 0, 0,\n",
            "         0, 0, 0, 0],\n",
            "        [0, 0, 0, 0, 0, 0, 0, 0, 0, 0, 1, 2, 1, 2, 2, 1, 0, 0, 0, 0, 0, 0,\n",
            "         0, 0, 0, 0]], dtype=uint8)\n",
            " array([[0, 0, 0, 0, 0, 0, 0, 0, 0, 0, 2, 2, 1, 2, 1, 2, 0, 0, 0, 0, 0, 0,\n",
            "         0, 0, 0, 0],\n",
            "        [0, 0, 0, 0, 0, 0, 0, 1, 1, 1, 1, 1, 1, 1, 1, 1, 1, 2, 1, 0, 0, 0,\n",
            "         0, 0, 0, 0],\n",
            "        [0, 0, 0, 0, 0, 0, 1, 1, 1, 1, 1, 1, 1, 1, 1, 1, 1, 1, 2, 2, 0, 0,\n",
            "         0, 0, 0, 0],\n",
            "        [0, 0, 0, 0, 2, 1, 1, 1, 1, 1, 1, 1, 1, 1, 1, 1, 1, 1, 1, 1, 1, 1,\n",
            "         0, 0, 0, 0],\n",
            "        [0, 0, 0, 1, 1, 1, 1, 1, 1, 2, 1, 1, 1, 1, 2, 1, 2, 1, 1, 1, 2, 2,\n",
            "         2, 0, 0, 0],\n",
            "        [0, 0, 1, 1, 1, 1, 2, 1, 1, 1, 1, 1, 1, 1, 1, 1, 2, 2, 2, 1, 1, 1,\n",
            "         1, 1, 0, 0],\n",
            "        [0, 0, 1, 2, 1, 1, 1, 1, 1, 1, 2, 1, 1, 1, 1, 1, 1, 1, 1, 1, 1, 1,\n",
            "         1, 1, 0, 0],\n",
            "        [0, 2, 1, 1, 2, 1, 1, 1, 1, 1, 1, 1, 1, 1, 1, 1, 2, 1, 1, 1, 1, 1,\n",
            "         1, 1, 1, 0],\n",
            "        [0, 1, 2, 2, 1, 1, 1, 2, 2, 1, 2, 1, 1, 1, 1, 1, 2, 1, 2, 1, 1, 2,\n",
            "         1, 1, 1, 0],\n",
            "        [1, 1, 1, 1, 2, 1, 1, 2, 1, 1, 1, 1, 1, 1, 1, 1, 1, 1, 1, 2, 1, 1,\n",
            "         1, 1, 1, 2],\n",
            "        [2, 1, 1, 1, 1, 1, 1, 1, 1, 1, 1, 2, 1, 1, 1, 1, 2, 1, 1, 1, 1, 1,\n",
            "         1, 1, 1, 1],\n",
            "        [1, 1, 2, 1, 1, 1, 1, 1, 1, 1, 1, 1, 1, 1, 1, 1, 1, 1, 1, 1, 1, 1,\n",
            "         1, 1, 1, 1],\n",
            "        [1, 1, 1, 1, 1, 1, 1, 1, 1, 1, 2, 2, 1, 1, 1, 1, 1, 2, 1, 1, 1, 1,\n",
            "         1, 2, 2, 1],\n",
            "        [1, 1, 1, 1, 1, 1, 1, 1, 2, 1, 1, 1, 1, 1, 2, 1, 1, 1, 1, 1, 1, 1,\n",
            "         1, 1, 2, 1],\n",
            "        [1, 1, 1, 2, 1, 1, 1, 1, 1, 1, 1, 1, 1, 2, 2, 2, 1, 1, 1, 1, 1, 1,\n",
            "         1, 1, 1, 1],\n",
            "        [1, 1, 1, 1, 1, 2, 2, 1, 1, 1, 1, 1, 1, 1, 1, 1, 1, 1, 1, 1, 1, 1,\n",
            "         1, 1, 1, 1],\n",
            "        [1, 1, 1, 1, 2, 1, 1, 1, 1, 1, 1, 1, 1, 1, 1, 1, 1, 1, 1, 1, 1, 1,\n",
            "         1, 1, 1, 1],\n",
            "        [0, 1, 2, 2, 2, 1, 1, 1, 1, 1, 1, 1, 1, 1, 2, 1, 1, 1, 1, 1, 1, 2,\n",
            "         1, 1, 1, 0],\n",
            "        [0, 1, 1, 1, 2, 1, 1, 1, 1, 1, 1, 1, 1, 1, 1, 1, 1, 1, 1, 1, 1, 1,\n",
            "         2, 1, 1, 0],\n",
            "        [0, 0, 1, 1, 1, 1, 1, 1, 1, 1, 1, 1, 1, 1, 1, 1, 1, 2, 1, 1, 1, 1,\n",
            "         1, 1, 0, 0],\n",
            "        [0, 0, 1, 1, 1, 1, 1, 1, 1, 2, 1, 1, 2, 1, 1, 1, 1, 1, 1, 1, 1, 2,\n",
            "         1, 2, 0, 0],\n",
            "        [0, 0, 0, 1, 1, 1, 1, 1, 1, 1, 1, 1, 1, 1, 1, 1, 1, 1, 1, 1, 1, 1,\n",
            "         1, 0, 0, 0],\n",
            "        [0, 0, 0, 0, 1, 1, 1, 1, 2, 1, 1, 1, 1, 1, 1, 1, 1, 1, 1, 1, 1, 2,\n",
            "         0, 0, 0, 0],\n",
            "        [0, 0, 0, 0, 0, 1, 1, 1, 1, 2, 1, 1, 1, 1, 1, 1, 1, 1, 1, 2, 0, 0,\n",
            "         0, 0, 0, 0],\n",
            "        [0, 0, 0, 0, 0, 0, 0, 1, 1, 1, 2, 1, 1, 1, 1, 1, 2, 1, 1, 0, 0, 0,\n",
            "         0, 0, 0, 0],\n",
            "        [0, 0, 0, 0, 0, 0, 0, 0, 0, 0, 2, 2, 1, 2, 1, 1, 0, 0, 0, 0, 0, 0,\n",
            "         0, 0, 0, 0]], dtype=uint8)                                       ]\n"
          ]
        }
      ],
      "source": [
        "sub_df_2 = df.loc[df['wafermap_size'] == (26, 26)]\n",
        "sub_wafer_2 = sub_df_2['waferMap'].values\n",
        "print(sub_df_2)\n",
        "print(sub_wafer_2)"
      ]
    },
    {
      "cell_type": "code",
      "execution_count": null,
      "metadata": {
        "colab": {
          "base_uri": "https://localhost:8080/"
        },
        "id": "SpRn6U-WxDgJ",
        "outputId": "72683517-7439-4a51-adef-db39ed3f2e48"
      },
      "outputs": [
        {
          "name": "stderr",
          "output_type": "stream",
          "text": [
            "<ipython-input-29-0731c3f25a50>:7: SettingWithCopyWarning: \n",
            "A value is trying to be set on a copy of a slice from a DataFrame.\n",
            "Try using .loc[row_indexer,col_indexer] = value instead\n",
            "\n",
            "See the caveats in the documentation: https://pandas.pydata.org/pandas-docs/stable/user_guide/indexing.html#returning-a-view-versus-a-copy\n",
            "  sub_df_2[\"failureType\"] = sub_df_2[\"failureType\"].apply(replace_arrays_1)\n"
          ]
        },
        {
          "name": "stdout",
          "output_type": "stream",
          "text": [
            "        dieSize failureType   lotName trainTestLabel  waferIndex  \\\n",
            "150       533.0        none      lot7       Training         1.0   \n",
            "151       533.0        none      lot7       Training         2.0   \n",
            "152       533.0        none      lot7       Training         3.0   \n",
            "153       533.0        none      lot7       Training         4.0   \n",
            "154       533.0        none      lot7       Training         5.0   \n",
            "...         ...         ...       ...            ...         ...   \n",
            "679275    533.0          []  lot42180             []        20.0   \n",
            "679276    533.0          []  lot42180             []        21.0   \n",
            "679277    533.0          []  lot42180             []        22.0   \n",
            "679278    533.0          []  lot42180             []        23.0   \n",
            "679279    533.0          []  lot42180             []        24.0   \n",
            "\n",
            "                                                 waferMap wafermap_size  \\\n",
            "150     [[0, 0, 0, 0, 0, 0, 0, 0, 0, 0, 2, 2, 1, 1, 2,...      (26, 26)   \n",
            "151     [[0, 0, 0, 0, 0, 0, 0, 0, 0, 0, 2, 1, 1, 1, 1,...      (26, 26)   \n",
            "152     [[0, 0, 0, 0, 0, 0, 0, 0, 0, 0, 1, 2, 1, 1, 1,...      (26, 26)   \n",
            "153     [[0, 0, 0, 0, 0, 0, 0, 0, 0, 0, 1, 2, 2, 1, 1,...      (26, 26)   \n",
            "154     [[0, 0, 0, 0, 0, 0, 0, 0, 0, 0, 2, 2, 2, 2, 2,...      (26, 26)   \n",
            "...                                                   ...           ...   \n",
            "679275  [[0, 0, 0, 0, 0, 0, 0, 0, 0, 0, 1, 2, 1, 1, 1,...      (26, 26)   \n",
            "679276  [[0, 0, 0, 0, 0, 0, 0, 0, 0, 0, 1, 2, 1, 2, 2,...      (26, 26)   \n",
            "679277  [[0, 0, 0, 0, 0, 0, 0, 0, 0, 0, 1, 1, 2, 1, 1,...      (26, 26)   \n",
            "679278  [[0, 0, 0, 0, 0, 0, 0, 0, 0, 0, 1, 2, 1, 1, 2,...      (26, 26)   \n",
            "679279  [[0, 0, 0, 0, 0, 0, 0, 0, 0, 0, 2, 2, 1, 2, 1,...      (26, 26)   \n",
            "\n",
            "        failure_num  trainTest_num  \n",
            "150               8              0  \n",
            "151               8              0  \n",
            "152               8              0  \n",
            "153               8              0  \n",
            "154               8              0  \n",
            "...             ...            ...  \n",
            "679275            9              9  \n",
            "679276            9              9  \n",
            "679277            9              9  \n",
            "679278            9              9  \n",
            "679279            9              9  \n",
            "\n",
            "[30078 rows x 9 columns]\n"
          ]
        },
        {
          "name": "stderr",
          "output_type": "stream",
          "text": [
            "<ipython-input-29-0731c3f25a50>:8: SettingWithCopyWarning: \n",
            "A value is trying to be set on a copy of a slice from a DataFrame.\n",
            "Try using .loc[row_indexer,col_indexer] = value instead\n",
            "\n",
            "See the caveats in the documentation: https://pandas.pydata.org/pandas-docs/stable/user_guide/indexing.html#returning-a-view-versus-a-copy\n",
            "  sub_df_2[\"trainTestLabel\"] = sub_df_2[\"trainTestLabel\"].apply(replace_arrays_1)\n"
          ]
        }
      ],
      "source": [
        "def replace_arrays_1(x):\n",
        "    if isinstance(x, np.ndarray):\n",
        "        return []\n",
        "    else:\n",
        "        return x\n",
        "\n",
        "sub_df_2[\"failureType\"] = sub_df_2[\"failureType\"].apply(replace_arrays_1)\n",
        "sub_df_2[\"trainTestLabel\"] = sub_df_2[\"trainTestLabel\"].apply(replace_arrays_1)\n",
        "\n",
        "print(sub_df_2)"
      ]
    },
    {
      "cell_type": "code",
      "execution_count": null,
      "metadata": {
        "id": "w9hNhKYoROkV"
      },
      "outputs": [],
      "source": [
        "sw_2 = np.ones((1, 26, 26))\n",
        "label_2 = list()"
      ]
    },
    {
      "cell_type": "code",
      "execution_count": null,
      "metadata": {
        "id": "nI-1Vj2URTja"
      },
      "outputs": [],
      "source": [
        "for i in range(len(sub_df_2)):\n",
        "    if len(sub_df_2.iloc[i,:]['failureType']) == 0:\n",
        "        continue\n",
        "    sw_2 = np.concatenate((sw_2, sub_df_2.iloc[i,:]['waferMap'].reshape(1, 26, 26)))\n",
        "    label_2.append(sub_df_2.iloc[i,:]['failureType'])"
      ]
    },
    {
      "cell_type": "code",
      "execution_count": null,
      "metadata": {
        "colab": {
          "base_uri": "https://localhost:8080/"
        },
        "id": "F0RyFVVXRfAL",
        "outputId": "65029b77-4923-43c3-9bad-4b36fd18b4b7"
      },
      "outputs": [
        {
          "name": "stdout",
          "output_type": "stream",
          "text": [
            "x3 shape : (14366, 27, 27), y2 shape : (14366, 1)\n",
            "[['none']\n",
            " ['none']\n",
            " ['none']\n",
            " ...\n",
            " ['none']\n",
            " ['none']\n",
            " ['none']]\n"
          ]
        }
      ],
      "source": [
        "z = sw_2[1:]\n",
        "x3 = np.pad(z, ((0,0),(1,0),(1,0)), mode='constant', constant_values = (0,0))\n",
        "y2 = np.array(label_2).reshape((-1,1))\n",
        "print('x3 shape : {}, y2 shape : {}'.format(x3.shape, y2.shape))\n",
        "print(y2)"
      ]
    },
    {
      "cell_type": "code",
      "execution_count": null,
      "metadata": {
        "id": "3-ccbfySRtq4"
      },
      "outputs": [],
      "source": [
        "sub_df_3 = df.loc[df['wafermap_size'] == (27, 25)]\n",
        "sub_wafer_3 = sub_df_3['waferMap'].values\n"
      ]
    },
    {
      "cell_type": "code",
      "execution_count": null,
      "metadata": {
        "colab": {
          "base_uri": "https://localhost:8080/"
        },
        "id": "4wqyWx2VSEzj",
        "outputId": "2ef63403-9719-4754-e1d3-d996be6d9e5a"
      },
      "outputs": [
        {
          "name": "stdout",
          "output_type": "stream",
          "text": [
            "        dieSize failureType   lotName trainTestLabel  waferIndex  \\\n",
            "347081    518.0          []  lot20744             []         1.0   \n",
            "347082    518.0          []  lot20744             []         2.0   \n",
            "347083    518.0          []  lot20744             []         3.0   \n",
            "347084    518.0          []  lot20744             []         4.0   \n",
            "347085    518.0          []  lot20744             []         6.0   \n",
            "...         ...         ...       ...            ...         ...   \n",
            "756290    518.0          []  lot45297             []        20.0   \n",
            "756291    518.0          []  lot45297             []        21.0   \n",
            "756292    518.0          []  lot45297             []        22.0   \n",
            "756293    518.0          []  lot45297             []        23.0   \n",
            "756294    518.0          []  lot45297             []        24.0   \n",
            "\n",
            "                                                 waferMap wafermap_size  \\\n",
            "347081  [[0, 0, 0, 0, 0, 0, 0, 0, 0, 0, 2, 1, 1, 2, 2,...      (27, 25)   \n",
            "347082  [[0, 0, 0, 0, 0, 0, 0, 0, 0, 0, 1, 1, 1, 1, 1,...      (27, 25)   \n",
            "347083  [[0, 0, 0, 0, 0, 0, 0, 0, 0, 0, 1, 1, 1, 1, 2,...      (27, 25)   \n",
            "347084  [[0, 0, 0, 0, 0, 0, 0, 0, 0, 0, 1, 1, 2, 2, 1,...      (27, 25)   \n",
            "347085  [[0, 0, 0, 0, 0, 0, 0, 0, 0, 0, 1, 1, 1, 2, 1,...      (27, 25)   \n",
            "...                                                   ...           ...   \n",
            "756290  [[0, 0, 0, 0, 0, 0, 0, 0, 0, 0, 2, 1, 1, 1, 1,...      (27, 25)   \n",
            "756291  [[0, 0, 0, 0, 0, 0, 0, 0, 0, 0, 2, 2, 1, 1, 1,...      (27, 25)   \n",
            "756292  [[0, 0, 0, 0, 0, 0, 0, 0, 0, 0, 2, 2, 1, 1, 1,...      (27, 25)   \n",
            "756293  [[0, 0, 0, 0, 0, 0, 0, 0, 0, 0, 2, 1, 1, 1, 2,...      (27, 25)   \n",
            "756294  [[0, 0, 0, 0, 0, 0, 0, 0, 0, 0, 2, 1, 2, 1, 2,...      (27, 25)   \n",
            "\n",
            "        failure_num  trainTest_num  \n",
            "347081            9              9  \n",
            "347082            9              9  \n",
            "347083            9              9  \n",
            "347084            9              9  \n",
            "347085            9              9  \n",
            "...             ...            ...  \n",
            "756290            9              9  \n",
            "756291            9              9  \n",
            "756292            9              9  \n",
            "756293            9              9  \n",
            "756294            9              9  \n",
            "\n",
            "[12655 rows x 9 columns]\n"
          ]
        },
        {
          "name": "stderr",
          "output_type": "stream",
          "text": [
            "<ipython-input-34-cd0c863b2033>:7: SettingWithCopyWarning: \n",
            "A value is trying to be set on a copy of a slice from a DataFrame.\n",
            "Try using .loc[row_indexer,col_indexer] = value instead\n",
            "\n",
            "See the caveats in the documentation: https://pandas.pydata.org/pandas-docs/stable/user_guide/indexing.html#returning-a-view-versus-a-copy\n",
            "  sub_df_3[\"failureType\"] = sub_df_3[\"failureType\"].apply(replace_arrays_1)\n",
            "<ipython-input-34-cd0c863b2033>:8: SettingWithCopyWarning: \n",
            "A value is trying to be set on a copy of a slice from a DataFrame.\n",
            "Try using .loc[row_indexer,col_indexer] = value instead\n",
            "\n",
            "See the caveats in the documentation: https://pandas.pydata.org/pandas-docs/stable/user_guide/indexing.html#returning-a-view-versus-a-copy\n",
            "  sub_df_3[\"trainTestLabel\"] = sub_df_3[\"trainTestLabel\"].apply(replace_arrays_1)\n"
          ]
        }
      ],
      "source": [
        "def replace_arrays_1(x):\n",
        "    if isinstance(x, np.ndarray):\n",
        "        return []\n",
        "    else:\n",
        "        return x\n",
        "\n",
        "sub_df_3[\"failureType\"] = sub_df_3[\"failureType\"].apply(replace_arrays_1)\n",
        "sub_df_3[\"trainTestLabel\"] = sub_df_3[\"trainTestLabel\"].apply(replace_arrays_1)\n",
        "\n",
        "print(sub_df_3)"
      ]
    },
    {
      "cell_type": "code",
      "execution_count": null,
      "metadata": {
        "id": "GSj-WDbpSN5D"
      },
      "outputs": [],
      "source": [
        "sw_3 = np.ones((1, 27, 25))\n",
        "label_3= list()"
      ]
    },
    {
      "cell_type": "code",
      "execution_count": null,
      "metadata": {
        "id": "fRe_MPEbSRGj"
      },
      "outputs": [],
      "source": [
        "for i in range(len(sub_df_3)):\n",
        "    if len(sub_df_3.iloc[i,:]['failureType']) == 0:\n",
        "        continue\n",
        "    sw_3 = np.concatenate((sw_3, sub_df_3.iloc[i,:]['waferMap'].reshape(1, 27, 25)))\n",
        "    label_3.append(sub_df_3.iloc[i,:]['failureType'])"
      ]
    },
    {
      "cell_type": "code",
      "execution_count": null,
      "metadata": {
        "id": "55jnjeCJSaje"
      },
      "outputs": [],
      "source": [
        "z1 = sw_3[1:]\n",
        "x5 = np.pad(z1, ((0,0),(0,0),(1,1)), mode='constant', constant_values = (0,0))\n",
        "y3 = np.array(label_3).reshape((-1,1))"
      ]
    },
    {
      "cell_type": "code",
      "execution_count": null,
      "metadata": {
        "colab": {
          "base_uri": "https://localhost:8080/"
        },
        "id": "aV44oDS1Ss-H",
        "outputId": "9fec9406-9e6d-4b65-ac63-f3725fdb313a"
      },
      "outputs": [
        {
          "name": "stdout",
          "output_type": "stream",
          "text": [
            "[[[0. 0. 0. ... 0. 0. 0.]\n",
            "  [0. 0. 0. ... 0. 0. 0.]\n",
            "  [0. 0. 0. ... 0. 0. 0.]\n",
            "  ...\n",
            "  [0. 0. 0. ... 0. 0. 0.]\n",
            "  [0. 0. 0. ... 0. 0. 0.]\n",
            "  [0. 0. 0. ... 0. 0. 0.]]\n",
            "\n",
            " [[0. 0. 0. ... 0. 0. 0.]\n",
            "  [0. 0. 0. ... 0. 0. 0.]\n",
            "  [0. 0. 0. ... 0. 0. 0.]\n",
            "  ...\n",
            "  [0. 0. 0. ... 0. 0. 0.]\n",
            "  [0. 0. 0. ... 0. 0. 0.]\n",
            "  [0. 0. 0. ... 0. 0. 0.]]\n",
            "\n",
            " [[0. 0. 0. ... 0. 0. 0.]\n",
            "  [0. 0. 0. ... 0. 0. 0.]\n",
            "  [0. 0. 0. ... 0. 0. 0.]\n",
            "  ...\n",
            "  [0. 0. 0. ... 0. 0. 0.]\n",
            "  [0. 0. 0. ... 0. 0. 0.]\n",
            "  [0. 0. 0. ... 0. 0. 0.]]\n",
            "\n",
            " ...\n",
            "\n",
            " [[0. 0. 0. ... 0. 0. 0.]\n",
            "  [0. 0. 0. ... 0. 0. 0.]\n",
            "  [0. 0. 0. ... 0. 0. 0.]\n",
            "  ...\n",
            "  [0. 0. 0. ... 0. 0. 0.]\n",
            "  [0. 0. 0. ... 0. 0. 0.]\n",
            "  [0. 0. 0. ... 0. 0. 0.]]\n",
            "\n",
            " [[0. 0. 0. ... 0. 0. 0.]\n",
            "  [0. 0. 0. ... 0. 0. 0.]\n",
            "  [0. 0. 0. ... 0. 0. 0.]\n",
            "  ...\n",
            "  [0. 0. 0. ... 0. 0. 0.]\n",
            "  [0. 0. 0. ... 0. 0. 0.]\n",
            "  [0. 0. 0. ... 0. 0. 0.]]\n",
            "\n",
            " [[0. 0. 0. ... 0. 0. 0.]\n",
            "  [0. 0. 0. ... 0. 0. 0.]\n",
            "  [0. 0. 0. ... 0. 0. 0.]\n",
            "  ...\n",
            "  [0. 0. 0. ... 0. 0. 0.]\n",
            "  [0. 0. 0. ... 0. 0. 0.]\n",
            "  [0. 0. 0. ... 0. 0. 0.]]]\n",
            "[['Edge-Loc']\n",
            " ['Edge-Loc']\n",
            " ['Edge-Loc']\n",
            " ...\n",
            " ['none']\n",
            " ['none']\n",
            " ['none']]\n",
            "10682\n"
          ]
        }
      ],
      "source": [
        "print(x5)\n",
        "print(y3)\n",
        "print(x5.shape[0])"
      ]
    },
    {
      "cell_type": "markdown",
      "source": [
        "# 最後再將合併成一個x-array and y-array"
      ],
      "metadata": {
        "id": "KE8pVYQjN0py"
      }
    },
    {
      "cell_type": "code",
      "execution_count": null,
      "metadata": {
        "colab": {
          "base_uri": "https://localhost:8080/"
        },
        "id": "F5MGMfe_Sw-t",
        "outputId": "fd343c8f-4c34-4b94-fca8-490ffb9801c7"
      },
      "outputs": [
        {
          "name": "stdout",
          "output_type": "stream",
          "text": [
            "x shape : (43829, 27, 27), y shape : (43829, 1)\n"
          ]
        }
      ],
      "source": [
        "x3 = np.concatenate((x3, x5[0:]))\n",
        "y2 = np.concatenate((y2, y3))\n",
        "x = np.concatenate((x9, x3[0:]))\n",
        "y = np.concatenate((y9, y2))\n",
        "\n",
        "print('x shape : {}, y shape : {}'.format(x.shape, y.shape))"
      ]
    },
    {
      "cell_type": "code",
      "execution_count": null,
      "metadata": {
        "colab": {
          "base_uri": "https://localhost:8080/"
        },
        "id": "vjRVYfU4l5Mf",
        "outputId": "faa2c93e-77e2-4947-f98e-d221891e32ed"
      },
      "outputs": [
        {
          "name": "stdout",
          "output_type": "stream",
          "text": [
            "Faulty case : ['Edge-Loc'] \n"
          ]
        }
      ],
      "source": [
        "print('Faulty case : {} '.format(y[0]))"
      ]
    },
    {
      "cell_type": "code",
      "execution_count": null,
      "metadata": {
        "colab": {
          "base_uri": "https://localhost:8080/"
        },
        "id": "e2Cdbg_a8MlB",
        "outputId": "25f1e979-d250-4fe8-dfaa-e149c964cbb0"
      },
      "outputs": [
        {
          "name": "stdout",
          "output_type": "stream",
          "text": [
            "Center : 2364\n",
            "Donut : 7\n",
            "Edge-Loc : 747\n",
            "Edge-Ring : 56\n",
            "Loc : 573\n",
            "Near-full : 48\n",
            "Random : 137\n",
            "Scratch : 102\n",
            "none : 39795\n"
          ]
        }
      ],
      "source": [
        "total = np.unique(y)\n",
        "for i in total :\n",
        "    print('{} : {}'.format(i, len(y[y==i])))"
      ]
    },
    {
      "cell_type": "markdown",
      "source": [
        "# 刪除none資料\n",
        "\n",
        "**註:這邊在結果上準確率約99.6%實在過高,認為是資料懸殊問題(none還是過多)**\n",
        "\n",
        "**因此可能需要做資料增強的方式使其他類別的資料數提高**"
      ],
      "metadata": {
        "id": "sH_moTibODQV"
      }
    },
    {
      "cell_type": "code",
      "execution_count": null,
      "metadata": {
        "id": "v0HUs_y2mBsp"
      },
      "outputs": [],
      "source": [
        "none_idx = np.where(y=='none')[0][np.random.choice(len(np.where(y=='none')[0]), size=25000, replace=False)]\n",
        "\n",
        "new_x = np.delete(x, none_idx, axis=0)\n",
        "new_y = np.delete(y, none_idx, axis=0)"
      ]
    },
    {
      "cell_type": "code",
      "execution_count": null,
      "metadata": {
        "colab": {
          "base_uri": "https://localhost:8080/"
        },
        "id": "vp7otZ3l2l-3",
        "outputId": "1d1c63a9-09a1-4bcc-bb75-5f1aead6ce03"
      },
      "outputs": [
        {
          "name": "stdout",
          "output_type": "stream",
          "text": [
            "[['Edge-Loc']\n",
            " ['Edge-Loc']\n",
            " ['Edge-Loc']\n",
            " ...\n",
            " ['none']\n",
            " ['none']\n",
            " ['none']]\n",
            "[25289 25507 37519 ... 33216  2815 16982]\n"
          ]
        }
      ],
      "source": [
        "print(y)\n",
        "print(none_idx)"
      ]
    },
    {
      "cell_type": "code",
      "execution_count": null,
      "metadata": {
        "colab": {
          "base_uri": "https://localhost:8080/"
        },
        "id": "QfOXyhMX8xzw",
        "outputId": "e0f5f6e7-5e7f-44cb-e9b7-bc525877d6a5"
      },
      "outputs": [
        {
          "name": "stdout",
          "output_type": "stream",
          "text": [
            "y-long:  18829\n",
            "Center : 2364\n",
            "Donut : 7\n",
            "Edge-Loc : 747\n",
            "Edge-Ring : 56\n",
            "Loc : 573\n",
            "Near-full : 48\n",
            "Random : 137\n",
            "Scratch : 102\n",
            "none : 14795\n"
          ]
        }
      ],
      "source": [
        "print(\"y-long: \",new_y.shape[0])\n",
        "print(\"\\n\")\n",
        "for i in total:\n",
        "  print('{} : {}'.format(i, len(new_y[new_y==i])))\n"
      ]
    },
    {
      "cell_type": "markdown",
      "source": [
        "# 切分資料"
      ],
      "metadata": {
        "id": "GKFA4t7eOvKb"
      }
    },
    {
      "cell_type": "code",
      "execution_count": null,
      "metadata": {
        "id": "eMM4XNEY9G57"
      },
      "outputs": [],
      "source": [
        "x_train, x_test, y_train, y_test = train_test_split(new_x, new_y, test_size=0.2, random_state=24)"
      ]
    },
    {
      "cell_type": "code",
      "execution_count": null,
      "metadata": {
        "colab": {
          "base_uri": "https://localhost:8080/"
        },
        "id": "eam8UAEX9Q4W",
        "outputId": "3b5a0d5f-cfe5-4944-8ea1-923753e6d0a4"
      },
      "outputs": [
        {
          "name": "stdout",
          "output_type": "stream",
          "text": [
            "x-train:  15063\n",
            "y-train:  15063\n",
            "x-test:  3766\n",
            "y-test:  3766\n"
          ]
        }
      ],
      "source": [
        "print(\"x-train: \",x_train.shape[0])\n",
        "print(\"y-train: \",y_train.shape[0])\n",
        "print(\"x-test: \",x_test.shape[0])\n",
        "print(\"y-test: \",y_test.shape[0])\n"
      ]
    },
    {
      "cell_type": "code",
      "execution_count": null,
      "metadata": {
        "colab": {
          "base_uri": "https://localhost:8080/"
        },
        "id": "kvTkVLP69w2o",
        "outputId": "050f8c31-c80d-41ca-cec1-1416fede382b"
      },
      "outputs": [
        {
          "name": "stdout",
          "output_type": "stream",
          "text": [
            "Center : 1904\n",
            "Donut : 7\n",
            "Edge-Loc : 588\n",
            "Edge-Ring : 41\n",
            "Loc : 468\n",
            "Near-full : 37\n",
            "Random : 114\n",
            "Scratch : 82\n",
            "none : 11822\n"
          ]
        }
      ],
      "source": [
        "for i in total:\n",
        "  print('{} : {}'.format(i, len(y_train[y_train==i])))"
      ]
    },
    {
      "cell_type": "code",
      "execution_count": null,
      "metadata": {
        "colab": {
          "base_uri": "https://localhost:8080/"
        },
        "id": "ahSKuYiA-2Ux",
        "outputId": "36a8fad1-50d7-4b54-c24e-b06d8cab4965"
      },
      "outputs": [
        {
          "name": "stdout",
          "output_type": "stream",
          "text": [
            "Center : 460\n",
            "Donut : 0\n",
            "Edge-Loc : 159\n",
            "Edge-Ring : 15\n",
            "Loc : 105\n",
            "Near-full : 11\n",
            "Random : 23\n",
            "Scratch : 20\n",
            "none : 2973\n"
          ]
        }
      ],
      "source": [
        "for i in total:\n",
        "  print('{} : {}'.format(i, len(y_test[y_test==i])))"
      ]
    },
    {
      "cell_type": "code",
      "execution_count": null,
      "metadata": {
        "colab": {
          "base_uri": "https://localhost:8080/"
        },
        "id": "Gu_Yngi2-6Sy",
        "outputId": "dd46bc13-0545-4d4f-bb77-fa90ea4774b6"
      },
      "outputs": [
        {
          "name": "stdout",
          "output_type": "stream",
          "text": [
            "[[[0. 0. 0. ... 0. 0. 0.]\n",
            "  [0. 0. 0. ... 0. 0. 0.]\n",
            "  [0. 0. 0. ... 0. 0. 0.]\n",
            "  ...\n",
            "  [0. 0. 0. ... 0. 0. 0.]\n",
            "  [0. 0. 0. ... 0. 0. 0.]\n",
            "  [0. 0. 0. ... 0. 0. 0.]]\n",
            "\n",
            " [[0. 0. 0. ... 0. 0. 0.]\n",
            "  [0. 0. 0. ... 0. 0. 0.]\n",
            "  [0. 0. 0. ... 0. 0. 0.]\n",
            "  ...\n",
            "  [0. 0. 0. ... 0. 0. 0.]\n",
            "  [0. 0. 0. ... 0. 0. 0.]\n",
            "  [0. 0. 0. ... 0. 0. 0.]]\n",
            "\n",
            " [[0. 0. 0. ... 0. 0. 0.]\n",
            "  [0. 0. 0. ... 0. 0. 0.]\n",
            "  [0. 0. 0. ... 0. 0. 0.]\n",
            "  ...\n",
            "  [0. 0. 0. ... 0. 0. 0.]\n",
            "  [0. 0. 0. ... 0. 0. 0.]\n",
            "  [0. 0. 0. ... 0. 0. 0.]]\n",
            "\n",
            " ...\n",
            "\n",
            " [[0. 0. 0. ... 0. 0. 0.]\n",
            "  [0. 0. 0. ... 0. 0. 0.]\n",
            "  [0. 0. 0. ... 0. 0. 0.]\n",
            "  ...\n",
            "  [0. 0. 0. ... 0. 0. 0.]\n",
            "  [0. 0. 0. ... 0. 0. 0.]\n",
            "  [0. 0. 0. ... 0. 0. 0.]]\n",
            "\n",
            " [[0. 0. 0. ... 0. 0. 0.]\n",
            "  [0. 0. 0. ... 0. 0. 0.]\n",
            "  [0. 0. 0. ... 0. 0. 0.]\n",
            "  ...\n",
            "  [0. 0. 0. ... 0. 0. 0.]\n",
            "  [0. 0. 0. ... 0. 0. 0.]\n",
            "  [0. 0. 0. ... 0. 0. 0.]]\n",
            "\n",
            " [[0. 0. 0. ... 0. 0. 0.]\n",
            "  [0. 0. 0. ... 0. 0. 0.]\n",
            "  [0. 0. 0. ... 0. 0. 0.]\n",
            "  ...\n",
            "  [0. 0. 0. ... 0. 0. 0.]\n",
            "  [0. 0. 0. ... 0. 0. 0.]\n",
            "  [0. 0. 0. ... 0. 0. 0.]]]\n"
          ]
        }
      ],
      "source": [
        "print(x_test)"
      ]
    },
    {
      "cell_type": "code",
      "execution_count": null,
      "metadata": {
        "colab": {
          "base_uri": "https://localhost:8080/"
        },
        "id": "6DzSxvYb_NV0",
        "outputId": "af0c3afc-e488-453d-b984-e82bce9c6854"
      },
      "outputs": [
        {
          "name": "stdout",
          "output_type": "stream",
          "text": [
            "[[[0.]\n",
            "  [0.]\n",
            "  [0.]\n",
            "  [0.]\n",
            "  [0.]\n",
            "  [0.]\n",
            "  [0.]\n",
            "  [0.]\n",
            "  [0.]\n",
            "  [0.]\n",
            "  [0.]\n",
            "  [2.]\n",
            "  [1.]\n",
            "  [1.]\n",
            "  [1.]\n",
            "  [1.]\n",
            "  [0.]\n",
            "  [0.]\n",
            "  [0.]\n",
            "  [0.]\n",
            "  [0.]\n",
            "  [0.]\n",
            "  [0.]\n",
            "  [0.]\n",
            "  [0.]\n",
            "  [0.]\n",
            "  [0.]]\n",
            "\n",
            " [[0.]\n",
            "  [0.]\n",
            "  [0.]\n",
            "  [0.]\n",
            "  [0.]\n",
            "  [0.]\n",
            "  [0.]\n",
            "  [0.]\n",
            "  [0.]\n",
            "  [1.]\n",
            "  [2.]\n",
            "  [1.]\n",
            "  [2.]\n",
            "  [1.]\n",
            "  [1.]\n",
            "  [1.]\n",
            "  [1.]\n",
            "  [2.]\n",
            "  [1.]\n",
            "  [0.]\n",
            "  [0.]\n",
            "  [0.]\n",
            "  [0.]\n",
            "  [0.]\n",
            "  [0.]\n",
            "  [0.]\n",
            "  [0.]]\n",
            "\n",
            " [[0.]\n",
            "  [0.]\n",
            "  [0.]\n",
            "  [0.]\n",
            "  [0.]\n",
            "  [0.]\n",
            "  [0.]\n",
            "  [1.]\n",
            "  [1.]\n",
            "  [1.]\n",
            "  [0.]\n",
            "  [2.]\n",
            "  [1.]\n",
            "  [1.]\n",
            "  [1.]\n",
            "  [1.]\n",
            "  [1.]\n",
            "  [1.]\n",
            "  [2.]\n",
            "  [1.]\n",
            "  [0.]\n",
            "  [0.]\n",
            "  [0.]\n",
            "  [0.]\n",
            "  [0.]\n",
            "  [0.]\n",
            "  [0.]]\n",
            "\n",
            " [[0.]\n",
            "  [0.]\n",
            "  [0.]\n",
            "  [0.]\n",
            "  [0.]\n",
            "  [0.]\n",
            "  [1.]\n",
            "  [1.]\n",
            "  [1.]\n",
            "  [1.]\n",
            "  [1.]\n",
            "  [2.]\n",
            "  [1.]\n",
            "  [1.]\n",
            "  [1.]\n",
            "  [1.]\n",
            "  [1.]\n",
            "  [1.]\n",
            "  [1.]\n",
            "  [1.]\n",
            "  [1.]\n",
            "  [0.]\n",
            "  [0.]\n",
            "  [0.]\n",
            "  [0.]\n",
            "  [0.]\n",
            "  [0.]]\n",
            "\n",
            " [[0.]\n",
            "  [0.]\n",
            "  [0.]\n",
            "  [0.]\n",
            "  [0.]\n",
            "  [1.]\n",
            "  [1.]\n",
            "  [1.]\n",
            "  [1.]\n",
            "  [1.]\n",
            "  [1.]\n",
            "  [0.]\n",
            "  [1.]\n",
            "  [1.]\n",
            "  [1.]\n",
            "  [1.]\n",
            "  [1.]\n",
            "  [1.]\n",
            "  [1.]\n",
            "  [1.]\n",
            "  [1.]\n",
            "  [1.]\n",
            "  [1.]\n",
            "  [0.]\n",
            "  [0.]\n",
            "  [0.]\n",
            "  [0.]]\n",
            "\n",
            " [[0.]\n",
            "  [0.]\n",
            "  [0.]\n",
            "  [0.]\n",
            "  [1.]\n",
            "  [1.]\n",
            "  [2.]\n",
            "  [1.]\n",
            "  [1.]\n",
            "  [1.]\n",
            "  [1.]\n",
            "  [1.]\n",
            "  [1.]\n",
            "  [1.]\n",
            "  [1.]\n",
            "  [1.]\n",
            "  [1.]\n",
            "  [1.]\n",
            "  [1.]\n",
            "  [1.]\n",
            "  [1.]\n",
            "  [1.]\n",
            "  [1.]\n",
            "  [0.]\n",
            "  [0.]\n",
            "  [0.]\n",
            "  [0.]]\n",
            "\n",
            " [[0.]\n",
            "  [0.]\n",
            "  [0.]\n",
            "  [2.]\n",
            "  [1.]\n",
            "  [1.]\n",
            "  [1.]\n",
            "  [1.]\n",
            "  [1.]\n",
            "  [1.]\n",
            "  [1.]\n",
            "  [1.]\n",
            "  [1.]\n",
            "  [1.]\n",
            "  [1.]\n",
            "  [1.]\n",
            "  [1.]\n",
            "  [1.]\n",
            "  [1.]\n",
            "  [1.]\n",
            "  [1.]\n",
            "  [1.]\n",
            "  [1.]\n",
            "  [1.]\n",
            "  [0.]\n",
            "  [0.]\n",
            "  [0.]]\n",
            "\n",
            " [[0.]\n",
            "  [0.]\n",
            "  [0.]\n",
            "  [1.]\n",
            "  [0.]\n",
            "  [1.]\n",
            "  [1.]\n",
            "  [1.]\n",
            "  [1.]\n",
            "  [1.]\n",
            "  [1.]\n",
            "  [1.]\n",
            "  [1.]\n",
            "  [1.]\n",
            "  [1.]\n",
            "  [1.]\n",
            "  [1.]\n",
            "  [1.]\n",
            "  [1.]\n",
            "  [1.]\n",
            "  [1.]\n",
            "  [1.]\n",
            "  [1.]\n",
            "  [2.]\n",
            "  [1.]\n",
            "  [0.]\n",
            "  [0.]]\n",
            "\n",
            " [[0.]\n",
            "  [0.]\n",
            "  [1.]\n",
            "  [1.]\n",
            "  [2.]\n",
            "  [1.]\n",
            "  [1.]\n",
            "  [1.]\n",
            "  [1.]\n",
            "  [1.]\n",
            "  [1.]\n",
            "  [1.]\n",
            "  [1.]\n",
            "  [1.]\n",
            "  [2.]\n",
            "  [1.]\n",
            "  [2.]\n",
            "  [1.]\n",
            "  [1.]\n",
            "  [2.]\n",
            "  [1.]\n",
            "  [1.]\n",
            "  [1.]\n",
            "  [1.]\n",
            "  [1.]\n",
            "  [0.]\n",
            "  [0.]]\n",
            "\n",
            " [[0.]\n",
            "  [0.]\n",
            "  [1.]\n",
            "  [1.]\n",
            "  [2.]\n",
            "  [1.]\n",
            "  [1.]\n",
            "  [1.]\n",
            "  [1.]\n",
            "  [1.]\n",
            "  [1.]\n",
            "  [1.]\n",
            "  [1.]\n",
            "  [1.]\n",
            "  [1.]\n",
            "  [1.]\n",
            "  [1.]\n",
            "  [1.]\n",
            "  [1.]\n",
            "  [1.]\n",
            "  [1.]\n",
            "  [1.]\n",
            "  [1.]\n",
            "  [0.]\n",
            "  [1.]\n",
            "  [0.]\n",
            "  [0.]]\n",
            "\n",
            " [[0.]\n",
            "  [0.]\n",
            "  [1.]\n",
            "  [1.]\n",
            "  [1.]\n",
            "  [1.]\n",
            "  [1.]\n",
            "  [1.]\n",
            "  [1.]\n",
            "  [1.]\n",
            "  [1.]\n",
            "  [1.]\n",
            "  [1.]\n",
            "  [1.]\n",
            "  [1.]\n",
            "  [1.]\n",
            "  [1.]\n",
            "  [1.]\n",
            "  [0.]\n",
            "  [1.]\n",
            "  [2.]\n",
            "  [1.]\n",
            "  [1.]\n",
            "  [1.]\n",
            "  [1.]\n",
            "  [1.]\n",
            "  [0.]]\n",
            "\n",
            " [[0.]\n",
            "  [1.]\n",
            "  [1.]\n",
            "  [1.]\n",
            "  [1.]\n",
            "  [1.]\n",
            "  [1.]\n",
            "  [1.]\n",
            "  [1.]\n",
            "  [1.]\n",
            "  [1.]\n",
            "  [1.]\n",
            "  [2.]\n",
            "  [2.]\n",
            "  [1.]\n",
            "  [1.]\n",
            "  [1.]\n",
            "  [1.]\n",
            "  [1.]\n",
            "  [1.]\n",
            "  [1.]\n",
            "  [1.]\n",
            "  [1.]\n",
            "  [1.]\n",
            "  [1.]\n",
            "  [1.]\n",
            "  [0.]]\n",
            "\n",
            " [[0.]\n",
            "  [1.]\n",
            "  [1.]\n",
            "  [1.]\n",
            "  [2.]\n",
            "  [1.]\n",
            "  [1.]\n",
            "  [1.]\n",
            "  [1.]\n",
            "  [1.]\n",
            "  [1.]\n",
            "  [1.]\n",
            "  [1.]\n",
            "  [1.]\n",
            "  [1.]\n",
            "  [1.]\n",
            "  [1.]\n",
            "  [1.]\n",
            "  [1.]\n",
            "  [1.]\n",
            "  [1.]\n",
            "  [1.]\n",
            "  [1.]\n",
            "  [1.]\n",
            "  [1.]\n",
            "  [1.]\n",
            "  [0.]]\n",
            "\n",
            " [[0.]\n",
            "  [1.]\n",
            "  [1.]\n",
            "  [1.]\n",
            "  [1.]\n",
            "  [1.]\n",
            "  [1.]\n",
            "  [1.]\n",
            "  [1.]\n",
            "  [1.]\n",
            "  [1.]\n",
            "  [1.]\n",
            "  [1.]\n",
            "  [1.]\n",
            "  [2.]\n",
            "  [1.]\n",
            "  [1.]\n",
            "  [2.]\n",
            "  [1.]\n",
            "  [1.]\n",
            "  [1.]\n",
            "  [1.]\n",
            "  [1.]\n",
            "  [1.]\n",
            "  [1.]\n",
            "  [2.]\n",
            "  [0.]]\n",
            "\n",
            " [[0.]\n",
            "  [1.]\n",
            "  [1.]\n",
            "  [1.]\n",
            "  [1.]\n",
            "  [1.]\n",
            "  [1.]\n",
            "  [1.]\n",
            "  [1.]\n",
            "  [1.]\n",
            "  [1.]\n",
            "  [1.]\n",
            "  [1.]\n",
            "  [2.]\n",
            "  [1.]\n",
            "  [1.]\n",
            "  [1.]\n",
            "  [1.]\n",
            "  [1.]\n",
            "  [1.]\n",
            "  [1.]\n",
            "  [1.]\n",
            "  [1.]\n",
            "  [2.]\n",
            "  [1.]\n",
            "  [1.]\n",
            "  [0.]]\n",
            "\n",
            " [[0.]\n",
            "  [2.]\n",
            "  [1.]\n",
            "  [1.]\n",
            "  [1.]\n",
            "  [1.]\n",
            "  [1.]\n",
            "  [1.]\n",
            "  [1.]\n",
            "  [2.]\n",
            "  [1.]\n",
            "  [1.]\n",
            "  [1.]\n",
            "  [1.]\n",
            "  [1.]\n",
            "  [1.]\n",
            "  [1.]\n",
            "  [1.]\n",
            "  [2.]\n",
            "  [1.]\n",
            "  [0.]\n",
            "  [1.]\n",
            "  [1.]\n",
            "  [1.]\n",
            "  [1.]\n",
            "  [1.]\n",
            "  [0.]]\n",
            "\n",
            " [[0.]\n",
            "  [0.]\n",
            "  [1.]\n",
            "  [1.]\n",
            "  [1.]\n",
            "  [1.]\n",
            "  [1.]\n",
            "  [1.]\n",
            "  [1.]\n",
            "  [1.]\n",
            "  [1.]\n",
            "  [1.]\n",
            "  [1.]\n",
            "  [1.]\n",
            "  [1.]\n",
            "  [1.]\n",
            "  [1.]\n",
            "  [1.]\n",
            "  [1.]\n",
            "  [1.]\n",
            "  [1.]\n",
            "  [1.]\n",
            "  [1.]\n",
            "  [1.]\n",
            "  [1.]\n",
            "  [2.]\n",
            "  [0.]]\n",
            "\n",
            " [[0.]\n",
            "  [0.]\n",
            "  [1.]\n",
            "  [1.]\n",
            "  [1.]\n",
            "  [1.]\n",
            "  [1.]\n",
            "  [1.]\n",
            "  [1.]\n",
            "  [1.]\n",
            "  [1.]\n",
            "  [1.]\n",
            "  [1.]\n",
            "  [1.]\n",
            "  [1.]\n",
            "  [1.]\n",
            "  [1.]\n",
            "  [1.]\n",
            "  [1.]\n",
            "  [1.]\n",
            "  [1.]\n",
            "  [1.]\n",
            "  [2.]\n",
            "  [1.]\n",
            "  [1.]\n",
            "  [2.]\n",
            "  [0.]]\n",
            "\n",
            " [[0.]\n",
            "  [0.]\n",
            "  [1.]\n",
            "  [1.]\n",
            "  [0.]\n",
            "  [2.]\n",
            "  [1.]\n",
            "  [1.]\n",
            "  [1.]\n",
            "  [1.]\n",
            "  [1.]\n",
            "  [2.]\n",
            "  [2.]\n",
            "  [1.]\n",
            "  [1.]\n",
            "  [1.]\n",
            "  [1.]\n",
            "  [1.]\n",
            "  [1.]\n",
            "  [1.]\n",
            "  [1.]\n",
            "  [1.]\n",
            "  [1.]\n",
            "  [1.]\n",
            "  [1.]\n",
            "  [0.]\n",
            "  [0.]]\n",
            "\n",
            " [[0.]\n",
            "  [0.]\n",
            "  [0.]\n",
            "  [2.]\n",
            "  [2.]\n",
            "  [1.]\n",
            "  [1.]\n",
            "  [1.]\n",
            "  [2.]\n",
            "  [1.]\n",
            "  [1.]\n",
            "  [1.]\n",
            "  [1.]\n",
            "  [1.]\n",
            "  [1.]\n",
            "  [1.]\n",
            "  [1.]\n",
            "  [1.]\n",
            "  [1.]\n",
            "  [1.]\n",
            "  [1.]\n",
            "  [0.]\n",
            "  [1.]\n",
            "  [1.]\n",
            "  [0.]\n",
            "  [0.]\n",
            "  [0.]]\n",
            "\n",
            " [[0.]\n",
            "  [0.]\n",
            "  [0.]\n",
            "  [0.]\n",
            "  [2.]\n",
            "  [1.]\n",
            "  [1.]\n",
            "  [1.]\n",
            "  [1.]\n",
            "  [1.]\n",
            "  [1.]\n",
            "  [1.]\n",
            "  [1.]\n",
            "  [1.]\n",
            "  [1.]\n",
            "  [1.]\n",
            "  [2.]\n",
            "  [1.]\n",
            "  [1.]\n",
            "  [1.]\n",
            "  [2.]\n",
            "  [2.]\n",
            "  [1.]\n",
            "  [1.]\n",
            "  [0.]\n",
            "  [0.]\n",
            "  [0.]]\n",
            "\n",
            " [[0.]\n",
            "  [0.]\n",
            "  [0.]\n",
            "  [0.]\n",
            "  [1.]\n",
            "  [1.]\n",
            "  [1.]\n",
            "  [1.]\n",
            "  [1.]\n",
            "  [1.]\n",
            "  [1.]\n",
            "  [1.]\n",
            "  [1.]\n",
            "  [1.]\n",
            "  [1.]\n",
            "  [2.]\n",
            "  [1.]\n",
            "  [2.]\n",
            "  [1.]\n",
            "  [1.]\n",
            "  [1.]\n",
            "  [1.]\n",
            "  [2.]\n",
            "  [0.]\n",
            "  [0.]\n",
            "  [0.]\n",
            "  [0.]]\n",
            "\n",
            " [[0.]\n",
            "  [0.]\n",
            "  [0.]\n",
            "  [0.]\n",
            "  [0.]\n",
            "  [1.]\n",
            "  [1.]\n",
            "  [1.]\n",
            "  [1.]\n",
            "  [1.]\n",
            "  [1.]\n",
            "  [1.]\n",
            "  [1.]\n",
            "  [1.]\n",
            "  [1.]\n",
            "  [1.]\n",
            "  [1.]\n",
            "  [1.]\n",
            "  [1.]\n",
            "  [1.]\n",
            "  [1.]\n",
            "  [1.]\n",
            "  [2.]\n",
            "  [0.]\n",
            "  [0.]\n",
            "  [0.]\n",
            "  [0.]]\n",
            "\n",
            " [[0.]\n",
            "  [0.]\n",
            "  [0.]\n",
            "  [0.]\n",
            "  [0.]\n",
            "  [0.]\n",
            "  [1.]\n",
            "  [1.]\n",
            "  [1.]\n",
            "  [1.]\n",
            "  [1.]\n",
            "  [1.]\n",
            "  [1.]\n",
            "  [1.]\n",
            "  [1.]\n",
            "  [2.]\n",
            "  [1.]\n",
            "  [1.]\n",
            "  [1.]\n",
            "  [2.]\n",
            "  [1.]\n",
            "  [1.]\n",
            "  [0.]\n",
            "  [0.]\n",
            "  [0.]\n",
            "  [0.]\n",
            "  [0.]]\n",
            "\n",
            " [[0.]\n",
            "  [0.]\n",
            "  [0.]\n",
            "  [0.]\n",
            "  [0.]\n",
            "  [0.]\n",
            "  [0.]\n",
            "  [1.]\n",
            "  [1.]\n",
            "  [0.]\n",
            "  [1.]\n",
            "  [1.]\n",
            "  [1.]\n",
            "  [1.]\n",
            "  [1.]\n",
            "  [1.]\n",
            "  [1.]\n",
            "  [1.]\n",
            "  [1.]\n",
            "  [0.]\n",
            "  [1.]\n",
            "  [0.]\n",
            "  [0.]\n",
            "  [0.]\n",
            "  [0.]\n",
            "  [0.]\n",
            "  [0.]]\n",
            "\n",
            " [[0.]\n",
            "  [0.]\n",
            "  [0.]\n",
            "  [0.]\n",
            "  [0.]\n",
            "  [0.]\n",
            "  [0.]\n",
            "  [0.]\n",
            "  [1.]\n",
            "  [1.]\n",
            "  [1.]\n",
            "  [1.]\n",
            "  [1.]\n",
            "  [1.]\n",
            "  [1.]\n",
            "  [1.]\n",
            "  [2.]\n",
            "  [1.]\n",
            "  [2.]\n",
            "  [0.]\n",
            "  [0.]\n",
            "  [0.]\n",
            "  [0.]\n",
            "  [0.]\n",
            "  [0.]\n",
            "  [0.]\n",
            "  [0.]]\n",
            "\n",
            " [[0.]\n",
            "  [0.]\n",
            "  [0.]\n",
            "  [0.]\n",
            "  [0.]\n",
            "  [0.]\n",
            "  [0.]\n",
            "  [0.]\n",
            "  [0.]\n",
            "  [0.]\n",
            "  [0.]\n",
            "  [1.]\n",
            "  [1.]\n",
            "  [2.]\n",
            "  [2.]\n",
            "  [1.]\n",
            "  [2.]\n",
            "  [0.]\n",
            "  [0.]\n",
            "  [0.]\n",
            "  [0.]\n",
            "  [0.]\n",
            "  [0.]\n",
            "  [0.]\n",
            "  [0.]\n",
            "  [0.]\n",
            "  [0.]]]\n"
          ]
        }
      ],
      "source": [
        "x_test = x_test.reshape((-1, 27, 27, 1))\n",
        "print(x_test[0])"
      ]
    },
    {
      "cell_type": "markdown",
      "source": [
        "# one-hot編碼(x and y)"
      ],
      "metadata": {
        "id": "rep6EQKePBYM"
      }
    },
    {
      "cell_type": "code",
      "execution_count": null,
      "metadata": {
        "colab": {
          "base_uri": "https://localhost:8080/"
        },
        "id": "HeomfbPrAEwd",
        "outputId": "d926cde5-b6ca-43fe-ff74-be759c34216d"
      },
      "outputs": [
        {
          "name": "stdout",
          "output_type": "stream",
          "text": [
            "[[1. 0. 0.]\n",
            " [1. 0. 0.]\n",
            " [1. 0. 0.]\n",
            " [1. 0. 0.]\n",
            " [1. 0. 0.]\n",
            " [1. 0. 0.]\n",
            " [1. 0. 0.]\n",
            " [1. 0. 0.]\n",
            " [1. 0. 0.]\n",
            " [1. 0. 0.]\n",
            " [1. 0. 0.]\n",
            " [0. 0. 1.]\n",
            " [0. 1. 0.]\n",
            " [0. 1. 0.]\n",
            " [0. 1. 0.]\n",
            " [0. 1. 0.]\n",
            " [1. 0. 0.]\n",
            " [1. 0. 0.]\n",
            " [1. 0. 0.]\n",
            " [1. 0. 0.]\n",
            " [1. 0. 0.]\n",
            " [1. 0. 0.]\n",
            " [1. 0. 0.]\n",
            " [1. 0. 0.]\n",
            " [1. 0. 0.]\n",
            " [1. 0. 0.]\n",
            " [1. 0. 0.]]\n",
            "(3766, 27, 27, 3)\n"
          ]
        }
      ],
      "source": [
        "one_hot_x_test = np.zeros((len(x_test), 27, 27, 3))\n",
        "\n",
        "for i in range(len(x_test)):\n",
        "  for j in range(27):\n",
        "    for k in range(27):\n",
        "      one_hot_x_test[i,j,k,int(x_test[i,j,k])] = 1\n",
        "\n",
        "print(one_hot_x_test[0][0])\n",
        "print(one_hot_x_test.shape)"
      ]
    },
    {
      "cell_type": "code",
      "execution_count": null,
      "metadata": {
        "colab": {
          "base_uri": "https://localhost:8080/"
        },
        "id": "DR-Ka5amCHPv",
        "outputId": "890cd3bd-045f-4e8d-c51d-d25179700166"
      },
      "outputs": [
        {
          "name": "stdout",
          "output_type": "stream",
          "text": [
            "(3766, 27, 27, 3)\n"
          ]
        }
      ],
      "source": [
        "print(one_hot_x_test.shape)"
      ]
    },
    {
      "cell_type": "code",
      "execution_count": null,
      "metadata": {
        "colab": {
          "base_uri": "https://localhost:8080/"
        },
        "id": "LRWrqALgC_uC",
        "outputId": "84c44a16-a9ec-4baa-88d8-48d8d097e00f"
      },
      "outputs": [
        {
          "name": "stdout",
          "output_type": "stream",
          "text": [
            "[['8']\n",
            " ['8']\n",
            " ['8']\n",
            " ...\n",
            " ['8']\n",
            " ['2']\n",
            " ['8']]\n"
          ]
        }
      ],
      "source": [
        "for i,j in enumerate(total):\n",
        "  y_test[y_test==j] = i\n",
        "print(y_test)"
      ]
    },
    {
      "cell_type": "code",
      "execution_count": null,
      "metadata": {
        "id": "ZPUK7v3BELKZ"
      },
      "outputs": [],
      "source": [
        "y_test = to_categorical(y_test)"
      ]
    },
    {
      "cell_type": "code",
      "execution_count": null,
      "metadata": {
        "colab": {
          "base_uri": "https://localhost:8080/"
        },
        "id": "5N7qJFeXERX5",
        "outputId": "9d3ffad9-e3ec-4900-9bdb-97e602147a48"
      },
      "outputs": [
        {
          "name": "stdout",
          "output_type": "stream",
          "text": [
            "[[0. 0. 0. ... 0. 0. 1.]\n",
            " [0. 0. 0. ... 0. 0. 1.]\n",
            " [0. 0. 0. ... 0. 0. 1.]\n",
            " ...\n",
            " [0. 0. 0. ... 0. 0. 1.]\n",
            " [0. 0. 1. ... 0. 0. 0.]\n",
            " [0. 0. 0. ... 0. 0. 1.]]\n"
          ]
        }
      ],
      "source": [
        "print(y_test)"
      ]
    },
    {
      "cell_type": "code",
      "execution_count": null,
      "metadata": {
        "colab": {
          "base_uri": "https://localhost:8080/"
        },
        "id": "EqMQN1FeET3x",
        "outputId": "f9ddcfe2-f2a5-49c7-bb65-07a433c0640f"
      },
      "outputs": [
        {
          "name": "stdout",
          "output_type": "stream",
          "text": [
            "[[1. 0. 0.]\n",
            " [1. 0. 0.]\n",
            " [1. 0. 0.]\n",
            " [1. 0. 0.]\n",
            " [1. 0. 0.]\n",
            " [1. 0. 0.]\n",
            " [1. 0. 0.]\n",
            " [1. 0. 0.]\n",
            " [1. 0. 0.]\n",
            " [1. 0. 0.]\n",
            " [1. 0. 0.]\n",
            " [1. 0. 0.]\n",
            " [1. 0. 0.]\n",
            " [1. 0. 0.]\n",
            " [1. 0. 0.]\n",
            " [1. 0. 0.]\n",
            " [1. 0. 0.]\n",
            " [1. 0. 0.]\n",
            " [1. 0. 0.]\n",
            " [1. 0. 0.]\n",
            " [1. 0. 0.]\n",
            " [1. 0. 0.]\n",
            " [1. 0. 0.]\n",
            " [1. 0. 0.]\n",
            " [1. 0. 0.]\n",
            " [1. 0. 0.]\n",
            " [1. 0. 0.]]\n",
            "(15063, 27, 27, 3)\n"
          ]
        }
      ],
      "source": [
        "one_hot_x_train = np.zeros((len(x_train), 27, 27, 3))\n",
        "\n",
        "for i in range(len(x_train)):\n",
        "  for j in range(27):\n",
        "    for k in range(27):\n",
        "      one_hot_x_train[i,j,k,int(x_train[i,j,k])] = 1\n",
        "\n",
        "print(one_hot_x_train[0][0])\n",
        "print(one_hot_x_train.shape)"
      ]
    },
    {
      "cell_type": "markdown",
      "metadata": {
        "id": "6cKfQpKEJpcI"
      },
      "source": [
        "# 建立模型:\n",
        "# 參考\n",
        "1.https://towardsdatascience.com/residual-networks-resnets-cb474c7c834a\n",
        "2.https://jmyao17.github.io/Machine_Learning/Neural_Network/ResNet/ResNet.html"
      ]
    },
    {
      "cell_type": "code",
      "execution_count": null,
      "metadata": {
        "id": "qFQPURp1x49S"
      },
      "outputs": [],
      "source": [
        "from keras.layers import Input, Add, Dense, Activation, ZeroPadding2D, BatchNormalization, Flatten, Conv2D, AveragePooling2D, MaxPooling2D, GlobalMaxPooling2D\n",
        "from keras.initializers import glorot_uniform\n",
        "import tensorflow as tf\n"
      ]
    },
    {
      "cell_type": "code",
      "execution_count": null,
      "metadata": {
        "id": "w4PDeuqIx6CA"
      },
      "outputs": [],
      "source": [
        "def identity_block(X,f,filters,stage,block):\n",
        "  conv_name_base = \"res\" + str(stage) + block + \"_branch\"\n",
        "  bn_name_base = \"bn\" + str(stage) + block + \"_branch\"\n",
        "\n",
        "  F1,F2,F3 = filters\n",
        "\n",
        "  X_shortcut = X\n",
        "\n",
        "\n",
        "  X = Conv2D(filters = F1,kernel_size = (1,1),strides = (1,1),padding = \"valid\",name = conv_name_base + \"2a\",kernel_initializer = glorot_uniform(seed = 0))(X)\n",
        "  X = BatchNormalization(axis = 3,name = bn_name_base + \"2a\")(X)\n",
        "  X = Activation(\"relu\")(X)\n",
        "\n",
        "  X = Conv2D(filters = F2,kernel_size = (f,f),strides = (1,1),padding = \"same\",name = conv_name_base + \"2b\",kernel_initializer = glorot_uniform(seed = 0))(X)\n",
        "  X = BatchNormalization(axis = 3,name = bn_name_base + \"2b\")(X)\n",
        "  X = Activation(\"relu\")(X)\n",
        "\n",
        "  X = Conv2D(filters = F3,kernel_size = (1,1),strides = (1,1),padding = \"valid\",name = conv_name_base + \"2c\",kernel_initializer = glorot_uniform(seed = 0))(X)\n",
        "  X = BatchNormalization(axis = 3,name = bn_name_base + \"2c\")(X)\n",
        "\n",
        "  X = layers.Add()([X,X_shortcut])\n",
        "  X = Activation(\"relu\")(X)\n",
        "\n",
        "  return X\n"
      ]
    },
    {
      "cell_type": "code",
      "execution_count": null,
      "metadata": {
        "id": "6ShyPqMgPNqA"
      },
      "outputs": [],
      "source": [
        "\n",
        "def convolutional_block(X,f,filters,stage,block,s = 2):\n",
        "\n",
        "  conv_name_base = \"res\" + str(stage) + block + \"_branch\"\n",
        "  bn_name_base = \"bn\" + str(stage) + block + \"_branch\"\n",
        "\n",
        "  F1,F2,F3 = filters\n",
        "\n",
        "  X_shortcut = X\n",
        "\n",
        "  X = Conv2D(F1,(1,1),strides=(s,s),name = conv_name_base + \"2a\",kernel_initializer = glorot_uniform(seed = 0),padding=\"valid\")(X)\n",
        "  X = BatchNormalization(axis = 3,name = bn_name_base + \"2a\")(X)\n",
        "  X = Activation(\"relu\")(X)\n",
        "\n",
        "  X = Conv2D(F2,(f,f),strides=(1,1),padding = \"same\",name = conv_name_base + \"2b\",kernel_initializer = glorot_uniform(seed = 0))(X)\n",
        "  X = BatchNormalization(axis = 3,name = bn_name_base + \"2b\")(X)\n",
        "  X = Activation(\"relu\")(X)\n",
        "\n",
        "  X = Conv2D(F3,(1,1),strides=(1,1),name = conv_name_base + \"2c\",kernel_initializer = glorot_uniform(seed = 0),padding=\"valid\")(X)\n",
        "  X = BatchNormalization(axis = 3,name = bn_name_base + \"2c\")(X)\n",
        "\n",
        "  X_shortcut = Conv2D(F3,(1,1),strides=(s,s),name = conv_name_base + \"1\",kernel_initializer = glorot_uniform(seed = 0),padding=\"valid\")(X_shortcut)\n",
        "  X_shortcut = BatchNormalization(axis = 3,name = bn_name_base + \"1\")(X_shortcut)\n",
        "\n",
        "  X = layers.Add()([X,X_shortcut])\n",
        "  X = Activation(\"relu\")(X)\n",
        "\n",
        "  return X"
      ]
    },
    {
      "cell_type": "markdown",
      "metadata": {
        "id": "wBWRvSIUXrKB"
      },
      "source": [
        "# 注意不可使用範例模型層指定大小,由於圖片27*27\n",
        "# 而不是64*64,因此會有負維度出現\n",
        "\n"
      ]
    },
    {
      "cell_type": "code",
      "execution_count": null,
      "metadata": {
        "id": "dujZSJlqRimf"
      },
      "outputs": [],
      "source": [
        "def ResNet50(input_shape=(27,27,3),classes = 9):\n",
        "  X_input = Input(input_shape)\n",
        "\n",
        "  X = ZeroPadding2D((1,1))(X_input)\n",
        "\n",
        "  X = Conv2D(64,(3,3),name = \"conv1\",kernel_initializer = glorot_uniform(seed=0))(X)\n",
        "  X = BatchNormalization(axis = 3,name = \"bn_conv1\")(X)\n",
        "  X = Activation(\"relu\")(X)\n",
        "  X = MaxPooling2D((2,2))(X)\n",
        "\n",
        "  X = convolutional_block(X,f = 3,filters = [32,32,128],stage = 2,block = \"a\",s = 1)\n",
        "  X = identity_block(X,3,[32,32,128], stage = 2, block = \"b\")\n",
        "  X = identity_block(X,3,[32,32,128], stage = 2, block = \"c\")\n",
        "\n",
        "  X = convolutional_block(X,f = 3,filters = [64,64,256],stage = 3,block = \"a\",s = 2)\n",
        "  X = identity_block(X,3,[64,64,256], stage = 3, block = \"b\")\n",
        "  X = identity_block(X,3,[64,64,256], stage = 3, block = \"c\")\n",
        "  X = identity_block(X,3,[64,64,256], stage = 3, block = \"d\")\n",
        "\n",
        "  X = convolutional_block(X,f = 3,filters = [128,128,512],stage = 4,block = \"a\",s = 2)\n",
        "  X = identity_block(X,3,[128,128,512], stage = 4, block = \"b\")\n",
        "  X = identity_block(X,3,[128,128,512], stage = 4, block = \"c\")\n",
        "  X = identity_block(X,3,[128,128,512], stage = 4, block = \"d\")\n",
        "  X = identity_block(X,3,[128,128,512], stage = 4, block = \"e\")\n",
        "  X = identity_block(X,3,[128,128,512], stage = 4, block = \"f\")\n",
        "\n",
        "  X = convolutional_block(X,f = 3,filters = [256,256,1024],stage = 5,block = \"a\",s = 2)\n",
        "  X = identity_block(X,3,[256,256,1024], stage = 5, block = \"b\")\n",
        "  X = identity_block(X,3,[256,256,1024], stage = 5, block = \"c\")\n",
        "\n",
        "  X = AveragePooling2D(pool_size = (2,2),name = \"avg_pool\")(X)  #平均池化\n",
        "\n",
        "  X = Flatten()(X)\n",
        "  X = Dense(classes,activation=\"softmax\",name=\"fc\" + str(classes),kernel_initializer = glorot_uniform(seed = 0))(X)\n",
        "\n",
        "  model = models.Model(inputs = X_input,outputs = X,name = \"ResNet50\")\n",
        "\n",
        "  return model\n",
        "\n"
      ]
    },
    {
      "cell_type": "code",
      "execution_count": null,
      "metadata": {
        "id": "kS7mIIG9cey-"
      },
      "outputs": [],
      "source": [
        "resnet50_model = ResNet50(input_shape = (27,27,3),classes = 9)\n",
        "resnet50_model.compile(optimizer = optimizers.Adam(learning_rate=0.001),loss=\"categorical_crossentropy\",metrics=[\"accuracy\"])\n"
      ]
    },
    {
      "cell_type": "code",
      "execution_count": null,
      "metadata": {
        "colab": {
          "base_uri": "https://localhost:8080/"
        },
        "id": "V4osDf1oo8Tw",
        "outputId": "95b2010e-225a-471d-e3d7-f1be7b584e94"
      },
      "outputs": [
        {
          "name": "stdout",
          "output_type": "stream",
          "text": [
            "[[[[1. 0. 0.]\n",
            "   [1. 0. 0.]\n",
            "   [1. 0. 0.]\n",
            "   ...\n",
            "   [1. 0. 0.]\n",
            "   [1. 0. 0.]\n",
            "   [1. 0. 0.]]\n",
            "\n",
            "  [[1. 0. 0.]\n",
            "   [1. 0. 0.]\n",
            "   [1. 0. 0.]\n",
            "   ...\n",
            "   [1. 0. 0.]\n",
            "   [1. 0. 0.]\n",
            "   [1. 0. 0.]]\n",
            "\n",
            "  [[1. 0. 0.]\n",
            "   [1. 0. 0.]\n",
            "   [1. 0. 0.]\n",
            "   ...\n",
            "   [1. 0. 0.]\n",
            "   [1. 0. 0.]\n",
            "   [1. 0. 0.]]\n",
            "\n",
            "  ...\n",
            "\n",
            "  [[1. 0. 0.]\n",
            "   [1. 0. 0.]\n",
            "   [1. 0. 0.]\n",
            "   ...\n",
            "   [1. 0. 0.]\n",
            "   [1. 0. 0.]\n",
            "   [1. 0. 0.]]\n",
            "\n",
            "  [[1. 0. 0.]\n",
            "   [1. 0. 0.]\n",
            "   [1. 0. 0.]\n",
            "   ...\n",
            "   [1. 0. 0.]\n",
            "   [1. 0. 0.]\n",
            "   [1. 0. 0.]]\n",
            "\n",
            "  [[1. 0. 0.]\n",
            "   [1. 0. 0.]\n",
            "   [1. 0. 0.]\n",
            "   ...\n",
            "   [1. 0. 0.]\n",
            "   [1. 0. 0.]\n",
            "   [1. 0. 0.]]]\n",
            "\n",
            "\n",
            " [[[1. 0. 0.]\n",
            "   [1. 0. 0.]\n",
            "   [1. 0. 0.]\n",
            "   ...\n",
            "   [1. 0. 0.]\n",
            "   [1. 0. 0.]\n",
            "   [1. 0. 0.]]\n",
            "\n",
            "  [[1. 0. 0.]\n",
            "   [1. 0. 0.]\n",
            "   [1. 0. 0.]\n",
            "   ...\n",
            "   [1. 0. 0.]\n",
            "   [1. 0. 0.]\n",
            "   [1. 0. 0.]]\n",
            "\n",
            "  [[1. 0. 0.]\n",
            "   [1. 0. 0.]\n",
            "   [1. 0. 0.]\n",
            "   ...\n",
            "   [1. 0. 0.]\n",
            "   [1. 0. 0.]\n",
            "   [1. 0. 0.]]\n",
            "\n",
            "  ...\n",
            "\n",
            "  [[1. 0. 0.]\n",
            "   [1. 0. 0.]\n",
            "   [1. 0. 0.]\n",
            "   ...\n",
            "   [1. 0. 0.]\n",
            "   [1. 0. 0.]\n",
            "   [1. 0. 0.]]\n",
            "\n",
            "  [[1. 0. 0.]\n",
            "   [1. 0. 0.]\n",
            "   [1. 0. 0.]\n",
            "   ...\n",
            "   [1. 0. 0.]\n",
            "   [1. 0. 0.]\n",
            "   [1. 0. 0.]]\n",
            "\n",
            "  [[1. 0. 0.]\n",
            "   [1. 0. 0.]\n",
            "   [1. 0. 0.]\n",
            "   ...\n",
            "   [1. 0. 0.]\n",
            "   [1. 0. 0.]\n",
            "   [1. 0. 0.]]]\n",
            "\n",
            "\n",
            " [[[1. 0. 0.]\n",
            "   [1. 0. 0.]\n",
            "   [1. 0. 0.]\n",
            "   ...\n",
            "   [1. 0. 0.]\n",
            "   [1. 0. 0.]\n",
            "   [1. 0. 0.]]\n",
            "\n",
            "  [[1. 0. 0.]\n",
            "   [1. 0. 0.]\n",
            "   [1. 0. 0.]\n",
            "   ...\n",
            "   [1. 0. 0.]\n",
            "   [1. 0. 0.]\n",
            "   [1. 0. 0.]]\n",
            "\n",
            "  [[1. 0. 0.]\n",
            "   [1. 0. 0.]\n",
            "   [1. 0. 0.]\n",
            "   ...\n",
            "   [1. 0. 0.]\n",
            "   [1. 0. 0.]\n",
            "   [1. 0. 0.]]\n",
            "\n",
            "  ...\n",
            "\n",
            "  [[1. 0. 0.]\n",
            "   [1. 0. 0.]\n",
            "   [1. 0. 0.]\n",
            "   ...\n",
            "   [1. 0. 0.]\n",
            "   [1. 0. 0.]\n",
            "   [1. 0. 0.]]\n",
            "\n",
            "  [[1. 0. 0.]\n",
            "   [1. 0. 0.]\n",
            "   [1. 0. 0.]\n",
            "   ...\n",
            "   [1. 0. 0.]\n",
            "   [1. 0. 0.]\n",
            "   [1. 0. 0.]]\n",
            "\n",
            "  [[1. 0. 0.]\n",
            "   [1. 0. 0.]\n",
            "   [1. 0. 0.]\n",
            "   ...\n",
            "   [1. 0. 0.]\n",
            "   [1. 0. 0.]\n",
            "   [1. 0. 0.]]]\n",
            "\n",
            "\n",
            " ...\n",
            "\n",
            "\n",
            " [[[1. 0. 0.]\n",
            "   [1. 0. 0.]\n",
            "   [1. 0. 0.]\n",
            "   ...\n",
            "   [1. 0. 0.]\n",
            "   [1. 0. 0.]\n",
            "   [1. 0. 0.]]\n",
            "\n",
            "  [[1. 0. 0.]\n",
            "   [1. 0. 0.]\n",
            "   [1. 0. 0.]\n",
            "   ...\n",
            "   [1. 0. 0.]\n",
            "   [1. 0. 0.]\n",
            "   [1. 0. 0.]]\n",
            "\n",
            "  [[1. 0. 0.]\n",
            "   [1. 0. 0.]\n",
            "   [1. 0. 0.]\n",
            "   ...\n",
            "   [1. 0. 0.]\n",
            "   [1. 0. 0.]\n",
            "   [1. 0. 0.]]\n",
            "\n",
            "  ...\n",
            "\n",
            "  [[1. 0. 0.]\n",
            "   [1. 0. 0.]\n",
            "   [1. 0. 0.]\n",
            "   ...\n",
            "   [1. 0. 0.]\n",
            "   [1. 0. 0.]\n",
            "   [1. 0. 0.]]\n",
            "\n",
            "  [[1. 0. 0.]\n",
            "   [1. 0. 0.]\n",
            "   [1. 0. 0.]\n",
            "   ...\n",
            "   [1. 0. 0.]\n",
            "   [1. 0. 0.]\n",
            "   [1. 0. 0.]]\n",
            "\n",
            "  [[1. 0. 0.]\n",
            "   [1. 0. 0.]\n",
            "   [1. 0. 0.]\n",
            "   ...\n",
            "   [1. 0. 0.]\n",
            "   [1. 0. 0.]\n",
            "   [1. 0. 0.]]]\n",
            "\n",
            "\n",
            " [[[1. 0. 0.]\n",
            "   [1. 0. 0.]\n",
            "   [1. 0. 0.]\n",
            "   ...\n",
            "   [1. 0. 0.]\n",
            "   [1. 0. 0.]\n",
            "   [1. 0. 0.]]\n",
            "\n",
            "  [[1. 0. 0.]\n",
            "   [1. 0. 0.]\n",
            "   [1. 0. 0.]\n",
            "   ...\n",
            "   [1. 0. 0.]\n",
            "   [1. 0. 0.]\n",
            "   [1. 0. 0.]]\n",
            "\n",
            "  [[1. 0. 0.]\n",
            "   [1. 0. 0.]\n",
            "   [1. 0. 0.]\n",
            "   ...\n",
            "   [1. 0. 0.]\n",
            "   [1. 0. 0.]\n",
            "   [1. 0. 0.]]\n",
            "\n",
            "  ...\n",
            "\n",
            "  [[1. 0. 0.]\n",
            "   [1. 0. 0.]\n",
            "   [1. 0. 0.]\n",
            "   ...\n",
            "   [1. 0. 0.]\n",
            "   [1. 0. 0.]\n",
            "   [1. 0. 0.]]\n",
            "\n",
            "  [[1. 0. 0.]\n",
            "   [1. 0. 0.]\n",
            "   [1. 0. 0.]\n",
            "   ...\n",
            "   [1. 0. 0.]\n",
            "   [1. 0. 0.]\n",
            "   [1. 0. 0.]]\n",
            "\n",
            "  [[1. 0. 0.]\n",
            "   [1. 0. 0.]\n",
            "   [1. 0. 0.]\n",
            "   ...\n",
            "   [1. 0. 0.]\n",
            "   [1. 0. 0.]\n",
            "   [1. 0. 0.]]]\n",
            "\n",
            "\n",
            " [[[1. 0. 0.]\n",
            "   [1. 0. 0.]\n",
            "   [1. 0. 0.]\n",
            "   ...\n",
            "   [1. 0. 0.]\n",
            "   [1. 0. 0.]\n",
            "   [1. 0. 0.]]\n",
            "\n",
            "  [[1. 0. 0.]\n",
            "   [1. 0. 0.]\n",
            "   [1. 0. 0.]\n",
            "   ...\n",
            "   [1. 0. 0.]\n",
            "   [1. 0. 0.]\n",
            "   [1. 0. 0.]]\n",
            "\n",
            "  [[1. 0. 0.]\n",
            "   [1. 0. 0.]\n",
            "   [1. 0. 0.]\n",
            "   ...\n",
            "   [1. 0. 0.]\n",
            "   [1. 0. 0.]\n",
            "   [1. 0. 0.]]\n",
            "\n",
            "  ...\n",
            "\n",
            "  [[1. 0. 0.]\n",
            "   [1. 0. 0.]\n",
            "   [1. 0. 0.]\n",
            "   ...\n",
            "   [1. 0. 0.]\n",
            "   [1. 0. 0.]\n",
            "   [1. 0. 0.]]\n",
            "\n",
            "  [[1. 0. 0.]\n",
            "   [1. 0. 0.]\n",
            "   [1. 0. 0.]\n",
            "   ...\n",
            "   [1. 0. 0.]\n",
            "   [1. 0. 0.]\n",
            "   [1. 0. 0.]]\n",
            "\n",
            "  [[1. 0. 0.]\n",
            "   [1. 0. 0.]\n",
            "   [1. 0. 0.]\n",
            "   ...\n",
            "   [1. 0. 0.]\n",
            "   [1. 0. 0.]\n",
            "   [1. 0. 0.]]]]\n"
          ]
        }
      ],
      "source": [
        "print(one_hot_x_train)"
      ]
    },
    {
      "cell_type": "code",
      "execution_count": null,
      "metadata": {
        "id": "lBUwx5UhpClu"
      },
      "outputs": [],
      "source": [
        "one_hot_x_train = np.delete(one_hot_x_train,(0,0,0,0),1)"
      ]
    },
    {
      "cell_type": "code",
      "execution_count": null,
      "metadata": {
        "id": "-y90MLyHpj9L"
      },
      "outputs": [],
      "source": [
        "one_hot_x_train = np.delete(one_hot_x_train,(0,0,0,0),2)"
      ]
    },
    {
      "cell_type": "code",
      "execution_count": null,
      "metadata": {
        "id": "UOH4kiaWrfEw"
      },
      "outputs": [],
      "source": [
        "one_hot_x_train = np.pad(one_hot_x_train, ((0,0),(1,0),(1,0),(0,0)), mode='constant', constant_values = (0,0))"
      ]
    },
    {
      "cell_type": "code",
      "execution_count": null,
      "metadata": {
        "colab": {
          "base_uri": "https://localhost:8080/"
        },
        "id": "5A-6RXvhrmJV",
        "outputId": "af4d5f55-1e83-46b2-a3ac-cc1434604811"
      },
      "outputs": [
        {
          "name": "stdout",
          "output_type": "stream",
          "text": [
            "(15063, 27, 27, 3)\n"
          ]
        }
      ],
      "source": [
        "print(one_hot_x_train.shape)"
      ]
    },
    {
      "cell_type": "code",
      "execution_count": null,
      "metadata": {
        "colab": {
          "base_uri": "https://localhost:8080/"
        },
        "id": "gt-nszgVsHkg",
        "outputId": "5716f641-8b9f-4a1d-ad34-cec662c034d0"
      },
      "outputs": [
        {
          "name": "stdout",
          "output_type": "stream",
          "text": [
            "[['8']\n",
            " ['0']\n",
            " ['8']\n",
            " ...\n",
            " ['8']\n",
            " ['0']\n",
            " ['8']]\n"
          ]
        }
      ],
      "source": [
        "for i,j in enumerate(total):\n",
        "  y_train[y_train==j] = i\n",
        "print(y_train)\n",
        "y_train = to_categorical(y_train)"
      ]
    },
    {
      "cell_type": "markdown",
      "source": [
        "# 模型呈現\n",
        "**(由於colab沒買會員,因此這裡採用vscode編譯後的畫面)**\n",
        "\n",
        "![螢幕擷取畫面 2023-04-10 013301.png](data:image/png;base64,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)\n",
        "\n",
        "\n"
      ],
      "metadata": {
        "id": "x62OIYgtPnMH"
      }
    },
    {
      "cell_type": "code",
      "execution_count": null,
      "metadata": {
        "colab": {
          "background_save": true,
          "base_uri": "https://localhost:8080/"
        },
        "id": "oj2z_rcti2mQ",
        "outputId": "29ea1fb1-09fe-4313-aabe-4185cb238548"
      },
      "outputs": [
        {
          "name": "stdout",
          "output_type": "stream",
          "text": [
            "Epoch 1/30\n",
            "26/26 [==============================] - 540s 20s/step - loss: 0.6695 - accuracy: 0.8679\n",
            "Epoch 2/30\n",
            "26/26 [==============================] - 499s 19s/step - loss: 0.2410 - accuracy: 0.9414\n",
            "Epoch 3/30\n",
            "26/26 [==============================] - 462s 18s/step - loss: 0.1270 - accuracy: 0.9626\n",
            "Epoch 4/30\n",
            "26/26 [==============================] - 462s 18s/step - loss: 0.0808 - accuracy: 0.9742\n",
            "Epoch 5/30\n",
            "26/26 [==============================] - 458s 18s/step - loss: 0.0815 - accuracy: 0.9759\n",
            "Epoch 6/30\n",
            "26/26 [==============================] - 460s 18s/step - loss: 0.0416 - accuracy: 0.9869\n",
            "Epoch 7/30\n",
            "26/26 [==============================] - 451s 17s/step - loss: 0.0250 - accuracy: 0.9911\n",
            "Epoch 8/30\n",
            "14/26 [===============>..............] - ETA: 3:35 - loss: 0.0262 - accuracy: 0.9915"
          ]
        }
      ],
      "source": [
        "history = resnet50_model.fit(one_hot_x_train,y_train,epochs=30,validation_batch_size=[one_hot_x_test,y_test],batch_size=600,shuffle=True)"
      ]
    },
    {
      "cell_type": "markdown",
      "source": [
        "# 總結一下整個流程\n",
        "\n",
        "1.   資料分析\n",
        "2.   尺寸統一處理\n",
        "\n",
        "3.   切割資料\n",
        "4.   圖像增強(未做)\n",
        "5.   建立模型並訓練\n",
        "6.   acc:0.96,loss:0.07  (做三次取中位數)\n",
        "\n"
      ],
      "metadata": {
        "id": "0kr7lWzMQWEm"
      }
    }
  ],
  "metadata": {
    "colab": {
      "provenance": [],
      "authorship_tag": "ABX9TyOhUk/S5/JwaTbUcARnmgS4",
      "include_colab_link": true
    },
    "kernelspec": {
      "display_name": "Python 3",
      "name": "python3"
    },
    "language_info": {
      "name": "python"
    }
  },
  "nbformat": 4,
  "nbformat_minor": 0
}